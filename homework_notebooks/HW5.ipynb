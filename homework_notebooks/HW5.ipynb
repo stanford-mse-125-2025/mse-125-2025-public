{
  "cells": [
    {
      "cell_type": "markdown",
      "id": "6b3f2858",
      "metadata": {
        "id": "6b3f2858"
      },
      "source": [
        "# Homework 5: Simple Linear Regression"
      ]
    },
    {
      "cell_type": "markdown",
      "id": "Ia5iFo3B8zi8",
      "metadata": {
        "id": "Ia5iFo3B8zi8"
      },
      "source": [
        "**!!! IMPORTANT, DO NOT PROCEED BEFORE COMPLETING THE STEP BELOW !!!**\n",
        "\n",
        "If you haven't already, please make a copy of this notebook and save to your Google Drive. This is imperative so that your work is saved as you go."
      ]
    },
    {
      "cell_type": "markdown",
      "id": "MNX0zYMUZovk",
      "metadata": {
        "id": "MNX0zYMUZovk"
      },
      "source": [
        "**Due Date**: Thursday, May 15th at 11:59pm.\n",
        "\n",
        "**Submission Instructions**:\n",
        "- Download the notebook: Go to File --> Download --> Download .ipynb.\n",
        "- Upload the notebook: Click the Files icon (left side under the Key icon) --> Click the Upload icon (left most of 4) --> Select the file you just downloaded.\n",
        "- Run the last cell in this notebook.\n",
        "- Find the new pdf file in the same location as your uploaded notebook.\n",
        "- Click the 3 vertical dots for this pdf file --> Click Download.\n",
        "- IMPORTANT: check that your pdf file has not cut off any work from your notebook.\n",
        "- Upload the pdf to Gradescope.\n",
        "\n",
        "**Learning Outcomes**:\n",
        "- Build a simple linear regression model.\n",
        "- Use simple linear regression for inference.\n",
        "- Use bootstrapping to compute standard errors and confidence intervals for regression coefficients.\n",
        "- Understand how and why we might want to log transform a variable."
      ]
    },
    {
      "cell_type": "markdown",
      "id": "E03KqXvk2rNn",
      "metadata": {
        "id": "E03KqXvk2rNn"
      },
      "source": [
        "## Set up"
      ]
    },
    {
      "cell_type": "markdown",
      "id": "BzgR3bkI2s_r",
      "metadata": {
        "id": "BzgR3bkI2s_r"
      },
      "source": [
        "Run the cell below to import the libraries and packages we are going to use. The cleanest way to fit a linear regression model in Python is to use the formula API from the `statsmodels` package."
      ]
    },
    {
      "cell_type": "code",
      "execution_count": 1,
      "id": "XR__IOEm2sjE",
      "metadata": {
        "id": "XR__IOEm2sjE"
      },
      "outputs": [],
      "source": [
        "import numpy as np\n",
        "import pandas as pd\n",
        "from scipy import stats\n",
        "import statsmodels.api as sm\n",
        "from statsmodels.formula.api import ols\n",
        "import matplotlib.pyplot as plt\n",
        "import seaborn as sns\n",
        "sns.set_theme()"
      ]
    },
    {
      "cell_type": "markdown",
      "metadata": {
        "id": "qGgiWV9_N71B"
      },
      "source": [
        "## Exercise 1: Analyze survey responses\n",
        "\n",
        "Review the responses you received for your poll. Create one plot and summarize an interesting takeaway from the responses in 1 sentence."
      ],
      "id": "qGgiWV9_N71B"
    },
    {
      "cell_type": "code",
      "source": [
        "# Your code here!"
      ],
      "metadata": {
        "id": "eKC64pRNn8d6"
      },
      "id": "eKC64pRNn8d6",
      "execution_count": null,
      "outputs": []
    },
    {
      "cell_type": "markdown",
      "source": [
        "Your answer here!"
      ],
      "metadata": {
        "id": "Neqw5LO3OQHA"
      },
      "id": "Neqw5LO3OQHA"
    },
    {
      "cell_type": "markdown",
      "id": "z5DnPLMZJYyE",
      "metadata": {
        "id": "z5DnPLMZJYyE"
      },
      "source": [
        "## Exercise 2: Simple Linear Model\n",
        "\n",
        "We'll explore simple linear regression with a dataset of used cars. Our goal will be to predict the price of used cars based on the car's mileage. Use the following code to read and preview the dataset."
      ]
    },
    {
      "cell_type": "code",
      "execution_count": 2,
      "id": "3d973653",
      "metadata": {
        "colab": {
          "base_uri": "https://localhost:8080/",
          "height": 206
        },
        "id": "3d973653",
        "outputId": "a49b4d92-8cd1-4a8c-9f47-358087d5f282"
      },
      "outputs": [
        {
          "output_type": "execute_result",
          "data": {
            "text/plain": [
              "   type  year   make model                trim  mileage  price\n",
              "0  USED  2010  Acura    TL                Base    73936  19388\n",
              "1  USED  2012  Acura   MDX  Technology Package    32453  34898\n",
              "2  USED  2010  Acura    TL                Base    34302  22000\n",
              "3  USED  2009  Acura    TL              SH-AWD    98772  17988\n",
              "4  USED  2007  Acura   MDX                Base    65677  22777"
            ],
            "text/html": [
              "\n",
              "  <div id=\"df-3ef1168b-9820-4f58-a4cb-a620bcc42906\" class=\"colab-df-container\">\n",
              "    <div>\n",
              "<style scoped>\n",
              "    .dataframe tbody tr th:only-of-type {\n",
              "        vertical-align: middle;\n",
              "    }\n",
              "\n",
              "    .dataframe tbody tr th {\n",
              "        vertical-align: top;\n",
              "    }\n",
              "\n",
              "    .dataframe thead th {\n",
              "        text-align: right;\n",
              "    }\n",
              "</style>\n",
              "<table border=\"1\" class=\"dataframe\">\n",
              "  <thead>\n",
              "    <tr style=\"text-align: right;\">\n",
              "      <th></th>\n",
              "      <th>type</th>\n",
              "      <th>year</th>\n",
              "      <th>make</th>\n",
              "      <th>model</th>\n",
              "      <th>trim</th>\n",
              "      <th>mileage</th>\n",
              "      <th>price</th>\n",
              "    </tr>\n",
              "  </thead>\n",
              "  <tbody>\n",
              "    <tr>\n",
              "      <th>0</th>\n",
              "      <td>USED</td>\n",
              "      <td>2010</td>\n",
              "      <td>Acura</td>\n",
              "      <td>TL</td>\n",
              "      <td>Base</td>\n",
              "      <td>73936</td>\n",
              "      <td>19388</td>\n",
              "    </tr>\n",
              "    <tr>\n",
              "      <th>1</th>\n",
              "      <td>USED</td>\n",
              "      <td>2012</td>\n",
              "      <td>Acura</td>\n",
              "      <td>MDX</td>\n",
              "      <td>Technology Package</td>\n",
              "      <td>32453</td>\n",
              "      <td>34898</td>\n",
              "    </tr>\n",
              "    <tr>\n",
              "      <th>2</th>\n",
              "      <td>USED</td>\n",
              "      <td>2010</td>\n",
              "      <td>Acura</td>\n",
              "      <td>TL</td>\n",
              "      <td>Base</td>\n",
              "      <td>34302</td>\n",
              "      <td>22000</td>\n",
              "    </tr>\n",
              "    <tr>\n",
              "      <th>3</th>\n",
              "      <td>USED</td>\n",
              "      <td>2009</td>\n",
              "      <td>Acura</td>\n",
              "      <td>TL</td>\n",
              "      <td>SH-AWD</td>\n",
              "      <td>98772</td>\n",
              "      <td>17988</td>\n",
              "    </tr>\n",
              "    <tr>\n",
              "      <th>4</th>\n",
              "      <td>USED</td>\n",
              "      <td>2007</td>\n",
              "      <td>Acura</td>\n",
              "      <td>MDX</td>\n",
              "      <td>Base</td>\n",
              "      <td>65677</td>\n",
              "      <td>22777</td>\n",
              "    </tr>\n",
              "  </tbody>\n",
              "</table>\n",
              "</div>\n",
              "    <div class=\"colab-df-buttons\">\n",
              "\n",
              "  <div class=\"colab-df-container\">\n",
              "    <button class=\"colab-df-convert\" onclick=\"convertToInteractive('df-3ef1168b-9820-4f58-a4cb-a620bcc42906')\"\n",
              "            title=\"Convert this dataframe to an interactive table.\"\n",
              "            style=\"display:none;\">\n",
              "\n",
              "  <svg xmlns=\"http://www.w3.org/2000/svg\" height=\"24px\" viewBox=\"0 -960 960 960\">\n",
              "    <path d=\"M120-120v-720h720v720H120Zm60-500h600v-160H180v160Zm220 220h160v-160H400v160Zm0 220h160v-160H400v160ZM180-400h160v-160H180v160Zm440 0h160v-160H620v160ZM180-180h160v-160H180v160Zm440 0h160v-160H620v160Z\"/>\n",
              "  </svg>\n",
              "    </button>\n",
              "\n",
              "  <style>\n",
              "    .colab-df-container {\n",
              "      display:flex;\n",
              "      gap: 12px;\n",
              "    }\n",
              "\n",
              "    .colab-df-convert {\n",
              "      background-color: #E8F0FE;\n",
              "      border: none;\n",
              "      border-radius: 50%;\n",
              "      cursor: pointer;\n",
              "      display: none;\n",
              "      fill: #1967D2;\n",
              "      height: 32px;\n",
              "      padding: 0 0 0 0;\n",
              "      width: 32px;\n",
              "    }\n",
              "\n",
              "    .colab-df-convert:hover {\n",
              "      background-color: #E2EBFA;\n",
              "      box-shadow: 0px 1px 2px rgba(60, 64, 67, 0.3), 0px 1px 3px 1px rgba(60, 64, 67, 0.15);\n",
              "      fill: #174EA6;\n",
              "    }\n",
              "\n",
              "    .colab-df-buttons div {\n",
              "      margin-bottom: 4px;\n",
              "    }\n",
              "\n",
              "    [theme=dark] .colab-df-convert {\n",
              "      background-color: #3B4455;\n",
              "      fill: #D2E3FC;\n",
              "    }\n",
              "\n",
              "    [theme=dark] .colab-df-convert:hover {\n",
              "      background-color: #434B5C;\n",
              "      box-shadow: 0px 1px 3px 1px rgba(0, 0, 0, 0.15);\n",
              "      filter: drop-shadow(0px 1px 2px rgba(0, 0, 0, 0.3));\n",
              "      fill: #FFFFFF;\n",
              "    }\n",
              "  </style>\n",
              "\n",
              "    <script>\n",
              "      const buttonEl =\n",
              "        document.querySelector('#df-3ef1168b-9820-4f58-a4cb-a620bcc42906 button.colab-df-convert');\n",
              "      buttonEl.style.display =\n",
              "        google.colab.kernel.accessAllowed ? 'block' : 'none';\n",
              "\n",
              "      async function convertToInteractive(key) {\n",
              "        const element = document.querySelector('#df-3ef1168b-9820-4f58-a4cb-a620bcc42906');\n",
              "        const dataTable =\n",
              "          await google.colab.kernel.invokeFunction('convertToInteractive',\n",
              "                                                    [key], {});\n",
              "        if (!dataTable) return;\n",
              "\n",
              "        const docLinkHtml = 'Like what you see? Visit the ' +\n",
              "          '<a target=\"_blank\" href=https://colab.research.google.com/notebooks/data_table.ipynb>data table notebook</a>'\n",
              "          + ' to learn more about interactive tables.';\n",
              "        element.innerHTML = '';\n",
              "        dataTable['output_type'] = 'display_data';\n",
              "        await google.colab.output.renderOutput(dataTable, element);\n",
              "        const docLink = document.createElement('div');\n",
              "        docLink.innerHTML = docLinkHtml;\n",
              "        element.appendChild(docLink);\n",
              "      }\n",
              "    </script>\n",
              "  </div>\n",
              "\n",
              "\n",
              "    <div id=\"df-b472f3fe-0b4f-4dab-ab6f-ad7db7103885\">\n",
              "      <button class=\"colab-df-quickchart\" onclick=\"quickchart('df-b472f3fe-0b4f-4dab-ab6f-ad7db7103885')\"\n",
              "                title=\"Suggest charts\"\n",
              "                style=\"display:none;\">\n",
              "\n",
              "<svg xmlns=\"http://www.w3.org/2000/svg\" height=\"24px\"viewBox=\"0 0 24 24\"\n",
              "     width=\"24px\">\n",
              "    <g>\n",
              "        <path d=\"M19 3H5c-1.1 0-2 .9-2 2v14c0 1.1.9 2 2 2h14c1.1 0 2-.9 2-2V5c0-1.1-.9-2-2-2zM9 17H7v-7h2v7zm4 0h-2V7h2v10zm4 0h-2v-4h2v4z\"/>\n",
              "    </g>\n",
              "</svg>\n",
              "      </button>\n",
              "\n",
              "<style>\n",
              "  .colab-df-quickchart {\n",
              "      --bg-color: #E8F0FE;\n",
              "      --fill-color: #1967D2;\n",
              "      --hover-bg-color: #E2EBFA;\n",
              "      --hover-fill-color: #174EA6;\n",
              "      --disabled-fill-color: #AAA;\n",
              "      --disabled-bg-color: #DDD;\n",
              "  }\n",
              "\n",
              "  [theme=dark] .colab-df-quickchart {\n",
              "      --bg-color: #3B4455;\n",
              "      --fill-color: #D2E3FC;\n",
              "      --hover-bg-color: #434B5C;\n",
              "      --hover-fill-color: #FFFFFF;\n",
              "      --disabled-bg-color: #3B4455;\n",
              "      --disabled-fill-color: #666;\n",
              "  }\n",
              "\n",
              "  .colab-df-quickchart {\n",
              "    background-color: var(--bg-color);\n",
              "    border: none;\n",
              "    border-radius: 50%;\n",
              "    cursor: pointer;\n",
              "    display: none;\n",
              "    fill: var(--fill-color);\n",
              "    height: 32px;\n",
              "    padding: 0;\n",
              "    width: 32px;\n",
              "  }\n",
              "\n",
              "  .colab-df-quickchart:hover {\n",
              "    background-color: var(--hover-bg-color);\n",
              "    box-shadow: 0 1px 2px rgba(60, 64, 67, 0.3), 0 1px 3px 1px rgba(60, 64, 67, 0.15);\n",
              "    fill: var(--button-hover-fill-color);\n",
              "  }\n",
              "\n",
              "  .colab-df-quickchart-complete:disabled,\n",
              "  .colab-df-quickchart-complete:disabled:hover {\n",
              "    background-color: var(--disabled-bg-color);\n",
              "    fill: var(--disabled-fill-color);\n",
              "    box-shadow: none;\n",
              "  }\n",
              "\n",
              "  .colab-df-spinner {\n",
              "    border: 2px solid var(--fill-color);\n",
              "    border-color: transparent;\n",
              "    border-bottom-color: var(--fill-color);\n",
              "    animation:\n",
              "      spin 1s steps(1) infinite;\n",
              "  }\n",
              "\n",
              "  @keyframes spin {\n",
              "    0% {\n",
              "      border-color: transparent;\n",
              "      border-bottom-color: var(--fill-color);\n",
              "      border-left-color: var(--fill-color);\n",
              "    }\n",
              "    20% {\n",
              "      border-color: transparent;\n",
              "      border-left-color: var(--fill-color);\n",
              "      border-top-color: var(--fill-color);\n",
              "    }\n",
              "    30% {\n",
              "      border-color: transparent;\n",
              "      border-left-color: var(--fill-color);\n",
              "      border-top-color: var(--fill-color);\n",
              "      border-right-color: var(--fill-color);\n",
              "    }\n",
              "    40% {\n",
              "      border-color: transparent;\n",
              "      border-right-color: var(--fill-color);\n",
              "      border-top-color: var(--fill-color);\n",
              "    }\n",
              "    60% {\n",
              "      border-color: transparent;\n",
              "      border-right-color: var(--fill-color);\n",
              "    }\n",
              "    80% {\n",
              "      border-color: transparent;\n",
              "      border-right-color: var(--fill-color);\n",
              "      border-bottom-color: var(--fill-color);\n",
              "    }\n",
              "    90% {\n",
              "      border-color: transparent;\n",
              "      border-bottom-color: var(--fill-color);\n",
              "    }\n",
              "  }\n",
              "</style>\n",
              "\n",
              "      <script>\n",
              "        async function quickchart(key) {\n",
              "          const quickchartButtonEl =\n",
              "            document.querySelector('#' + key + ' button');\n",
              "          quickchartButtonEl.disabled = true;  // To prevent multiple clicks.\n",
              "          quickchartButtonEl.classList.add('colab-df-spinner');\n",
              "          try {\n",
              "            const charts = await google.colab.kernel.invokeFunction(\n",
              "                'suggestCharts', [key], {});\n",
              "          } catch (error) {\n",
              "            console.error('Error during call to suggestCharts:', error);\n",
              "          }\n",
              "          quickchartButtonEl.classList.remove('colab-df-spinner');\n",
              "          quickchartButtonEl.classList.add('colab-df-quickchart-complete');\n",
              "        }\n",
              "        (() => {\n",
              "          let quickchartButtonEl =\n",
              "            document.querySelector('#df-b472f3fe-0b4f-4dab-ab6f-ad7db7103885 button');\n",
              "          quickchartButtonEl.style.display =\n",
              "            google.colab.kernel.accessAllowed ? 'block' : 'none';\n",
              "        })();\n",
              "      </script>\n",
              "    </div>\n",
              "\n",
              "    </div>\n",
              "  </div>\n"
            ],
            "application/vnd.google.colaboratory.intrinsic+json": {
              "type": "dataframe",
              "variable_name": "cars",
              "summary": "{\n  \"name\": \"cars\",\n  \"rows\": 1286,\n  \"fields\": [\n    {\n      \"column\": \"type\",\n      \"properties\": {\n        \"dtype\": \"category\",\n        \"num_unique_values\": 1,\n        \"samples\": [\n          \"USED\"\n        ],\n        \"semantic_type\": \"\",\n        \"description\": \"\"\n      }\n    },\n    {\n      \"column\": \"year\",\n      \"properties\": {\n        \"dtype\": \"number\",\n        \"std\": 3,\n        \"min\": 2000,\n        \"max\": 2013,\n        \"num_unique_values\": 14,\n        \"samples\": [\n          2005\n        ],\n        \"semantic_type\": \"\",\n        \"description\": \"\"\n      }\n    },\n    {\n      \"column\": \"make\",\n      \"properties\": {\n        \"dtype\": \"category\",\n        \"num_unique_values\": 8,\n        \"samples\": [\n          \"Audi\"\n        ],\n        \"semantic_type\": \"\",\n        \"description\": \"\"\n      }\n    },\n    {\n      \"column\": \"model\",\n      \"properties\": {\n        \"dtype\": \"category\",\n        \"num_unique_values\": 10,\n        \"samples\": [\n          \"RX 350\"\n        ],\n        \"semantic_type\": \"\",\n        \"description\": \"\"\n      }\n    },\n    {\n      \"column\": \"trim\",\n      \"properties\": {\n        \"dtype\": \"category\",\n        \"num_unique_values\": 89,\n        \"samples\": [\n          \"EX V-6\"\n        ],\n        \"semantic_type\": \"\",\n        \"description\": \"\"\n      }\n    },\n    {\n      \"column\": \"mileage\",\n      \"properties\": {\n        \"dtype\": \"number\",\n        \"std\": 39721,\n        \"min\": 3939,\n        \"max\": 270961,\n        \"num_unique_values\": 1277,\n        \"samples\": [\n          23397\n        ],\n        \"semantic_type\": \"\",\n        \"description\": \"\"\n      }\n    },\n    {\n      \"column\": \"price\",\n      \"properties\": {\n        \"dtype\": \"number\",\n        \"std\": 8733,\n        \"min\": 3991,\n        \"max\": 43991,\n        \"num_unique_values\": 654,\n        \"samples\": [\n          29000\n        ],\n        \"semantic_type\": \"\",\n        \"description\": \"\"\n      }\n    }\n  ]\n}"
            }
          },
          "metadata": {},
          "execution_count": 2
        }
      ],
      "source": [
        "url = \"https://raw.githubusercontent.com/stanford-mse-125-2025/mse-125-2025-public/refs/heads/main/data/used_cars.tsv\"\n",
        "cars = pd.read_csv(url, sep=\"\\t\")\n",
        "cars.head()"
      ]
    },
    {
      "cell_type": "markdown",
      "id": "BLk1nBxSJYyE",
      "metadata": {
        "id": "BLk1nBxSJYyE"
      },
      "source": [
        "**Part (a):** Create a new dataset called `accords`. The dataset should only include rows corresponding to used Honda Accords. Using the `accords` data and the `ols` function, fit the following linear regression model:\n",
        "\n",
        "$y_{\\text{price},i} = \\beta_0 + \\beta_1 x_{\\text{mileage},i} + \\epsilon_i$, where $\\epsilon_i \\sim N(0, \\sigma^2)$.\n",
        "\n",
        "\n",
        "Print your regression output with the `summary` function.\n",
        "\n",
        "\n",
        "\n",
        "\n",
        "\n",
        "\n"
      ]
    },
    {
      "cell_type": "code",
      "execution_count": 3,
      "id": "_2eMlo0RJYyE",
      "metadata": {
        "id": "_2eMlo0RJYyE"
      },
      "outputs": [],
      "source": [
        "## Your code here!\n"
      ]
    },
    {
      "cell_type": "markdown",
      "id": "OwSx0K-c2Fkf",
      "metadata": {
        "id": "OwSx0K-c2Fkf"
      },
      "source": [
        "**Part (b):** Using your output from part (a), identify and interpret the following quantities in no more than one sentence each. Make sure to include units if applicable.\n",
        "\n",
        "\n",
        "* $\\hat{\\beta}_0$\n",
        "* $\\hat{\\beta}_1$\n",
        "* se($\\hat{\\beta}_0$)\n",
        "* se($\\hat{\\beta}_1$)"
      ]
    },
    {
      "cell_type": "markdown",
      "id": "74cDIRE-zQgS",
      "metadata": {
        "id": "74cDIRE-zQgS"
      },
      "source": [
        "Your answer here!\n",
        "\n",
        "\n",
        "\n"
      ]
    },
    {
      "cell_type": "markdown",
      "source": [
        "**Part (c):** Calculate a 95% confidence interval on your coefficients from your regression model."
      ],
      "metadata": {
        "id": "gqwc_wz7anqh"
      },
      "id": "gqwc_wz7anqh"
    },
    {
      "cell_type": "code",
      "source": [
        "# Your code here!\n"
      ],
      "metadata": {
        "id": "dhdDG2XEaogs"
      },
      "id": "dhdDG2XEaogs",
      "execution_count": 4,
      "outputs": []
    },
    {
      "cell_type": "markdown",
      "id": "4B1bZn1O2eQ9",
      "metadata": {
        "id": "4B1bZn1O2eQ9"
      },
      "source": [
        "**Part (d):** Create a scatterplot visualizing the linear relationship between the mileage of used Accords and their price. Add your simple linear regression line in red color and make sure to include axes labels and a title."
      ]
    },
    {
      "cell_type": "code",
      "execution_count": 5,
      "id": "qjjeZTPs2rK4",
      "metadata": {
        "id": "qjjeZTPs2rK4"
      },
      "outputs": [],
      "source": [
        "# Your code here!\n"
      ]
    },
    {
      "cell_type": "markdown",
      "id": "p_ifolRFJ136",
      "metadata": {
        "id": "p_ifolRFJ136"
      },
      "source": [
        "## Exercise 3: Prediction\n",
        "\n",
        "Using the predict function and your model from the previous exercise, predict the average price of a used Accord with an odometer reading of 50,000 miles. Provide a 95% confidence interval for this mean. Make sure to print your answers."
      ]
    },
    {
      "cell_type": "code",
      "execution_count": 6,
      "id": "GemUshGj1I4D",
      "metadata": {
        "id": "GemUshGj1I4D"
      },
      "outputs": [],
      "source": [
        "# Your code here!\n"
      ]
    },
    {
      "cell_type": "markdown",
      "id": "6NYPMX-NXTT_",
      "metadata": {
        "id": "6NYPMX-NXTT_"
      },
      "source": [
        "## Exercise 4: Prediction\n",
        "\n",
        "Repeat Exercise 2 for a used Accord with an odometer reading of 300,000 miles. Make sure to print your answers.\n",
        "\n",
        "Using this result, can you identify a critical issue with your regression model? Answer in one or two sentences."
      ]
    },
    {
      "cell_type": "code",
      "execution_count": 7,
      "id": "uR9CXpQYXTUA",
      "metadata": {
        "id": "uR9CXpQYXTUA"
      },
      "outputs": [],
      "source": [
        "# Your code here!\n"
      ]
    },
    {
      "cell_type": "markdown",
      "id": "k6iSpijWXdVJ",
      "metadata": {
        "id": "k6iSpijWXdVJ"
      },
      "source": [
        "Your answer here!\n"
      ]
    },
    {
      "cell_type": "markdown",
      "id": "9a02a81f",
      "metadata": {
        "id": "9a02a81f"
      },
      "source": [
        "## Exercise 5: Log-transformed Outcome Model\n",
        "\n",
        "One way to address the issue that you hopefully identified in Exercise 4 is to use a *log-transformed outcome* model.\n",
        "This model has the form\n",
        "\n",
        "$$\n",
        "\\log(Y_i) = \\beta_0 + \\beta_1 X_i + \\epsilon_i\n",
        "$$\n",
        "\n",
        "where $\\log$ is the natural logarithm."
      ]
    },
    {
      "cell_type": "markdown",
      "id": "b8f6ef0f",
      "metadata": {
        "id": "b8f6ef0f"
      },
      "source": [
        "**Part (a)**: Fit a new linear regression model to the Accords dataset, using the log-transformed outcome model. Print a summary of the fitted model."
      ]
    },
    {
      "cell_type": "code",
      "source": [
        "# Your code here!\n"
      ],
      "metadata": {
        "id": "gW8q6pFoRSs-"
      },
      "id": "gW8q6pFoRSs-",
      "execution_count": 8,
      "outputs": []
    },
    {
      "cell_type": "markdown",
      "id": "1a562f56",
      "metadata": {
        "id": "1a562f56"
      },
      "source": [
        "**Part (b)**: Repeat Exercise 1b with your new model. That is, plot a scatterplot of the data with a red line for your new fitted model. Make sure your plot is on the scale of the original data."
      ]
    },
    {
      "cell_type": "code",
      "source": [
        "# Your code here!\n"
      ],
      "metadata": {
        "id": "wjLMPGMw9QXE"
      },
      "id": "wjLMPGMw9QXE",
      "execution_count": 9,
      "outputs": []
    },
    {
      "cell_type": "markdown",
      "id": "7ffc629f",
      "metadata": {
        "id": "7ffc629f"
      },
      "source": [
        "**Part (c)**: Based on your plot from part (b), is this model a better fit to the data than the model from Exercise 1? Why or why not?"
      ]
    },
    {
      "cell_type": "markdown",
      "source": [
        "Your answer here!"
      ],
      "metadata": {
        "id": "NWRZmuoM-Bq2"
      },
      "id": "NWRZmuoM-Bq2"
    },
    {
      "cell_type": "markdown",
      "id": "519cc855",
      "metadata": {
        "id": "519cc855"
      },
      "source": [
        "**Part (d)**: Using this model, make a new prediciton for price of a used Accord with 300,000 miles. How does your prediction compare to your prediction from Exercise 3?"
      ]
    },
    {
      "cell_type": "code",
      "source": [
        "# Your code here!\n"
      ],
      "metadata": {
        "id": "6gQ_l8F_-Hle"
      },
      "id": "6gQ_l8F_-Hle",
      "execution_count": 10,
      "outputs": []
    },
    {
      "cell_type": "markdown",
      "source": [
        "Your answer here!"
      ],
      "metadata": {
        "id": "ftoNCC5u-l4p"
      },
      "id": "ftoNCC5u-l4p"
    },
    {
      "cell_type": "markdown",
      "id": "3fb38e86",
      "metadata": {
        "id": "3fb38e86"
      },
      "source": [
        "**Part (e)**: One downside of the log-transformed model is that we have to rethink how to interpret coefficients. In a normal linear regression model, the slope $\\beta_1$ represents the expected change in $Y$ for every unit increase in $x$, because\n",
        "\n",
        "$$\n",
        "E[Y | x = x_0 + 1] - E[Y | x = x_0] = \\beta_0 + \\beta_1(x_0 + 1) - (\\beta_0 + \\beta_1 x_0) = \\beta_1.\n",
        "$$\n",
        "\n",
        "In the log-transformed model, it turns out to be convenient to interpret $\\exp(\\beta_1)$, rather than $\\beta$. What does $\\beta_1$ represent in this model? Use math similar to above to justify your answer.\n",
        "(Hint: start by writing out $E[Y | x = x_0 + 1]$ and $E[Y | x = x_0]$ for the log-transformed model.)"
      ]
    },
    {
      "cell_type": "markdown",
      "id": "529eb283",
      "metadata": {
        "id": "529eb283"
      },
      "source": [
        "Your answer here!\n"
      ]
    },
    {
      "cell_type": "markdown",
      "id": "0f4f73f8",
      "metadata": {
        "id": "0f4f73f8"
      },
      "source": [
        "**Part (f)**: Using your derivation from part (e), provide an interpretation for the fitted value of $\\exp(\\beta_1)$ in your model from part (a).\n",
        "\n",
        "Your answer here!\n"
      ]
    },
    {
      "cell_type": "markdown",
      "id": "jIBcRRYshDUQ",
      "metadata": {
        "id": "jIBcRRYshDUQ"
      },
      "source": [
        "## Exercise 6: Inference\n",
        "\n",
        "In Exercises 3 and 4, we used simple linear regression for prediction. In this exercise, we will use simple linear regression for inference — to\n",
        "draw conclusions about the relationship between a predictor variable (like mileage) and a response variable (like price). Rather than just estimating the slope, we ask whether the observed relationship is statistically significant or could plausibly be due to random chance.\n",
        "\n",
        "One common goal is to test whether the slope coefficient $ \\beta_1 $\n",
        "  is different from zero — in other words, whether there is evidence that the predictor\n",
        "𝑥 (mileage) is associated with changes in the outcome\n",
        "𝑦 (price)."
      ]
    },
    {
      "cell_type": "markdown",
      "id": "87XrgxGemeqm",
      "metadata": {
        "id": "87XrgxGemeqm"
      },
      "source": [
        "**Part (a):** Write out the null and alternative hypotheses for testing whether mileage significantly predicts price."
      ]
    },
    {
      "cell_type": "markdown",
      "id": "8Seu-ZhPmkyJ",
      "metadata": {
        "id": "8Seu-ZhPmkyJ"
      },
      "source": [
        "Your answer here!\n",
        "\n",
        "\n",
        "\n"
      ]
    },
    {
      "cell_type": "markdown",
      "id": "6bKMJb-8nBvs",
      "metadata": {
        "id": "6bKMJb-8nBvs"
      },
      "source": [
        "**Part (b):** Report the slope estimate, standard error, t-statistic, and p-value for the slope from your model output from Exercise 2."
      ]
    },
    {
      "cell_type": "markdown",
      "id": "3BhQ4Z8dnM3r",
      "metadata": {
        "id": "3BhQ4Z8dnM3r"
      },
      "source": [
        "Your answer here!\n",
        "\n",
        "\n",
        "\n",
        "\n",
        "\n",
        "\n",
        "\n",
        "\n",
        "\n"
      ]
    },
    {
      "cell_type": "markdown",
      "id": "XXBS1x2Xn2XJ",
      "metadata": {
        "id": "XXBS1x2Xn2XJ"
      },
      "source": [
        "**Part (c):** Based on your results, do you reject the null hypothesis at the 5% significance level? What does this mean in the context of the data?"
      ]
    },
    {
      "cell_type": "markdown",
      "id": "EXWSxIktn-g7",
      "metadata": {
        "id": "EXWSxIktn-g7"
      },
      "source": [
        "Your answer here!\n"
      ]
    },
    {
      "cell_type": "markdown",
      "id": "CQPBvgSkb-AA",
      "metadata": {
        "id": "CQPBvgSkb-AA"
      },
      "source": [
        "## Exercise 7: Bootstrapping\n",
        "\n",
        "In class, we derived the formula for regression coefficients using partial derivatives. Luckily, packages like `statsmodels` do this for us, calculating standard errors and confidence intervals for the slope and intercept using formulas that assume certain conditions — like normally distributed residuals and constant variance. But what if those assumptions don't hold?\n",
        "\n",
        "One alternative is bootstrapping. By repeatedly sampling (with replacement) from the original dataset and refitting the model each time, we can build up an empirical distribution for each coefficient and use it to estimate standard errors and confidence intervals. In this exercise, we’ll use bootstrapping to estimate the variability of our regression coefficients and compare the results to the `statsmodels` output from Exercise 2.\n",
        "\n",
        "**Part (a):**  Using the `accords` dataset, perform 1,000 bootstrap resamples. For each resample:\n",
        "\n",
        "- Use `.sample(frac=1, replace=True)` to generate a new bootstrap dataset\n",
        "\n",
        "- Fit a linear regression model predicting price from mileage\n",
        "\n",
        "After collecting all 1,000 bootstrap estimates:\n",
        "\n",
        "- Calculate the standard error of the intercept and slope\n",
        "\n",
        "- Construct a 95% confidence interval using percentiles for the regression coefficients for the intercept and slope\n",
        "\n",
        "Print the standard errors and 95% CIs for each coefficient.\n"
      ]
    },
    {
      "cell_type": "code",
      "execution_count": 11,
      "id": "5pv386Efc4fJ",
      "metadata": {
        "id": "5pv386Efc4fJ"
      },
      "outputs": [],
      "source": [
        "np.random.seed(125)\n",
        "\n",
        "# Your code here!\n"
      ]
    },
    {
      "cell_type": "markdown",
      "id": "7DiJ2K-edr0p",
      "metadata": {
        "id": "7DiJ2K-edr0p"
      },
      "source": [
        "**Part (b):** Compare your bootstrap standard errors and confidence intervals to the ones from Exercise 2.\n",
        "Are they similar? Write a sentence interpreting what this tells you about uncertainty in your estimates.\n",
        "\n",
        "\n",
        "\n",
        "\n",
        "\n",
        "\n",
        "\n"
      ]
    },
    {
      "cell_type": "markdown",
      "id": "WSshhYH-7qUW",
      "metadata": {
        "id": "WSshhYH-7qUW"
      },
      "source": [
        "Your answer here!\n"
      ]
    },
    {
      "cell_type": "markdown",
      "id": "kjgzdLVC57VO",
      "metadata": {
        "id": "kjgzdLVC57VO"
      },
      "source": [
        "## Converting to PDF\n",
        "\n",
        "Use the below cell to convert your notebook to pdf, using the instructions at the beginning of the notebook. **Before submitting, check to make sure that none of your work got cut off.**"
      ]
    },
    {
      "cell_type": "code",
      "execution_count": null,
      "id": "baRe0oVqTndA",
      "metadata": {
        "id": "baRe0oVqTndA"
      },
      "outputs": [],
      "source": [
        "!apt-get update -qq > /dev/null\n",
        "!apt-get install -qq --fix-missing pandoc texlive-latex-base texlive-latex-extra > /dev/null\n",
        "!jupyter nbconvert --to latex \"/content/HW5.ipynb\" > /dev/null\n",
        "!sed -i 's/❗/!/g' /content/HW5.tex\n",
        "!pdflatex -interaction=nonstopmode -halt-on-error \"/content/HW5.tex\" > /dev/null"
      ]
    }
  ],
  "metadata": {
    "colab": {
      "provenance": []
    },
    "kernelspec": {
      "display_name": "default",
      "language": "python",
      "name": "python3"
    },
    "language_info": {
      "codemirror_mode": {
        "name": "ipython",
        "version": 3
      },
      "file_extension": ".py",
      "mimetype": "text/x-python",
      "name": "python",
      "nbconvert_exporter": "python",
      "pygments_lexer": "ipython3",
      "version": "3.13.2"
    }
  },
  "nbformat": 4,
  "nbformat_minor": 5
}