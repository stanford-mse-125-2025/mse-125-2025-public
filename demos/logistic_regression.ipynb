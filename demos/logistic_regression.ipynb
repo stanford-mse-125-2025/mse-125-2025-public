{
 "cells": [
  {
   "cell_type": "code",
   "execution_count": null,
   "id": "5f814d92",
   "metadata": {},
   "outputs": [],
   "source": [
    "import numpy as np \n",
    "import pandas as pd \n",
    "import matplotlib.pyplot as plt\n",
    "import seaborn as sns\n",
    "sns.set_theme()\n",
    "from scipy import stats\n",
    "from statsmodels.formula.api import ols, logit"
   ]
  },
  {
   "cell_type": "code",
   "execution_count": null,
   "id": "e83e0823",
   "metadata": {},
   "outputs": [],
   "source": [
    "data = pd.read_csv(\"https://raw.githubusercontent.com/stanford-mse-125-2025/mse-125-2025-public/refs/heads/main/data/ames_housing.csv\")\n",
    "data"
   ]
  }
 ],
 "metadata": {
  "language_info": {
   "name": "python"
  }
 },
 "nbformat": 4,
 "nbformat_minor": 5
}
