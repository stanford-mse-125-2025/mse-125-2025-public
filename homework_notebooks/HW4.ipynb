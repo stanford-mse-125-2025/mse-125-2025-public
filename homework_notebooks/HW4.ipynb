{
  "cells": [
    {
      "cell_type": "markdown",
      "id": "6b3f2858",
      "metadata": {
        "id": "6b3f2858"
      },
      "source": [
        "# Homework 4: Bootstrap and Causality"
      ]
    },
    {
      "cell_type": "markdown",
      "id": "Ia5iFo3B8zi8",
      "metadata": {
        "id": "Ia5iFo3B8zi8"
      },
      "source": [
        "**!!! IMPORTANT, DO NOT PROCEED BEFORE COMPLETING THE STEP BELOW !!!**\n",
        "\n",
        "If you haven't already, please make a copy of this notebook and save to your Google Drive. This is imperative so that your work is saved as you go."
      ]
    },
    {
      "cell_type": "markdown",
      "id": "MNX0zYMUZovk",
      "metadata": {
        "id": "MNX0zYMUZovk"
      },
      "source": [
        "**Due Date**: Tuesday April 29th at 11:59pm.\n",
        "\n",
        "**Submission Instructions**:\n",
        "- Download the notebook: Go to File --> Download --> Download .ipynb.\n",
        "- Upload the notebook: Click the Files icon (left side under the Key icon) --> Click the Upload icon (left most of 4) --> Select the file you just downloaded.\n",
        "- Run the last cell in this notebook.\n",
        "- Find the new pdf file in the same location as your uploaded notebook.\n",
        "- Click the 3 vertical dots for this pdf file --> Click Download.\n",
        "- IMPORTANT: check that your pdf file has not cut off any work from your notebook.\n",
        "- Upload the pdf to Gradescope.\n",
        "\n",
        "**Learning Outcomes**:\n",
        "- Use bootstrap sampling to generate confidence intervals.\n",
        "- Design a randomized controlled trial (RCT) to test for causal effects and interpret the results."
      ]
    },
    {
      "cell_type": "markdown",
      "id": "E03KqXvk2rNn",
      "metadata": {
        "id": "E03KqXvk2rNn"
      },
      "source": [
        "## Set up"
      ]
    },
    {
      "cell_type": "markdown",
      "id": "BzgR3bkI2s_r",
      "metadata": {
        "id": "BzgR3bkI2s_r"
      },
      "source": [
        "Run the cell below to import the libraries and packages we are going to use."
      ]
    },
    {
      "cell_type": "code",
      "execution_count": null,
      "id": "XR__IOEm2sjE",
      "metadata": {
        "id": "XR__IOEm2sjE"
      },
      "outputs": [],
      "source": [
        "import numpy as np\n",
        "import pandas as pd\n",
        "from scipy import stats"
      ]
    },
    {
      "cell_type": "markdown",
      "id": "z5DnPLMZJYyE",
      "metadata": {
        "id": "z5DnPLMZJYyE"
      },
      "source": [
        "## Exercise 1: Bootstrap\n",
        "\n",
        "The file `sat_data.csv` contains a collection of SAT math, reading, and writing scores. Use the following code to read and preview the dataset."
      ]
    },
    {
      "cell_type": "code",
      "execution_count": null,
      "id": "Ky7TbYkVJYyE",
      "metadata": {
        "id": "Ky7TbYkVJYyE"
      },
      "outputs": [],
      "source": [
        "sat_data = pd.read_csv(\"https://raw.githubusercontent.com/stanford-mse-125/homework/main/data/sat_data.csv\")\n",
        "sat_data.head()"
      ]
    },
    {
      "cell_type": "markdown",
      "id": "BLk1nBxSJYyE",
      "metadata": {
        "id": "BLk1nBxSJYyE"
      },
      "source": [
        "**Part (a)**: Calculate a point estimate for the 80th percentile score in each subject area using the SAT scores dataset."
      ]
    },
    {
      "cell_type": "code",
      "execution_count": null,
      "id": "vWEZk15aNJbu",
      "metadata": {
        "id": "vWEZk15aNJbu"
      },
      "outputs": [],
      "source": [
        "# Code here!\n",
        "# --------------------------------- #\n",
        "\n",
        "# --------------------------------- #"
      ]
    },
    {
      "cell_type": "markdown",
      "id": "6R2ZXHG7JYyE",
      "metadata": {
        "id": "6R2ZXHG7JYyE"
      },
      "source": [
        "**Part (b)**: For each subject area, calculate a 95\\% confidence intervals for the 80th percentile of SAT scores with both the bootstrap percentile method and the bootstrap normal method. Print your resulting confidence intervals."
      ]
    },
    {
      "cell_type": "code",
      "execution_count": null,
      "id": "Kw1-NWmPNS5d",
      "metadata": {
        "id": "Kw1-NWmPNS5d"
      },
      "outputs": [],
      "source": [
        "# Set seed\n",
        "np.random.seed(10)\n",
        "\n",
        "# Code here!\n",
        "# --------------------------------- #\n",
        "\n",
        "# --------------------------------- #"
      ]
    },
    {
      "cell_type": "markdown",
      "id": "2CaZ0MGEJYyE",
      "metadata": {
        "id": "2CaZ0MGEJYyE"
      },
      "source": [
        "**Part (c)**: If you look [here](https://blog.prepscholar.com/sat-historical-percentiles-for-2014-2013-2012-and-2011), you should notice that the actual 80th percentile scores from 2015 (the last year with 3 subject areas) are different than the point estimates we obtained in part (a). List 2 reasons why the percentiles in our dataset may be different."
      ]
    },
    {
      "cell_type": "markdown",
      "id": "SFz_j7L8JYyF",
      "metadata": {
        "id": "SFz_j7L8JYyF"
      },
      "source": [
        "\n",
        "---\n",
        "\n",
        "Answer here!\n",
        "\n",
        "\n",
        "---\n"
      ]
    },
    {
      "cell_type": "markdown",
      "id": "s38g7AKgJYyF",
      "metadata": {
        "id": "s38g7AKgJYyF"
      },
      "source": [
        "**Part (d)**: Do you think the percentiles listed in the linked website from part (c) should have confidence intervals, like the ones we calculated in part (b)? Why or why not?"
      ]
    },
    {
      "cell_type": "markdown",
      "id": "Rv1jQXrjJYyF",
      "metadata": {
        "id": "Rv1jQXrjJYyF"
      },
      "source": [
        "\n",
        "---\n",
        "\n",
        "Answer here!\n",
        "\n",
        "\n",
        "---\n"
      ]
    },
    {
      "cell_type": "markdown",
      "id": "p_ifolRFJ136",
      "metadata": {
        "id": "p_ifolRFJ136"
      },
      "source": [
        "## Exercise 2: Causality\n",
        "\n",
        "Suppose you are piloting your own SAT prep course for high school students, and you want to test if participation in your course has a causal effect on SAT scores. Describe how you would set up a randomized controlled trial (RCT) to test this hypothesis."
      ]
    },
    {
      "cell_type": "markdown",
      "id": "D-E8N8z6MRse",
      "metadata": {
        "id": "D-E8N8z6MRse"
      },
      "source": [
        "**Part (a):** How would you choose participants?"
      ]
    },
    {
      "cell_type": "markdown",
      "id": "NgqDO48GNhNT",
      "metadata": {
        "id": "NgqDO48GNhNT"
      },
      "source": [
        "\n",
        "---\n",
        "\n",
        "Answer here!\n",
        "\n",
        "\n",
        "---\n"
      ]
    },
    {
      "cell_type": "markdown",
      "id": "jAoL7uxAMZ0v",
      "metadata": {
        "id": "jAoL7uxAMZ0v"
      },
      "source": [
        "**Part (b):** What would your \"treatment\" be? How would you assign treatment?"
      ]
    },
    {
      "cell_type": "markdown",
      "id": "AVxaFHWaMyUL",
      "metadata": {
        "id": "AVxaFHWaMyUL"
      },
      "source": [
        "\n",
        "---\n",
        "\n",
        "Answer here!\n",
        "\n",
        "\n",
        "---\n"
      ]
    },
    {
      "cell_type": "markdown",
      "id": "2zltqBSuMezC",
      "metadata": {
        "id": "2zltqBSuMezC"
      },
      "source": [
        "**Part (c):** What estimator would you use for the average treatment effect (ATE)?"
      ]
    },
    {
      "cell_type": "markdown",
      "id": "_ZiXQozeMx94",
      "metadata": {
        "id": "_ZiXQozeMx94"
      },
      "source": [
        "\n",
        "---\n",
        "\n",
        "Answer here!\n",
        "\n",
        "\n",
        "---\n",
        "\n"
      ]
    },
    {
      "cell_type": "markdown",
      "id": "__6cllcaMjGS",
      "metadata": {
        "id": "__6cllcaMjGS"
      },
      "source": [
        "**Part (d):** Suppose that your estimated ATE is 50. Interpret this ATE in the context of your RCT."
      ]
    },
    {
      "cell_type": "markdown",
      "id": "S6E_Po4lMxie",
      "metadata": {
        "id": "S6E_Po4lMxie"
      },
      "source": [
        "\n",
        "---\n",
        "\n",
        "Answer here!\n",
        "\n",
        "\n",
        "---\n"
      ]
    },
    {
      "cell_type": "markdown",
      "id": "1f001082",
      "metadata": {
        "id": "1f001082"
      },
      "source": [
        "**Part (e)**: What type of hypothesis test would you use to test if the ATE is significantly different than 0?"
      ]
    },
    {
      "cell_type": "markdown",
      "id": "b87cf92c",
      "metadata": {
        "id": "b87cf92c"
      },
      "source": [
        "\n",
        "---\n",
        "\n",
        "Answer here!\n",
        "\n",
        "\n",
        "---\n"
      ]
    },
    {
      "cell_type": "markdown",
      "id": "We_VuEIVMmaW",
      "metadata": {
        "id": "We_VuEIVMmaW"
      },
      "source": [
        "**Part (f):** Suppose you run a hypothesis test to test if the ATE = 0 vs. ATE $\\neq 0$, and the resulting p-value is 0.001. Together with the estimated ATE of 50, what causal conclusion can you make?"
      ]
    },
    {
      "cell_type": "markdown",
      "id": "MrTWI-lPPM3P",
      "metadata": {
        "id": "MrTWI-lPPM3P"
      },
      "source": [
        "\n",
        "---\n",
        "\n",
        "Answer here!\n",
        "\n",
        "\n",
        "---\n"
      ]
    },
    {
      "cell_type": "markdown",
      "id": "kjgzdLVC57VO",
      "metadata": {
        "id": "kjgzdLVC57VO"
      },
      "source": [
        "## Converting to PDF\n",
        "\n",
        "Use the below cell to convert your notebook to pdf, using the instructions at the beginning of the notebook."
      ]
    },
    {
      "cell_type": "code",
      "execution_count": null,
      "id": "baRe0oVqTndA",
      "metadata": {
        "id": "baRe0oVqTndA"
      },
      "outputs": [],
      "source": [
        "!apt-get update -qq > /dev/null\n",
        "!apt-get install -qq --fix-missing pandoc texlive-latex-base texlive-latex-extra > /dev/null\n",
        "!jupyter nbconvert --to latex \"/content/HW4.ipynb\" > /dev/null\n",
        "!sed -i 's/❗/!/g' /content/HW4.tex\n",
        "!pdflatex -interaction=nonstopmode -halt-on-error \"/content/HW4.tex\" > /dev/null"
      ]
    }
  ],
  "metadata": {
    "colab": {
      "provenance": []
    },
    "kernelspec": {
      "display_name": "default",
      "language": "python",
      "name": "python3"
    },
    "language_info": {
      "codemirror_mode": {
        "name": "ipython",
        "version": 3
      },
      "file_extension": ".py",
      "mimetype": "text/x-python",
      "name": "python",
      "nbconvert_exporter": "python",
      "pygments_lexer": "ipython3",
      "version": "3.13.2"
    }
  },
  "nbformat": 4,
  "nbformat_minor": 5
}