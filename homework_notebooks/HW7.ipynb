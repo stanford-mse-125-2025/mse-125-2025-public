{
 "cells": [
  {
   "cell_type": "markdown",
   "metadata": {
    "id": "SRfwT-nDZUqI"
   },
   "source": [
    "# Homework 7: Logistic Regression and Additive models\n",
    "\n",
    "!!! **STOP** !!!\n",
    "\n",
    "If you haven't already, please make a copy of this notebook and save to your google drive.\n",
    "This is imperative so that your work is saved as you go."
   ]
  },
  {
   "cell_type": "markdown",
   "metadata": {
    "id": "MNX0zYMUZovk"
   },
   "source": [
    "**Due Date**: Thursday May 29th at 11:59pm.\n",
    "\n",
    "**Submission Instructions**:\n",
    "- Download the notebook: Go to File --> Download --> Download .ipynb\n",
    "- Upload the notebook: Click the Files icon (left side under the Key icon) --> Click the Upload icon (left most of 4) --> Select the file you just downloaded.\n",
    "- Run the last cell in this notebook.\n",
    "- Find the new pdf file in the same location as your uploaded notebook.\n",
    "- Click the 3 vertical dots for this pdf file --> Click Download.\n",
    "- IMPORTANT: check that your pdf file has not cut off any work from your notebook.\n",
    "- Upload the pdf to Gradescope.\n",
    "\n",
    "**Learning Outcomes**:\n",
    "- Interpret and evaluate classification models.\n",
    "- Fit and interpret logistic regression models.\n",
    "- Apply additive models (DNAMite) to real-world regression data.\n",
    "- Compare model performance between linear regression and additive models."
   ]
  },
  {
   "cell_type": "markdown",
   "metadata": {
    "id": "Dk_-MZK2atN3"
   },
   "source": [
    "## Set up"
   ]
  },
  {
   "cell_type": "markdown",
   "metadata": {
    "id": "3qwfx91-bHMo"
   },
   "source": [
    "Run the cell below to import the libraries we are going to use."
   ]
  },
  {
   "cell_type": "code",
   "execution_count": 1,
   "metadata": {
    "id": "e8vG939xbNkO"
   },
   "outputs": [],
   "source": [
    "import numpy as np\n",
    "import pandas as pd\n",
    "import matplotlib.pyplot as plt\n",
    "import seaborn as sns\n",
    "sns.set_theme()\n",
    "from scipy import stats\n",
    "from statsmodels.formula.api import ols, logit"
   ]
  },
  {
   "cell_type": "markdown",
   "metadata": {
    "id": "TesZvfNgbbTX"
   },
   "source": [
    "## Exercise 1: Classification Metrics\n"
   ]
  },
  {
   "cell_type": "markdown",
   "metadata": {
    "id": "Q2EQ0etSoyQy"
   },
   "source": [
    "Consider the following confusion matrix, which compares the predictions and actual labels in a classification problem of predicting whether or not a person has COVID-19."
   ]
  },
  {
   "cell_type": "code",
   "execution_count": 4,
   "metadata": {
    "colab": {
     "base_uri": "https://localhost:8080/",
     "height": 498
    },
    "id": "7WyKGpV-oxwP",
    "outputId": "8622a7a5-a09a-4fe3-df59-5913020bf392"
   },
   "outputs": [
    {
     "data": {
      "text/plain": [
       "Text(0.5, 1.0, 'Confusion Matrix for Covid Test')"
      ]
     },
     "execution_count": 4,
     "metadata": {},
     "output_type": "execute_result"
    },
    {
     "data": {
      "image/png": "[encoded data removed]",
      "text/plain": [
       "<Figure size 640x480 with 2 Axes>"
      ]
     },
     "metadata": {},
     "output_type": "display_data"
    }
   ],
   "source": [
    "from sklearn.metrics import ConfusionMatrixDisplay\n",
    "\n",
    "cm = ConfusionMatrixDisplay(confusion_matrix=np.array([[1040, 86], [101, 356]]))\n",
    "cm.plot()\n",
    "plt.title(\"Confusion Matrix for Covid Test\")"
   ]
  },
  {
   "cell_type": "markdown",
   "metadata": {
    "id": "FVzvkUx2o9Zy"
   },
   "source": [
    "**Part (a)**: Calculate the accuracy, precision, TPR, and FPR for the above classifier. You must calculate these metrics manually, without using functions available in various packages. For each metric, interpret the result and explain what the metric is measuring in the context of the problem. Use no more than 2 sentences per metric."
   ]
  },
  {
   "cell_type": "code",
   "execution_count": 9,
   "metadata": {
    "colab": {
     "base_uri": "https://localhost:8080/"
    },
    "id": "yQxLWIi3qNGm",
    "outputId": "eb48b31f-7695-4858-92e5-3f0946cf5a7e"
   },
   "outputs": [],
   "source": [
    "# Code here!\n",
    "\n"
   ]
  },
  {
   "cell_type": "markdown",
   "metadata": {
    "id": "wGeaWuy1o9W7"
   },
   "source": [
    "Answer here!\n",
    "\n"
   ]
  },
  {
   "cell_type": "markdown",
   "metadata": {
    "id": "_grC11qJZhDV"
   },
   "source": [
    "## Exercise 2: Logistic Regression"
   ]
  },
  {
   "cell_type": "markdown",
   "metadata": {
    "id": "2noAlxl8Zxrq"
   },
   "source": [
    "You decide to try to build your own model to predict whether it will rain tomorrow based on historical data. You use the following data to build your model."
   ]
  },
  {
   "cell_type": "code",
   "execution_count": 14,
   "metadata": {
    "colab": {
     "base_uri": "https://localhost:8080/",
     "height": 617
    },
    "id": "3GNKrNFoZ0EA",
    "outputId": "35ca8ae9-61df-4aa1-85ba-58048f6d9d39"
   },
   "outputs": [
    {
     "data": {
      "text/html": [
       "<div>\n",
       "<style scoped>\n",
       "    .dataframe tbody tr th:only-of-type {\n",
       "        vertical-align: middle;\n",
       "    }\n",
       "\n",
       "    .dataframe tbody tr th {\n",
       "        vertical-align: top;\n",
       "    }\n",
       "\n",
       "    .dataframe thead th {\n",
       "        text-align: right;\n",
       "    }\n",
       "</style>\n",
       "<table border=\"1\" class=\"dataframe\">\n",
       "  <thead>\n",
       "    <tr style=\"text-align: right;\">\n",
       "      <th></th>\n",
       "      <th>Date</th>\n",
       "      <th>Location</th>\n",
       "      <th>MinTemp</th>\n",
       "      <th>MaxTemp</th>\n",
       "      <th>Rainfall</th>\n",
       "      <th>Evaporation</th>\n",
       "      <th>Sunshine</th>\n",
       "      <th>WindGustDir</th>\n",
       "      <th>WindGustSpeed</th>\n",
       "      <th>WindDir9am</th>\n",
       "      <th>...</th>\n",
       "      <th>Humidity9am</th>\n",
       "      <th>Humidity3pm</th>\n",
       "      <th>Pressure9am</th>\n",
       "      <th>Pressure3pm</th>\n",
       "      <th>Cloud9am</th>\n",
       "      <th>Cloud3pm</th>\n",
       "      <th>Temp9am</th>\n",
       "      <th>Temp3pm</th>\n",
       "      <th>RainToday</th>\n",
       "      <th>RainTomorrow</th>\n",
       "    </tr>\n",
       "  </thead>\n",
       "  <tbody>\n",
       "    <tr>\n",
       "      <th>0</th>\n",
       "      <td>2009-01-01</td>\n",
       "      <td>Cobar</td>\n",
       "      <td>17.9</td>\n",
       "      <td>35.2</td>\n",
       "      <td>0.0</td>\n",
       "      <td>12.0</td>\n",
       "      <td>12.3</td>\n",
       "      <td>SSW</td>\n",
       "      <td>48.0</td>\n",
       "      <td>ENE</td>\n",
       "      <td>...</td>\n",
       "      <td>20.0</td>\n",
       "      <td>13.0</td>\n",
       "      <td>1006.3</td>\n",
       "      <td>1004.4</td>\n",
       "      <td>2.0</td>\n",
       "      <td>5.0</td>\n",
       "      <td>26.6</td>\n",
       "      <td>33.4</td>\n",
       "      <td>No</td>\n",
       "      <td>No</td>\n",
       "    </tr>\n",
       "    <tr>\n",
       "      <th>1</th>\n",
       "      <td>2009-01-02</td>\n",
       "      <td>Cobar</td>\n",
       "      <td>18.4</td>\n",
       "      <td>28.9</td>\n",
       "      <td>0.0</td>\n",
       "      <td>14.8</td>\n",
       "      <td>13.0</td>\n",
       "      <td>S</td>\n",
       "      <td>37.0</td>\n",
       "      <td>SSE</td>\n",
       "      <td>...</td>\n",
       "      <td>30.0</td>\n",
       "      <td>8.0</td>\n",
       "      <td>1012.9</td>\n",
       "      <td>1012.1</td>\n",
       "      <td>1.0</td>\n",
       "      <td>1.0</td>\n",
       "      <td>20.3</td>\n",
       "      <td>27.0</td>\n",
       "      <td>No</td>\n",
       "      <td>No</td>\n",
       "    </tr>\n",
       "    <tr>\n",
       "      <th>2</th>\n",
       "      <td>2009-01-04</td>\n",
       "      <td>Cobar</td>\n",
       "      <td>19.4</td>\n",
       "      <td>37.6</td>\n",
       "      <td>0.0</td>\n",
       "      <td>10.8</td>\n",
       "      <td>10.6</td>\n",
       "      <td>NNE</td>\n",
       "      <td>46.0</td>\n",
       "      <td>NNE</td>\n",
       "      <td>...</td>\n",
       "      <td>42.0</td>\n",
       "      <td>22.0</td>\n",
       "      <td>1012.3</td>\n",
       "      <td>1009.2</td>\n",
       "      <td>1.0</td>\n",
       "      <td>6.0</td>\n",
       "      <td>28.7</td>\n",
       "      <td>34.9</td>\n",
       "      <td>No</td>\n",
       "      <td>No</td>\n",
       "    </tr>\n",
       "    <tr>\n",
       "      <th>3</th>\n",
       "      <td>2009-01-05</td>\n",
       "      <td>Cobar</td>\n",
       "      <td>21.9</td>\n",
       "      <td>38.4</td>\n",
       "      <td>0.0</td>\n",
       "      <td>11.4</td>\n",
       "      <td>12.2</td>\n",
       "      <td>WNW</td>\n",
       "      <td>31.0</td>\n",
       "      <td>WNW</td>\n",
       "      <td>...</td>\n",
       "      <td>37.0</td>\n",
       "      <td>22.0</td>\n",
       "      <td>1012.7</td>\n",
       "      <td>1009.1</td>\n",
       "      <td>1.0</td>\n",
       "      <td>5.0</td>\n",
       "      <td>29.1</td>\n",
       "      <td>35.6</td>\n",
       "      <td>No</td>\n",
       "      <td>No</td>\n",
       "    </tr>\n",
       "    <tr>\n",
       "      <th>4</th>\n",
       "      <td>2009-01-06</td>\n",
       "      <td>Cobar</td>\n",
       "      <td>24.2</td>\n",
       "      <td>41.0</td>\n",
       "      <td>0.0</td>\n",
       "      <td>11.2</td>\n",
       "      <td>8.4</td>\n",
       "      <td>WNW</td>\n",
       "      <td>35.0</td>\n",
       "      <td>NW</td>\n",
       "      <td>...</td>\n",
       "      <td>19.0</td>\n",
       "      <td>15.0</td>\n",
       "      <td>1010.7</td>\n",
       "      <td>1007.4</td>\n",
       "      <td>1.0</td>\n",
       "      <td>6.0</td>\n",
       "      <td>33.6</td>\n",
       "      <td>37.6</td>\n",
       "      <td>No</td>\n",
       "      <td>No</td>\n",
       "    </tr>\n",
       "    <tr>\n",
       "      <th>...</th>\n",
       "      <td>...</td>\n",
       "      <td>...</td>\n",
       "      <td>...</td>\n",
       "      <td>...</td>\n",
       "      <td>...</td>\n",
       "      <td>...</td>\n",
       "      <td>...</td>\n",
       "      <td>...</td>\n",
       "      <td>...</td>\n",
       "      <td>...</td>\n",
       "      <td>...</td>\n",
       "      <td>...</td>\n",
       "      <td>...</td>\n",
       "      <td>...</td>\n",
       "      <td>...</td>\n",
       "      <td>...</td>\n",
       "      <td>...</td>\n",
       "      <td>...</td>\n",
       "      <td>...</td>\n",
       "      <td>...</td>\n",
       "      <td>...</td>\n",
       "    </tr>\n",
       "    <tr>\n",
       "      <th>56415</th>\n",
       "      <td>2017-06-20</td>\n",
       "      <td>Darwin</td>\n",
       "      <td>19.3</td>\n",
       "      <td>33.4</td>\n",
       "      <td>0.0</td>\n",
       "      <td>6.0</td>\n",
       "      <td>11.0</td>\n",
       "      <td>ENE</td>\n",
       "      <td>35.0</td>\n",
       "      <td>SE</td>\n",
       "      <td>...</td>\n",
       "      <td>63.0</td>\n",
       "      <td>32.0</td>\n",
       "      <td>1013.9</td>\n",
       "      <td>1010.5</td>\n",
       "      <td>0.0</td>\n",
       "      <td>1.0</td>\n",
       "      <td>24.5</td>\n",
       "      <td>32.3</td>\n",
       "      <td>No</td>\n",
       "      <td>No</td>\n",
       "    </tr>\n",
       "    <tr>\n",
       "      <th>56416</th>\n",
       "      <td>2017-06-21</td>\n",
       "      <td>Darwin</td>\n",
       "      <td>21.2</td>\n",
       "      <td>32.6</td>\n",
       "      <td>0.0</td>\n",
       "      <td>7.6</td>\n",
       "      <td>8.6</td>\n",
       "      <td>E</td>\n",
       "      <td>37.0</td>\n",
       "      <td>SE</td>\n",
       "      <td>...</td>\n",
       "      <td>56.0</td>\n",
       "      <td>28.0</td>\n",
       "      <td>1014.6</td>\n",
       "      <td>1011.2</td>\n",
       "      <td>7.0</td>\n",
       "      <td>0.0</td>\n",
       "      <td>24.8</td>\n",
       "      <td>32.0</td>\n",
       "      <td>No</td>\n",
       "      <td>No</td>\n",
       "    </tr>\n",
       "    <tr>\n",
       "      <th>56417</th>\n",
       "      <td>2017-06-22</td>\n",
       "      <td>Darwin</td>\n",
       "      <td>20.7</td>\n",
       "      <td>32.8</td>\n",
       "      <td>0.0</td>\n",
       "      <td>5.6</td>\n",
       "      <td>11.0</td>\n",
       "      <td>E</td>\n",
       "      <td>33.0</td>\n",
       "      <td>E</td>\n",
       "      <td>...</td>\n",
       "      <td>46.0</td>\n",
       "      <td>23.0</td>\n",
       "      <td>1015.3</td>\n",
       "      <td>1011.8</td>\n",
       "      <td>0.0</td>\n",
       "      <td>0.0</td>\n",
       "      <td>24.8</td>\n",
       "      <td>32.1</td>\n",
       "      <td>No</td>\n",
       "      <td>No</td>\n",
       "    </tr>\n",
       "    <tr>\n",
       "      <th>56418</th>\n",
       "      <td>2017-06-23</td>\n",
       "      <td>Darwin</td>\n",
       "      <td>19.5</td>\n",
       "      <td>31.8</td>\n",
       "      <td>0.0</td>\n",
       "      <td>6.2</td>\n",
       "      <td>10.6</td>\n",
       "      <td>ESE</td>\n",
       "      <td>26.0</td>\n",
       "      <td>SE</td>\n",
       "      <td>...</td>\n",
       "      <td>62.0</td>\n",
       "      <td>58.0</td>\n",
       "      <td>1014.9</td>\n",
       "      <td>1010.7</td>\n",
       "      <td>1.0</td>\n",
       "      <td>1.0</td>\n",
       "      <td>24.8</td>\n",
       "      <td>29.2</td>\n",
       "      <td>No</td>\n",
       "      <td>No</td>\n",
       "    </tr>\n",
       "    <tr>\n",
       "      <th>56419</th>\n",
       "      <td>2017-06-24</td>\n",
       "      <td>Darwin</td>\n",
       "      <td>20.2</td>\n",
       "      <td>31.7</td>\n",
       "      <td>0.0</td>\n",
       "      <td>5.6</td>\n",
       "      <td>10.7</td>\n",
       "      <td>ENE</td>\n",
       "      <td>30.0</td>\n",
       "      <td>ENE</td>\n",
       "      <td>...</td>\n",
       "      <td>73.0</td>\n",
       "      <td>32.0</td>\n",
       "      <td>1013.9</td>\n",
       "      <td>1009.7</td>\n",
       "      <td>6.0</td>\n",
       "      <td>5.0</td>\n",
       "      <td>25.4</td>\n",
       "      <td>31.0</td>\n",
       "      <td>No</td>\n",
       "      <td>No</td>\n",
       "    </tr>\n",
       "  </tbody>\n",
       "</table>\n",
       "<p>56420 rows × 23 columns</p>\n",
       "</div>"
      ],
      "text/plain": [
       "             Date Location  MinTemp  MaxTemp  Rainfall  Evaporation  Sunshine  \\\n",
       "0      2009-01-01    Cobar     17.9     35.2       0.0         12.0      12.3   \n",
       "1      2009-01-02    Cobar     18.4     28.9       0.0         14.8      13.0   \n",
       "2      2009-01-04    Cobar     19.4     37.6       0.0         10.8      10.6   \n",
       "3      2009-01-05    Cobar     21.9     38.4       0.0         11.4      12.2   \n",
       "4      2009-01-06    Cobar     24.2     41.0       0.0         11.2       8.4   \n",
       "...           ...      ...      ...      ...       ...          ...       ...   \n",
       "56415  2017-06-20   Darwin     19.3     33.4       0.0          6.0      11.0   \n",
       "56416  2017-06-21   Darwin     21.2     32.6       0.0          7.6       8.6   \n",
       "56417  2017-06-22   Darwin     20.7     32.8       0.0          5.6      11.0   \n",
       "56418  2017-06-23   Darwin     19.5     31.8       0.0          6.2      10.6   \n",
       "56419  2017-06-24   Darwin     20.2     31.7       0.0          5.6      10.7   \n",
       "\n",
       "      WindGustDir  WindGustSpeed WindDir9am  ... Humidity9am  Humidity3pm  \\\n",
       "0             SSW           48.0        ENE  ...        20.0         13.0   \n",
       "1               S           37.0        SSE  ...        30.0          8.0   \n",
       "2             NNE           46.0        NNE  ...        42.0         22.0   \n",
       "3             WNW           31.0        WNW  ...        37.0         22.0   \n",
       "4             WNW           35.0         NW  ...        19.0         15.0   \n",
       "...           ...            ...        ...  ...         ...          ...   \n",
       "56415         ENE           35.0         SE  ...        63.0         32.0   \n",
       "56416           E           37.0         SE  ...        56.0         28.0   \n",
       "56417           E           33.0          E  ...        46.0         23.0   \n",
       "56418         ESE           26.0         SE  ...        62.0         58.0   \n",
       "56419         ENE           30.0        ENE  ...        73.0         32.0   \n",
       "\n",
       "       Pressure9am  Pressure3pm  Cloud9am  Cloud3pm  Temp9am  Temp3pm  \\\n",
       "0           1006.3       1004.4       2.0       5.0     26.6     33.4   \n",
       "1           1012.9       1012.1       1.0       1.0     20.3     27.0   \n",
       "2           1012.3       1009.2       1.0       6.0     28.7     34.9   \n",
       "3           1012.7       1009.1       1.0       5.0     29.1     35.6   \n",
       "4           1010.7       1007.4       1.0       6.0     33.6     37.6   \n",
       "...            ...          ...       ...       ...      ...      ...   \n",
       "56415       1013.9       1010.5       0.0       1.0     24.5     32.3   \n",
       "56416       1014.6       1011.2       7.0       0.0     24.8     32.0   \n",
       "56417       1015.3       1011.8       0.0       0.0     24.8     32.1   \n",
       "56418       1014.9       1010.7       1.0       1.0     24.8     29.2   \n",
       "56419       1013.9       1009.7       6.0       5.0     25.4     31.0   \n",
       "\n",
       "       RainToday  RainTomorrow  \n",
       "0             No            No  \n",
       "1             No            No  \n",
       "2             No            No  \n",
       "3             No            No  \n",
       "4             No            No  \n",
       "...          ...           ...  \n",
       "56415         No            No  \n",
       "56416         No            No  \n",
       "56417         No            No  \n",
       "56418         No            No  \n",
       "56419         No            No  \n",
       "\n",
       "[56420 rows x 23 columns]"
      ]
     },
     "execution_count": 14,
     "metadata": {},
     "output_type": "execute_result"
    }
   ],
   "source": [
    "weather_df = pd.read_csv(\"https://raw.githubusercontent.com/stanford-mse-125/homework/main/data/weather.csv\")\n",
    "weather_df = weather_df.dropna().reset_index(drop=True)\n",
    "weather_df"
   ]
  },
  {
   "cell_type": "markdown",
   "metadata": {
    "id": "WNBcDXOVZrB1"
   },
   "source": [
    "**Part (a)**: Build a logistic regression model to predict `RainTomorrow` from `MinTemp` and `MaxTemp` as well as `Rainfall` from the current day. Interpret the **coefficient for `Rainfall`** in the context of the problem and  the **coefficient for `MaxTemp`**on the odds scale. Use 2 sentences for each interpretation."
   ]
  },
  {
   "cell_type": "code",
   "execution_count": 17,
   "metadata": {
    "colab": {
     "base_uri": "https://localhost:8080/",
     "height": 348
    },
    "id": "AIUNGInTaAri",
    "outputId": "13db0fec-9ab0-4556-da14-2df1f77be6a3"
   },
   "outputs": [],
   "source": [
    "# Code here!\n",
    "\n"
   ]
  },
  {
   "cell_type": "markdown",
   "metadata": {
    "id": "50wa6d1faSkE"
   },
   "source": [
    "Answer here!\n",
    "\n"
   ]
  },
  {
   "cell_type": "markdown",
   "metadata": {
    "id": "q_YAJjZWd9Ti"
   },
   "source": [
    "**Part (b)**: Plot the ROC curve for the logistic regression model from Part (a). Generate the plot manually using `matplotlib`. Do not use any external libraries or built-in ROC plotting functions. Mark and label the threshold of 0.5. Finally, include a one-sentence explanation of how you identified this point.\n"
   ]
  },
  {
   "cell_type": "code",
   "execution_count": 22,
   "metadata": {
    "colab": {
     "base_uri": "https://localhost:8080/",
     "height": 609
    },
    "id": "PPVcLS9wd84s",
    "outputId": "6afee0fb-6f5b-4408-eb2f-fd1ddc3cffae"
   },
   "outputs": [],
   "source": [
    "# Code here!\n",
    "\n"
   ]
  },
  {
   "cell_type": "markdown",
   "metadata": {
    "id": "dr0h3Lo1fJWc"
   },
   "source": [
    "Answer here!\n",
    "\n"
   ]
  },
  {
   "cell_type": "markdown",
   "metadata": {
    "id": "04p2etayXN1C"
   },
   "source": [
    "**Part (c)**: You really hate when you expect it not to rain and then it actually does. Specifically, you decide that a false negative error, i.e. predicting it won't rain when it does, is 3 times worse than a false positive, i.e. predicting it will rain when it doesn't. Use the ROC curve to find the *optimal threshold* for this setting using the gives costs for false positive and false negatives. Output the optimal threshold, as well as a plot which compares threshold vs cost."
   ]
  },
  {
   "cell_type": "code",
   "execution_count": 26,
   "metadata": {
    "colab": {
     "base_uri": "https://localhost:8080/",
     "height": 591
    },
    "id": "e-LlbGXLX0sx",
    "outputId": "49d3ca35-908e-4607-a53b-40413cd13214"
   },
   "outputs": [],
   "source": [
    "# Code here!\n",
    "\n"
   ]
  },
  {
   "cell_type": "markdown",
   "metadata": {
    "id": "qrqXRi8nYzQM"
   },
   "source": [
    "**Part (d)**: One metric that is used sometimes when false negatives and false positives have different costs is the [F-beta score](https://scikit-learn.org/stable/modules/generated/sklearn.metrics.fbeta_score.html#:~:text=Compute%20the%20F%2Dbeta%20score,recall%20in%20the%20combined%20score.), which generalizes the F1 score. Using $\\beta = 3$ and the optimal threshold determined in part (d), find the out-of-sample F-beta score using 5-fold cross validation for the given model. Set `random_state=42` in Kfold function."
   ]
  },
  {
   "cell_type": "code",
   "execution_count": 29,
   "metadata": {
    "colab": {
     "base_uri": "https://localhost:8080/"
    },
    "id": "FOy75C8UZFXQ",
    "outputId": "299b3e03-a32d-43df-caf4-a5f7472149b0"
   },
   "outputs": [],
   "source": [
    "from sklearn.model_selection import KFold\n",
    "from sklearn.metrics import fbeta_score\n",
    "\n",
    "# Code here!\n",
    "\n"
   ]
  },
  {
   "cell_type": "markdown",
   "metadata": {
    "id": "7eBEs8t_fYQB"
   },
   "source": [
    "## Exercise 3: Additive models\n"
   ]
  },
  {
   "cell_type": "markdown",
   "metadata": {
    "id": "u1ZgrnQWbgM6"
   },
   "source": [
    "Additive models offer a flexible alternative to linear models by capturing non-linear relationships between features and the outcome while maintaining interpretability. In this exercise, you'll use the `dnamite` package to fit an additive model on a subset of features from the Ames housing dataset to predict Price. Please refer to dnamite's [documentation](https://dnamite.readthedocs.io/en/latest/)."
   ]
  },
  {
   "cell_type": "code",
   "execution_count": 33,
   "metadata": {
    "colab": {
     "base_uri": "https://localhost:8080/"
    },
    "id": "Rz9NYMXdgHZt",
    "outputId": "3e5b7a28-5ade-4d6c-8a0b-76db15845407"
   },
   "outputs": [
    {
     "name": "stdout",
     "output_type": "stream",
     "text": [
      "Collecting dnamite\n",
      "  Downloading dnamite-1.0.7-py3-none-any.whl.metadata (1.1 kB)\n",
      "Requirement already satisfied: numpy>=1.23.5 in c:\\users\\alexa\\anaconda3\\lib\\site-packages (from dnamite) (1.26.4)\n",
      "Requirement already satisfied: pandas>=1.5.0 in c:\\users\\alexa\\anaconda3\\lib\\site-packages (from dnamite) (2.2.2)\n",
      "Collecting PyYAML>=6.0.2 (from dnamite)\n",
      "  Downloading PyYAML-6.0.2-cp312-cp312-win_amd64.whl.metadata (2.1 kB)\n",
      "Requirement already satisfied: scikit_learn>=1.3.2 in c:\\users\\alexa\\anaconda3\\lib\\site-packages (from dnamite) (1.5.1)\n",
      "Collecting scikit_survival>=0.22.2 (from dnamite)\n",
      "  Downloading scikit_survival-0.24.1-cp312-cp312-win_amd64.whl.metadata (49 kB)\n",
      "Collecting torch>=1.13.1 (from dnamite)\n",
      "  Downloading torch-2.7.0-cp312-cp312-win_amd64.whl.metadata (29 kB)\n",
      "Requirement already satisfied: tqdm>=4.64.1 in c:\\users\\alexa\\anaconda3\\lib\\site-packages (from dnamite) (4.66.5)\n",
      "Collecting interpret>=0.4.2 (from dnamite)\n",
      "  Downloading interpret-0.6.10-py3-none-any.whl.metadata (1.2 kB)\n",
      "Collecting interpret_core>=0.4.2 (from dnamite)\n",
      "  Downloading interpret_core-0.6.10-py3-none-any.whl.metadata (2.9 kB)\n",
      "Requirement already satisfied: matplotlib>=3.6.2 in c:\\users\\alexa\\anaconda3\\lib\\site-packages (from dnamite) (3.9.2)\n",
      "Requirement already satisfied: seaborn>=0.13.2 in c:\\users\\alexa\\anaconda3\\lib\\site-packages (from dnamite) (0.13.2)\n",
      "Requirement already satisfied: joblib>=0.11 in c:\\users\\alexa\\anaconda3\\lib\\site-packages (from interpret_core>=0.4.2->dnamite) (1.4.2)\n",
      "Requirement already satisfied: psutil>=5.6.2 in c:\\users\\alexa\\anaconda3\\lib\\site-packages (from interpret-core[aplr,dash,debug,linear,notebook,plotly,sensitivity,shap]==0.6.10->interpret>=0.4.2->dnamite) (5.9.0)\n",
      "Requirement already satisfied: ipykernel>=4.10.0 in c:\\users\\alexa\\anaconda3\\lib\\site-packages (from interpret-core[aplr,dash,debug,linear,notebook,plotly,sensitivity,shap]==0.6.10->interpret>=0.4.2->dnamite) (6.28.0)\n",
      "Requirement already satisfied: ipython>=5.5.0 in c:\\users\\alexa\\anaconda3\\lib\\site-packages (from interpret-core[aplr,dash,debug,linear,notebook,plotly,sensitivity,shap]==0.6.10->interpret>=0.4.2->dnamite) (8.27.0)\n",
      "Requirement already satisfied: plotly>=3.8.1 in c:\\users\\alexa\\anaconda3\\lib\\site-packages (from interpret-core[aplr,dash,debug,linear,notebook,plotly,sensitivity,shap]==0.6.10->interpret>=0.4.2->dnamite) (5.24.1)\n",
      "Collecting SALib>=1.3.3 (from interpret-core[aplr,dash,debug,linear,notebook,plotly,sensitivity,shap]==0.6.10->interpret>=0.4.2->dnamite)\n",
      "  Downloading salib-1.5.1-py3-none-any.whl.metadata (11 kB)\n",
      "Collecting shap>=0.28.5 (from interpret-core[aplr,dash,debug,linear,notebook,plotly,sensitivity,shap]==0.6.10->interpret>=0.4.2->dnamite)\n",
      "  Downloading shap-0.47.2-cp312-cp312-win_amd64.whl.metadata (25 kB)\n",
      "Requirement already satisfied: dill>=0.2.5 in c:\\users\\alexa\\anaconda3\\lib\\site-packages (from interpret-core[aplr,dash,debug,linear,notebook,plotly,sensitivity,shap]==0.6.10->interpret>=0.4.2->dnamite) (0.3.8)\n",
      "Collecting aplr>=10.6.1 (from interpret-core[aplr,dash,debug,linear,notebook,plotly,sensitivity,shap]==0.6.10->interpret>=0.4.2->dnamite)\n",
      "  Downloading aplr-10.9.0-cp312-cp312-win_amd64.whl.metadata (2.4 kB)\n",
      "Collecting dash<3.0.0,>=1.0.0 (from interpret-core[aplr,dash,debug,linear,notebook,plotly,sensitivity,shap]==0.6.10->interpret>=0.4.2->dnamite)\n",
      "  Downloading dash-2.18.2-py3-none-any.whl.metadata (10 kB)\n",
      "Collecting dash-core-components>=1.0.0 (from interpret-core[aplr,dash,debug,linear,notebook,plotly,sensitivity,shap]==0.6.10->interpret>=0.4.2->dnamite)\n",
      "  Downloading dash_core_components-2.0.0-py3-none-any.whl.metadata (2.9 kB)\n",
      "Collecting dash-html-components>=1.0.0 (from interpret-core[aplr,dash,debug,linear,notebook,plotly,sensitivity,shap]==0.6.10->interpret>=0.4.2->dnamite)\n",
      "  Downloading dash_html_components-2.0.0-py3-none-any.whl.metadata (3.8 kB)\n",
      "Collecting dash-table>=4.1.0 (from interpret-core[aplr,dash,debug,linear,notebook,plotly,sensitivity,shap]==0.6.10->interpret>=0.4.2->dnamite)\n",
      "  Downloading dash_table-5.0.0-py3-none-any.whl.metadata (2.4 kB)\n",
      "Collecting dash-cytoscape>=0.1.1 (from interpret-core[aplr,dash,debug,linear,notebook,plotly,sensitivity,shap]==0.6.10->interpret>=0.4.2->dnamite)\n",
      "  Downloading dash_cytoscape-1.0.2.tar.gz (4.0 MB)\n",
      "     ---------------------------------------- 0.0/4.0 MB ? eta -:--:--\n",
      "     -------------------------- ------------- 2.6/4.0 MB 13.7 MB/s eta 0:00:01\n",
      "     ---------------------------------------- 4.0/4.0 MB 13.3 MB/s eta 0:00:00\n",
      "  Preparing metadata (setup.py): started\n",
      "  Preparing metadata (setup.py): finished with status 'done'\n",
      "Collecting gevent>=1.3.6 (from interpret-core[aplr,dash,debug,linear,notebook,plotly,sensitivity,shap]==0.6.10->interpret>=0.4.2->dnamite)\n",
      "  Downloading gevent-25.5.1-cp312-cp312-win_amd64.whl.metadata (14 kB)\n",
      "Requirement already satisfied: requests>=2.19.0 in c:\\users\\alexa\\anaconda3\\lib\\site-packages (from interpret-core[aplr,dash,debug,linear,notebook,plotly,sensitivity,shap]==0.6.10->interpret>=0.4.2->dnamite) (2.32.3)\n",
      "Requirement already satisfied: contourpy>=1.0.1 in c:\\users\\alexa\\anaconda3\\lib\\site-packages (from matplotlib>=3.6.2->dnamite) (1.2.0)\n",
      "Requirement already satisfied: cycler>=0.10 in c:\\users\\alexa\\anaconda3\\lib\\site-packages (from matplotlib>=3.6.2->dnamite) (0.11.0)\n",
      "Requirement already satisfied: fonttools>=4.22.0 in c:\\users\\alexa\\anaconda3\\lib\\site-packages (from matplotlib>=3.6.2->dnamite) (4.51.0)\n",
      "Requirement already satisfied: kiwisolver>=1.3.1 in c:\\users\\alexa\\anaconda3\\lib\\site-packages (from matplotlib>=3.6.2->dnamite) (1.4.4)\n",
      "Requirement already satisfied: packaging>=20.0 in c:\\users\\alexa\\anaconda3\\lib\\site-packages (from matplotlib>=3.6.2->dnamite) (24.1)\n",
      "Requirement already satisfied: pillow>=8 in c:\\users\\alexa\\anaconda3\\lib\\site-packages (from matplotlib>=3.6.2->dnamite) (10.4.0)\n",
      "Requirement already satisfied: pyparsing>=2.3.1 in c:\\users\\alexa\\anaconda3\\lib\\site-packages (from matplotlib>=3.6.2->dnamite) (3.1.2)\n",
      "Requirement already satisfied: python-dateutil>=2.7 in c:\\users\\alexa\\anaconda3\\lib\\site-packages (from matplotlib>=3.6.2->dnamite) (2.9.0.post0)\n",
      "Requirement already satisfied: pytz>=2020.1 in c:\\users\\alexa\\anaconda3\\lib\\site-packages (from pandas>=1.5.0->dnamite) (2024.1)\n",
      "Requirement already satisfied: tzdata>=2022.7 in c:\\users\\alexa\\anaconda3\\lib\\site-packages (from pandas>=1.5.0->dnamite) (2023.3)\n",
      "Requirement already satisfied: scipy>=1.6.0 in c:\\users\\alexa\\anaconda3\\lib\\site-packages (from scikit_learn>=1.3.2->dnamite) (1.13.1)\n",
      "Requirement already satisfied: threadpoolctl>=3.1.0 in c:\\users\\alexa\\anaconda3\\lib\\site-packages (from scikit_learn>=1.3.2->dnamite) (3.5.0)\n",
      "Collecting ecos (from scikit_survival>=0.22.2->dnamite)\n",
      "  Downloading ecos-2.0.14-cp312-cp312-win_amd64.whl.metadata (8.2 kB)\n",
      "Requirement already satisfied: numexpr in c:\\users\\alexa\\anaconda3\\lib\\site-packages (from scikit_survival>=0.22.2->dnamite) (2.8.7)\n",
      "Collecting osqp<1.0.0,>=0.6.3 (from scikit_survival>=0.22.2->dnamite)\n",
      "  Downloading osqp-0.6.7.post3-cp312-cp312-win_amd64.whl.metadata (2.0 kB)\n",
      "Collecting scikit_learn>=1.3.2 (from dnamite)\n",
      "  Downloading scikit_learn-1.6.1-cp312-cp312-win_amd64.whl.metadata (15 kB)\n",
      "Requirement already satisfied: filelock in c:\\users\\alexa\\anaconda3\\lib\\site-packages (from torch>=1.13.1->dnamite) (3.13.1)\n",
      "Requirement already satisfied: typing-extensions>=4.10.0 in c:\\users\\alexa\\anaconda3\\lib\\site-packages (from torch>=1.13.1->dnamite) (4.11.0)\n",
      "Collecting sympy>=1.13.3 (from torch>=1.13.1->dnamite)\n",
      "  Downloading sympy-1.14.0-py3-none-any.whl.metadata (12 kB)\n",
      "Requirement already satisfied: networkx in c:\\users\\alexa\\anaconda3\\lib\\site-packages (from torch>=1.13.1->dnamite) (3.3)\n",
      "Requirement already satisfied: jinja2 in c:\\users\\alexa\\anaconda3\\lib\\site-packages (from torch>=1.13.1->dnamite) (3.1.4)\n",
      "Requirement already satisfied: fsspec in c:\\users\\alexa\\anaconda3\\lib\\site-packages (from torch>=1.13.1->dnamite) (2024.6.1)\n",
      "Requirement already satisfied: setuptools in c:\\users\\alexa\\anaconda3\\lib\\site-packages (from torch>=1.13.1->dnamite) (75.1.0)\n",
      "Requirement already satisfied: colorama in c:\\users\\alexa\\anaconda3\\lib\\site-packages (from tqdm>=4.64.1->dnamite) (0.4.6)\n",
      "Collecting qdldl (from osqp<1.0.0,>=0.6.3->scikit_survival>=0.22.2->dnamite)\n",
      "  Downloading qdldl-0.1.7.post5-cp312-cp312-win_amd64.whl.metadata (1.8 kB)\n",
      "Requirement already satisfied: six>=1.5 in c:\\users\\alexa\\anaconda3\\lib\\site-packages (from python-dateutil>=2.7->matplotlib>=3.6.2->dnamite) (1.16.0)\n",
      "Requirement already satisfied: mpmath<1.4,>=1.1.0 in c:\\users\\alexa\\anaconda3\\lib\\site-packages (from sympy>=1.13.3->torch>=1.13.1->dnamite) (1.3.0)\n",
      "Requirement already satisfied: MarkupSafe>=2.0 in c:\\users\\alexa\\anaconda3\\lib\\site-packages (from jinja2->torch>=1.13.1->dnamite) (2.1.3)\n",
      "Requirement already satisfied: Flask<3.1,>=1.0.4 in c:\\users\\alexa\\anaconda3\\lib\\site-packages (from dash<3.0.0,>=1.0.0->interpret-core[aplr,dash,debug,linear,notebook,plotly,sensitivity,shap]==0.6.10->interpret>=0.4.2->dnamite) (3.0.3)\n",
      "Requirement already satisfied: Werkzeug<3.1 in c:\\users\\alexa\\anaconda3\\lib\\site-packages (from dash<3.0.0,>=1.0.0->interpret-core[aplr,dash,debug,linear,notebook,plotly,sensitivity,shap]==0.6.10->interpret>=0.4.2->dnamite) (3.0.3)\n",
      "Requirement already satisfied: importlib-metadata in c:\\users\\alexa\\anaconda3\\lib\\site-packages (from dash<3.0.0,>=1.0.0->interpret-core[aplr,dash,debug,linear,notebook,plotly,sensitivity,shap]==0.6.10->interpret>=0.4.2->dnamite) (7.0.1)\n",
      "Collecting retrying (from dash<3.0.0,>=1.0.0->interpret-core[aplr,dash,debug,linear,notebook,plotly,sensitivity,shap]==0.6.10->interpret>=0.4.2->dnamite)\n",
      "  Downloading retrying-1.3.4-py3-none-any.whl.metadata (6.9 kB)\n",
      "Requirement already satisfied: nest-asyncio in c:\\users\\alexa\\anaconda3\\lib\\site-packages (from dash<3.0.0,>=1.0.0->interpret-core[aplr,dash,debug,linear,notebook,plotly,sensitivity,shap]==0.6.10->interpret>=0.4.2->dnamite) (1.6.0)\n",
      "Collecting greenlet>=3.2.2 (from gevent>=1.3.6->interpret-core[aplr,dash,debug,linear,notebook,plotly,sensitivity,shap]==0.6.10->interpret>=0.4.2->dnamite)\n",
      "  Downloading greenlet-3.2.2-cp312-cp312-win_amd64.whl.metadata (4.2 kB)\n",
      "Requirement already satisfied: cffi>=1.17.1 in c:\\users\\alexa\\anaconda3\\lib\\site-packages (from gevent>=1.3.6->interpret-core[aplr,dash,debug,linear,notebook,plotly,sensitivity,shap]==0.6.10->interpret>=0.4.2->dnamite) (1.17.1)\n",
      "Collecting zope.event (from gevent>=1.3.6->interpret-core[aplr,dash,debug,linear,notebook,plotly,sensitivity,shap]==0.6.10->interpret>=0.4.2->dnamite)\n",
      "  Downloading zope.event-5.0-py3-none-any.whl.metadata (4.4 kB)\n",
      "Requirement already satisfied: zope.interface in c:\\users\\alexa\\anaconda3\\lib\\site-packages (from gevent>=1.3.6->interpret-core[aplr,dash,debug,linear,notebook,plotly,sensitivity,shap]==0.6.10->interpret>=0.4.2->dnamite) (5.4.0)\n",
      "Requirement already satisfied: comm>=0.1.1 in c:\\users\\alexa\\anaconda3\\lib\\site-packages (from ipykernel>=4.10.0->interpret-core[aplr,dash,debug,linear,notebook,plotly,sensitivity,shap]==0.6.10->interpret>=0.4.2->dnamite) (0.2.1)\n",
      "Requirement already satisfied: debugpy>=1.6.5 in c:\\users\\alexa\\anaconda3\\lib\\site-packages (from ipykernel>=4.10.0->interpret-core[aplr,dash,debug,linear,notebook,plotly,sensitivity,shap]==0.6.10->interpret>=0.4.2->dnamite) (1.6.7)\n",
      "Requirement already satisfied: jupyter-client>=6.1.12 in c:\\users\\alexa\\anaconda3\\lib\\site-packages (from ipykernel>=4.10.0->interpret-core[aplr,dash,debug,linear,notebook,plotly,sensitivity,shap]==0.6.10->interpret>=0.4.2->dnamite) (8.6.0)\n",
      "Requirement already satisfied: jupyter-core!=5.0.*,>=4.12 in c:\\users\\alexa\\anaconda3\\lib\\site-packages (from ipykernel>=4.10.0->interpret-core[aplr,dash,debug,linear,notebook,plotly,sensitivity,shap]==0.6.10->interpret>=0.4.2->dnamite) (5.7.2)\n",
      "Requirement already satisfied: matplotlib-inline>=0.1 in c:\\users\\alexa\\anaconda3\\lib\\site-packages (from ipykernel>=4.10.0->interpret-core[aplr,dash,debug,linear,notebook,plotly,sensitivity,shap]==0.6.10->interpret>=0.4.2->dnamite) (0.1.6)\n",
      "Requirement already satisfied: pyzmq>=24 in c:\\users\\alexa\\anaconda3\\lib\\site-packages (from ipykernel>=4.10.0->interpret-core[aplr,dash,debug,linear,notebook,plotly,sensitivity,shap]==0.6.10->interpret>=0.4.2->dnamite) (25.1.2)\n",
      "Requirement already satisfied: tornado>=6.1 in c:\\users\\alexa\\anaconda3\\lib\\site-packages (from ipykernel>=4.10.0->interpret-core[aplr,dash,debug,linear,notebook,plotly,sensitivity,shap]==0.6.10->interpret>=0.4.2->dnamite) (6.4.1)\n",
      "Requirement already satisfied: traitlets>=5.4.0 in c:\\users\\alexa\\anaconda3\\lib\\site-packages (from ipykernel>=4.10.0->interpret-core[aplr,dash,debug,linear,notebook,plotly,sensitivity,shap]==0.6.10->interpret>=0.4.2->dnamite) (5.14.3)\n",
      "Requirement already satisfied: decorator in c:\\users\\alexa\\anaconda3\\lib\\site-packages (from ipython>=5.5.0->interpret-core[aplr,dash,debug,linear,notebook,plotly,sensitivity,shap]==0.6.10->interpret>=0.4.2->dnamite) (5.1.1)\n",
      "Requirement already satisfied: jedi>=0.16 in c:\\users\\alexa\\anaconda3\\lib\\site-packages (from ipython>=5.5.0->interpret-core[aplr,dash,debug,linear,notebook,plotly,sensitivity,shap]==0.6.10->interpret>=0.4.2->dnamite) (0.19.1)\n",
      "Requirement already satisfied: prompt-toolkit<3.1.0,>=3.0.41 in c:\\users\\alexa\\anaconda3\\lib\\site-packages (from ipython>=5.5.0->interpret-core[aplr,dash,debug,linear,notebook,plotly,sensitivity,shap]==0.6.10->interpret>=0.4.2->dnamite) (3.0.43)\n",
      "Requirement already satisfied: pygments>=2.4.0 in c:\\users\\alexa\\anaconda3\\lib\\site-packages (from ipython>=5.5.0->interpret-core[aplr,dash,debug,linear,notebook,plotly,sensitivity,shap]==0.6.10->interpret>=0.4.2->dnamite) (2.15.1)\n",
      "Requirement already satisfied: stack-data in c:\\users\\alexa\\anaconda3\\lib\\site-packages (from ipython>=5.5.0->interpret-core[aplr,dash,debug,linear,notebook,plotly,sensitivity,shap]==0.6.10->interpret>=0.4.2->dnamite) (0.2.0)\n",
      "Requirement already satisfied: tenacity>=6.2.0 in c:\\users\\alexa\\anaconda3\\lib\\site-packages (from plotly>=3.8.1->interpret-core[aplr,dash,debug,linear,notebook,plotly,sensitivity,shap]==0.6.10->interpret>=0.4.2->dnamite) (8.2.3)\n",
      "Requirement already satisfied: charset-normalizer<4,>=2 in c:\\users\\alexa\\anaconda3\\lib\\site-packages (from requests>=2.19.0->interpret-core[aplr,dash,debug,linear,notebook,plotly,sensitivity,shap]==0.6.10->interpret>=0.4.2->dnamite) (3.3.2)\n",
      "Requirement already satisfied: idna<4,>=2.5 in c:\\users\\alexa\\anaconda3\\lib\\site-packages (from requests>=2.19.0->interpret-core[aplr,dash,debug,linear,notebook,plotly,sensitivity,shap]==0.6.10->interpret>=0.4.2->dnamite) (3.7)\n",
      "Requirement already satisfied: urllib3<3,>=1.21.1 in c:\\users\\alexa\\anaconda3\\lib\\site-packages (from requests>=2.19.0->interpret-core[aplr,dash,debug,linear,notebook,plotly,sensitivity,shap]==0.6.10->interpret>=0.4.2->dnamite) (2.2.3)\n",
      "Requirement already satisfied: certifi>=2017.4.17 in c:\\users\\alexa\\anaconda3\\lib\\site-packages (from requests>=2.19.0->interpret-core[aplr,dash,debug,linear,notebook,plotly,sensitivity,shap]==0.6.10->interpret>=0.4.2->dnamite) (2025.1.31)\n",
      "Collecting multiprocess (from SALib>=1.3.3->interpret-core[aplr,dash,debug,linear,notebook,plotly,sensitivity,shap]==0.6.10->interpret>=0.4.2->dnamite)\n",
      "  Downloading multiprocess-0.70.18-py312-none-any.whl.metadata (7.5 kB)\n",
      "Collecting slicer==0.0.8 (from shap>=0.28.5->interpret-core[aplr,dash,debug,linear,notebook,plotly,sensitivity,shap]==0.6.10->interpret>=0.4.2->dnamite)\n",
      "  Downloading slicer-0.0.8-py3-none-any.whl.metadata (4.0 kB)\n",
      "Requirement already satisfied: numba>=0.54 in c:\\users\\alexa\\anaconda3\\lib\\site-packages (from shap>=0.28.5->interpret-core[aplr,dash,debug,linear,notebook,plotly,sensitivity,shap]==0.6.10->interpret>=0.4.2->dnamite) (0.60.0)\n",
      "Requirement already satisfied: cloudpickle in c:\\users\\alexa\\anaconda3\\lib\\site-packages (from shap>=0.28.5->interpret-core[aplr,dash,debug,linear,notebook,plotly,sensitivity,shap]==0.6.10->interpret>=0.4.2->dnamite) (3.0.0)\n",
      "Requirement already satisfied: pycparser in c:\\users\\alexa\\anaconda3\\lib\\site-packages (from cffi>=1.17.1->gevent>=1.3.6->interpret-core[aplr,dash,debug,linear,notebook,plotly,sensitivity,shap]==0.6.10->interpret>=0.4.2->dnamite) (2.21)\n",
      "Requirement already satisfied: itsdangerous>=2.1.2 in c:\\users\\alexa\\anaconda3\\lib\\site-packages (from Flask<3.1,>=1.0.4->dash<3.0.0,>=1.0.0->interpret-core[aplr,dash,debug,linear,notebook,plotly,sensitivity,shap]==0.6.10->interpret>=0.4.2->dnamite) (2.2.0)\n",
      "Requirement already satisfied: click>=8.1.3 in c:\\users\\alexa\\anaconda3\\lib\\site-packages (from Flask<3.1,>=1.0.4->dash<3.0.0,>=1.0.0->interpret-core[aplr,dash,debug,linear,notebook,plotly,sensitivity,shap]==0.6.10->interpret>=0.4.2->dnamite) (8.1.7)\n",
      "Requirement already satisfied: blinker>=1.6.2 in c:\\users\\alexa\\anaconda3\\lib\\site-packages (from Flask<3.1,>=1.0.4->dash<3.0.0,>=1.0.0->interpret-core[aplr,dash,debug,linear,notebook,plotly,sensitivity,shap]==0.6.10->interpret>=0.4.2->dnamite) (1.6.2)\n",
      "Requirement already satisfied: parso<0.9.0,>=0.8.3 in c:\\users\\alexa\\anaconda3\\lib\\site-packages (from jedi>=0.16->ipython>=5.5.0->interpret-core[aplr,dash,debug,linear,notebook,plotly,sensitivity,shap]==0.6.10->interpret>=0.4.2->dnamite) (0.8.3)\n",
      "Requirement already satisfied: platformdirs>=2.5 in c:\\users\\alexa\\anaconda3\\lib\\site-packages (from jupyter-core!=5.0.*,>=4.12->ipykernel>=4.10.0->interpret-core[aplr,dash,debug,linear,notebook,plotly,sensitivity,shap]==0.6.10->interpret>=0.4.2->dnamite) (3.10.0)\n",
      "Requirement already satisfied: pywin32>=300 in c:\\users\\alexa\\anaconda3\\lib\\site-packages (from jupyter-core!=5.0.*,>=4.12->ipykernel>=4.10.0->interpret-core[aplr,dash,debug,linear,notebook,plotly,sensitivity,shap]==0.6.10->interpret>=0.4.2->dnamite) (305.1)\n",
      "Requirement already satisfied: llvmlite<0.44,>=0.43.0dev0 in c:\\users\\alexa\\anaconda3\\lib\\site-packages (from numba>=0.54->shap>=0.28.5->interpret-core[aplr,dash,debug,linear,notebook,plotly,sensitivity,shap]==0.6.10->interpret>=0.4.2->dnamite) (0.43.0)\n",
      "Requirement already satisfied: wcwidth in c:\\users\\alexa\\anaconda3\\lib\\site-packages (from prompt-toolkit<3.1.0,>=3.0.41->ipython>=5.5.0->interpret-core[aplr,dash,debug,linear,notebook,plotly,sensitivity,shap]==0.6.10->interpret>=0.4.2->dnamite) (0.2.5)\n",
      "Requirement already satisfied: zipp>=0.5 in c:\\users\\alexa\\anaconda3\\lib\\site-packages (from importlib-metadata->dash<3.0.0,>=1.0.0->interpret-core[aplr,dash,debug,linear,notebook,plotly,sensitivity,shap]==0.6.10->interpret>=0.4.2->dnamite) (3.17.0)\n",
      "Collecting dill>=0.2.5 (from interpret-core[aplr,dash,debug,linear,notebook,plotly,sensitivity,shap]==0.6.10->interpret>=0.4.2->dnamite)\n",
      "  Downloading dill-0.4.0-py3-none-any.whl.metadata (10 kB)\n",
      "Requirement already satisfied: executing in c:\\users\\alexa\\anaconda3\\lib\\site-packages (from stack-data->ipython>=5.5.0->interpret-core[aplr,dash,debug,linear,notebook,plotly,sensitivity,shap]==0.6.10->interpret>=0.4.2->dnamite) (0.8.3)\n",
      "Requirement already satisfied: asttokens in c:\\users\\alexa\\anaconda3\\lib\\site-packages (from stack-data->ipython>=5.5.0->interpret-core[aplr,dash,debug,linear,notebook,plotly,sensitivity,shap]==0.6.10->interpret>=0.4.2->dnamite) (2.0.5)\n",
      "Requirement already satisfied: pure-eval in c:\\users\\alexa\\anaconda3\\lib\\site-packages (from stack-data->ipython>=5.5.0->interpret-core[aplr,dash,debug,linear,notebook,plotly,sensitivity,shap]==0.6.10->interpret>=0.4.2->dnamite) (0.2.2)\n",
      "Downloading dnamite-1.0.7-py3-none-any.whl (91 kB)\n",
      "Downloading interpret-0.6.10-py3-none-any.whl (1.4 kB)\n",
      "Downloading interpret_core-0.6.10-py3-none-any.whl (16.6 MB)\n",
      "   ---------------------------------------- 0.0/16.6 MB ? eta -:--:--\n",
      "   ------ --------------------------------- 2.6/16.6 MB 12.6 MB/s eta 0:00:02\n",
      "   -------------- ------------------------- 6.0/16.6 MB 15.4 MB/s eta 0:00:01\n",
      "   ---------------------- ----------------- 9.4/16.6 MB 15.5 MB/s eta 0:00:01\n",
      "   ----------------------------- ---------- 12.3/16.6 MB 14.6 MB/s eta 0:00:01\n",
      "   ------------------------------------ --- 15.2/16.6 MB 14.5 MB/s eta 0:00:01\n",
      "   ---------------------------------------- 16.6/16.6 MB 13.9 MB/s eta 0:00:00\n",
      "Downloading PyYAML-6.0.2-cp312-cp312-win_amd64.whl (156 kB)\n",
      "Downloading scikit_survival-0.24.1-cp312-cp312-win_amd64.whl (832 kB)\n",
      "   ---------------------------------------- 0.0/832.6 kB ? eta -:--:--\n",
      "   --------------------------------------- 832.6/832.6 kB 12.1 MB/s eta 0:00:00\n",
      "Downloading scikit_learn-1.6.1-cp312-cp312-win_amd64.whl (11.1 MB)\n",
      "   ---------------------------------------- 0.0/11.1 MB ? eta -:--:--\n",
      "   ---------- ----------------------------- 2.9/11.1 MB 15.2 MB/s eta 0:00:01\n",
      "   ----------------------- ---------------- 6.6/11.1 MB 16.1 MB/s eta 0:00:01\n",
      "   ----------------------------------- ---- 10.0/11.1 MB 15.9 MB/s eta 0:00:01\n",
      "   ---------------------------------------- 11.1/11.1 MB 15.1 MB/s eta 0:00:00\n",
      "Downloading torch-2.7.0-cp312-cp312-win_amd64.whl (212.5 MB)\n",
      "   ---------------------------------------- 0.0/212.5 MB ? eta -:--:--\n",
      "    --------------------------------------- 3.1/212.5 MB 15.4 MB/s eta 0:00:14\n",
      "   - -------------------------------------- 6.8/212.5 MB 16.8 MB/s eta 0:00:13\n",
      "   - -------------------------------------- 10.5/212.5 MB 16.8 MB/s eta 0:00:13\n",
      "   -- ------------------------------------- 14.2/212.5 MB 16.8 MB/s eta 0:00:12\n",
      "   --- ------------------------------------ 17.8/212.5 MB 16.8 MB/s eta 0:00:12\n",
      "   --- ------------------------------------ 21.2/212.5 MB 16.8 MB/s eta 0:00:12\n",
      "   ---- ----------------------------------- 24.9/212.5 MB 16.8 MB/s eta 0:00:12\n",
      "   ----- ---------------------------------- 28.3/212.5 MB 16.8 MB/s eta 0:00:11\n",
      "   ----- ---------------------------------- 31.5/212.5 MB 16.5 MB/s eta 0:00:11\n",
      "   ------ --------------------------------- 34.9/212.5 MB 16.4 MB/s eta 0:00:11\n",
      "   ------- -------------------------------- 38.5/212.5 MB 16.4 MB/s eta 0:00:11\n",
      "   ------- -------------------------------- 42.2/212.5 MB 16.5 MB/s eta 0:00:11\n",
      "   -------- ------------------------------- 45.4/212.5 MB 16.3 MB/s eta 0:00:11\n",
      "   --------- ------------------------------ 48.8/212.5 MB 16.3 MB/s eta 0:00:11\n",
      "   --------- ------------------------------ 52.4/212.5 MB 16.4 MB/s eta 0:00:10\n",
      "   ---------- ----------------------------- 56.1/212.5 MB 16.4 MB/s eta 0:00:10\n",
      "   ----------- ---------------------------- 59.8/212.5 MB 16.4 MB/s eta 0:00:10\n",
      "   ----------- ---------------------------- 63.2/212.5 MB 16.4 MB/s eta 0:00:10\n",
      "   ------------ --------------------------- 66.3/212.5 MB 16.3 MB/s eta 0:00:09\n",
      "   ------------- -------------------------- 69.5/212.5 MB 16.2 MB/s eta 0:00:09\n",
      "   ------------- -------------------------- 72.9/212.5 MB 16.2 MB/s eta 0:00:09\n",
      "   -------------- ------------------------- 76.0/212.5 MB 16.2 MB/s eta 0:00:09\n",
      "   --------------- ------------------------ 79.7/212.5 MB 16.1 MB/s eta 0:00:09\n",
      "   --------------- ------------------------ 83.1/212.5 MB 16.2 MB/s eta 0:00:09\n",
      "   ---------------- ----------------------- 86.5/212.5 MB 16.1 MB/s eta 0:00:08\n",
      "   ---------------- ----------------------- 89.7/212.5 MB 16.1 MB/s eta 0:00:08\n",
      "   ----------------- ---------------------- 93.1/212.5 MB 16.1 MB/s eta 0:00:08\n",
      "   ------------------ --------------------- 97.0/212.5 MB 16.1 MB/s eta 0:00:08\n",
      "   ------------------ -------------------- 100.4/212.5 MB 16.1 MB/s eta 0:00:07\n",
      "   ------------------- ------------------- 104.1/212.5 MB 16.2 MB/s eta 0:00:07\n",
      "   ------------------- ------------------- 107.7/212.5 MB 16.2 MB/s eta 0:00:07\n",
      "   -------------------- ------------------ 110.9/212.5 MB 16.2 MB/s eta 0:00:07\n",
      "   -------------------- ------------------ 114.0/212.5 MB 16.1 MB/s eta 0:00:07\n",
      "   --------------------- ----------------- 117.4/212.5 MB 16.1 MB/s eta 0:00:06\n",
      "   ---------------------- ---------------- 120.3/212.5 MB 16.0 MB/s eta 0:00:06\n",
      "   ---------------------- ---------------- 124.0/212.5 MB 16.1 MB/s eta 0:00:06\n",
      "   ----------------------- --------------- 127.7/212.5 MB 16.1 MB/s eta 0:00:06\n",
      "   ----------------------- --------------- 130.5/212.5 MB 16.1 MB/s eta 0:00:06\n",
      "   ------------------------ -------------- 133.4/212.5 MB 16.0 MB/s eta 0:00:05\n",
      "   ------------------------- ------------- 136.3/212.5 MB 15.9 MB/s eta 0:00:05\n",
      "   ------------------------- ------------- 138.9/212.5 MB 15.9 MB/s eta 0:00:05\n",
      "   -------------------------- ------------ 141.8/212.5 MB 15.9 MB/s eta 0:00:05\n",
      "   -------------------------- ------------ 145.0/212.5 MB 15.8 MB/s eta 0:00:05\n",
      "   --------------------------- ----------- 148.1/212.5 MB 15.8 MB/s eta 0:00:05\n",
      "   --------------------------- ----------- 151.0/212.5 MB 15.8 MB/s eta 0:00:04\n",
      "   ---------------------------- ---------- 154.1/212.5 MB 15.7 MB/s eta 0:00:04\n",
      "   ---------------------------- ---------- 157.3/212.5 MB 15.7 MB/s eta 0:00:04\n",
      "   ----------------------------- --------- 161.0/212.5 MB 15.7 MB/s eta 0:00:04\n",
      "   ------------------------------ -------- 164.4/212.5 MB 15.8 MB/s eta 0:00:04\n",
      "   ------------------------------ -------- 167.8/212.5 MB 15.8 MB/s eta 0:00:03\n",
      "   ------------------------------- ------- 170.7/212.5 MB 15.7 MB/s eta 0:00:03\n",
      "   ------------------------------- ------- 173.8/212.5 MB 15.7 MB/s eta 0:00:03\n",
      "   -------------------------------- ------ 176.9/212.5 MB 15.7 MB/s eta 0:00:03\n",
      "   --------------------------------- ----- 179.8/212.5 MB 15.6 MB/s eta 0:00:03\n",
      "   --------------------------------- ----- 183.0/212.5 MB 15.6 MB/s eta 0:00:02\n",
      "   ---------------------------------- ---- 186.1/212.5 MB 15.6 MB/s eta 0:00:02\n",
      "   ---------------------------------- ---- 189.0/212.5 MB 15.6 MB/s eta 0:00:02\n",
      "   ----------------------------------- --- 191.6/212.5 MB 15.5 MB/s eta 0:00:02\n",
      "   ----------------------------------- --- 194.5/212.5 MB 15.5 MB/s eta 0:00:02\n",
      "   ------------------------------------ -- 197.4/212.5 MB 15.4 MB/s eta 0:00:01\n",
      "   ------------------------------------ -- 200.0/212.5 MB 15.4 MB/s eta 0:00:01\n",
      "   ------------------------------------- - 203.2/212.5 MB 15.3 MB/s eta 0:00:01\n",
      "   ------------------------------------- - 205.8/212.5 MB 15.3 MB/s eta 0:00:01\n",
      "   --------------------------------------  207.9/212.5 MB 15.2 MB/s eta 0:00:01\n",
      "   --------------------------------------  210.8/212.5 MB 15.2 MB/s eta 0:00:01\n",
      "   --------------------------------------  212.3/212.5 MB 15.2 MB/s eta 0:00:01\n",
      "   --------------------------------------  212.3/212.5 MB 15.2 MB/s eta 0:00:01\n",
      "   --------------------------------------- 212.5/212.5 MB 14.7 MB/s eta 0:00:00\n",
      "Downloading osqp-0.6.7.post3-cp312-cp312-win_amd64.whl (293 kB)\n",
      "Downloading sympy-1.14.0-py3-none-any.whl (6.3 MB)\n",
      "   ---------------------------------------- 0.0/6.3 MB ? eta -:--:--\n",
      "   ---------------- ----------------------- 2.6/6.3 MB 13.7 MB/s eta 0:00:01\n",
      "   ---------------------------------- ----- 5.5/6.3 MB 13.4 MB/s eta 0:00:01\n",
      "   ---------------------------------------- 6.3/6.3 MB 12.5 MB/s eta 0:00:00\n",
      "Downloading ecos-2.0.14-cp312-cp312-win_amd64.whl (72 kB)\n",
      "Downloading aplr-10.9.0-cp312-cp312-win_amd64.whl (262 kB)\n",
      "Downloading dash-2.18.2-py3-none-any.whl (7.8 MB)\n",
      "   ---------------------------------------- 0.0/7.8 MB ? eta -:--:--\n",
      "   --------- ------------------------------ 1.8/7.8 MB 9.1 MB/s eta 0:00:01\n",
      "   ------------------------ --------------- 4.7/7.8 MB 11.4 MB/s eta 0:00:01\n",
      "   ---------------------------------------  7.6/7.8 MB 12.1 MB/s eta 0:00:01\n",
      "   ---------------------------------------- 7.8/7.8 MB 11.5 MB/s eta 0:00:00\n",
      "Downloading dash_core_components-2.0.0-py3-none-any.whl (3.8 kB)\n",
      "Downloading dash_html_components-2.0.0-py3-none-any.whl (4.1 kB)\n",
      "Downloading dash_table-5.0.0-py3-none-any.whl (3.9 kB)\n",
      "Downloading gevent-25.5.1-cp312-cp312-win_amd64.whl (1.6 MB)\n",
      "   ---------------------------------------- 0.0/1.6 MB ? eta -:--:--\n",
      "   ---------------------------------------- 1.6/1.6 MB 11.0 MB/s eta 0:00:00\n",
      "Downloading salib-1.5.1-py3-none-any.whl (778 kB)\n",
      "   ---------------------------------------- 0.0/778.9 kB ? eta -:--:--\n",
      "   --------------------------------------- 778.9/778.9 kB 11.0 MB/s eta 0:00:00\n",
      "Downloading shap-0.47.2-cp312-cp312-win_amd64.whl (545 kB)\n",
      "   ---------------------------------------- 0.0/545.2 kB ? eta -:--:--\n",
      "   ---------------------------------------- 545.2/545.2 kB 8.8 MB/s eta 0:00:00\n",
      "Downloading slicer-0.0.8-py3-none-any.whl (15 kB)\n",
      "Downloading qdldl-0.1.7.post5-cp312-cp312-win_amd64.whl (90 kB)\n",
      "Downloading greenlet-3.2.2-cp312-cp312-win_amd64.whl (296 kB)\n",
      "Downloading multiprocess-0.70.18-py312-none-any.whl (150 kB)\n",
      "Downloading dill-0.4.0-py3-none-any.whl (119 kB)\n",
      "Downloading retrying-1.3.4-py3-none-any.whl (11 kB)\n",
      "Downloading zope.event-5.0-py3-none-any.whl (6.8 kB)\n",
      "Building wheels for collected packages: dash-cytoscape\n",
      "  Building wheel for dash-cytoscape (setup.py): started\n",
      "  Building wheel for dash-cytoscape (setup.py): finished with status 'done'\n",
      "  Created wheel for dash-cytoscape: filename=dash_cytoscape-1.0.2-py3-none-any.whl size=4010751 sha256=a278fc708b7926a7bcc8cad7fb0864b101b3084654df40f6fdd8eb83f625ed7f\n",
      "  Stored in directory: c:\\users\\alexa\\appdata\\local\\pip\\cache\\wheels\\0c\\db\\f6\\9dcb225e9adf45dfef713542769556b1f508170a0759053892\n",
      "Successfully built dash-cytoscape\n",
      "Installing collected packages: dash-table, dash-html-components, dash-core-components, zope.event, sympy, slicer, retrying, PyYAML, greenlet, dill, aplr, torch, scikit_learn, qdldl, multiprocess, gevent, ecos, shap, SALib, osqp, interpret_core, dash, scikit_survival, dash-cytoscape, interpret, dnamite\n",
      "  Attempting uninstall: sympy\n",
      "    Found existing installation: sympy 1.13.2\n",
      "    Uninstalling sympy-1.13.2:\n",
      "      Successfully uninstalled sympy-1.13.2\n",
      "  Attempting uninstall: PyYAML\n",
      "    Found existing installation: PyYAML 6.0.1\n",
      "    Uninstalling PyYAML-6.0.1:\n",
      "      Successfully uninstalled PyYAML-6.0.1\n",
      "  Attempting uninstall: greenlet\n",
      "    Found existing installation: greenlet 3.0.1\n",
      "    Uninstalling greenlet-3.0.1:\n",
      "      Successfully uninstalled greenlet-3.0.1\n",
      "  Attempting uninstall: dill\n",
      "    Found existing installation: dill 0.3.8\n",
      "    Uninstalling dill-0.3.8:\n",
      "      Successfully uninstalled dill-0.3.8\n",
      "  Attempting uninstall: scikit_learn\n",
      "    Found existing installation: scikit-learn 1.5.1\n",
      "    Uninstalling scikit-learn-1.5.1:\n",
      "      Successfully uninstalled scikit-learn-1.5.1\n",
      "Successfully installed PyYAML-6.0.2 SALib-1.5.1 aplr-10.9.0 dash-2.18.2 dash-core-components-2.0.0 dash-cytoscape-1.0.2 dash-html-components-2.0.0 dash-table-5.0.0 dill-0.4.0 dnamite-1.0.7 ecos-2.0.14 gevent-25.5.1 greenlet-3.2.2 interpret-0.6.10 interpret_core-0.6.10 multiprocess-0.70.18 osqp-0.6.7.post3 qdldl-0.1.7.post5 retrying-1.3.4 scikit_learn-1.6.1 scikit_survival-0.24.1 shap-0.47.2 slicer-0.0.8 sympy-1.14.0 torch-2.7.0 zope.event-5.0\n",
      "Note: you may need to restart the kernel to use updated packages.\n"
     ]
    }
   ],
   "source": [
    "# Install dnamite if not installed\n",
    "%pip install dnamite"
   ]
  },
  {
   "cell_type": "code",
   "execution_count": 47,
   "metadata": {
    "id": "_y9jKikigMho"
   },
   "outputs": [],
   "source": [
    "# Import Ames Housing dataset\n",
    "\n",
    "data = pd.read_csv(\"https://raw.githubusercontent.com/stanford-mse-125-2025/mse-125-2025-public/refs/heads/main/data/ames_housing.csv\")\n",
    "\n",
    "X = data.drop(columns=[\"SalePrice\", \"Id\"])\n",
    "y = data[\"SalePrice\"]"
   ]
  },
  {
   "cell_type": "markdown",
   "metadata": {
    "id": "8e7pOT3viUdB"
   },
   "source": [
    "**Part (a):** Use the `dnamite` package (see [dnamite.readthedocs.io](https://dnamite.readthedocs.io)) to fit a model on the Ames housing dataset. Select 6 features by using `reg_param = 0.04` and `random_state=10`.\n"
   ]
  },
  {
   "cell_type": "code",
   "execution_count": 50,
   "metadata": {
    "colab": {
     "base_uri": "https://localhost:8080/"
    },
    "id": "t08_ltxlgtOU",
    "outputId": "e86b151c-8065-4c02-f52b-389ada124b4f"
   },
   "outputs": [
    {
     "ename": "ImportError",
     "evalue": "cannot import name 'get_tags' from 'sklearn.utils._tags' (C:\\Users\\alexa\\anaconda3\\Lib\\site-packages\\sklearn\\utils\\_tags.py)",
     "output_type": "error",
     "traceback": [
      "\u001b[1;31m---------------------------------------------------------------------------\u001b[0m",
      "\u001b[1;31mImportError\u001b[0m                               Traceback (most recent call last)",
      "Cell \u001b[1;32mIn[50], line 1\u001b[0m\n\u001b[1;32m----> 1\u001b[0m \u001b[38;5;28;01mfrom\u001b[39;00m \u001b[38;5;21;01mdnamite\u001b[39;00m\u001b[38;5;21;01m.\u001b[39;00m\u001b[38;5;21;01mmodels\u001b[39;00m \u001b[38;5;28;01mimport\u001b[39;00m DNAMiteRegressor\n",
      "File \u001b[1;32m~\\anaconda3\\Lib\\site-packages\\dnamite\\models\\__init__.py:2\u001b[0m\n\u001b[0;32m      1\u001b[0m \u001b[38;5;66;03m# from .coxnam import CoxNAM\u001b[39;00m\n\u001b[1;32m----> 2\u001b[0m \u001b[38;5;28;01mfrom\u001b[39;00m \u001b[38;5;21;01m.\u001b[39;00m\u001b[38;5;21;01mdnamite\u001b[39;00m \u001b[38;5;28;01mimport\u001b[39;00m (\n\u001b[0;32m      3\u001b[0m     \u001b[38;5;66;03m# BaseDNAMiteModel,\u001b[39;00m\n\u001b[0;32m      4\u001b[0m     DNAMiteBinaryClassifier,\n\u001b[0;32m      5\u001b[0m     DNAMiteRegressor,\n\u001b[0;32m      6\u001b[0m     DNAMiteMulticlassClassifier,\n\u001b[0;32m      7\u001b[0m     DNAMiteSurvival\n\u001b[0;32m      8\u001b[0m )\n",
      "File \u001b[1;32m~\\anaconda3\\Lib\\site-packages\\dnamite\\models\\dnamite.py:18\u001b[0m\n\u001b[0;32m     16\u001b[0m \u001b[38;5;28;01mfrom\u001b[39;00m \u001b[38;5;21;01msklearn\u001b[39;00m\u001b[38;5;21;01m.\u001b[39;00m\u001b[38;5;21;01mmetrics\u001b[39;00m \u001b[38;5;28;01mimport\u001b[39;00m roc_auc_score\n\u001b[0;32m     17\u001b[0m \u001b[38;5;28;01mfrom\u001b[39;00m \u001b[38;5;21;01msklearn\u001b[39;00m\u001b[38;5;21;01m.\u001b[39;00m\u001b[38;5;21;01mpreprocessing\u001b[39;00m \u001b[38;5;28;01mimport\u001b[39;00m OrdinalEncoder, LabelEncoder, StandardScaler\n\u001b[1;32m---> 18\u001b[0m \u001b[38;5;28;01mfrom\u001b[39;00m \u001b[38;5;21;01msksurv\u001b[39;00m\u001b[38;5;21;01m.\u001b[39;00m\u001b[38;5;21;01mnonparametric\u001b[39;00m \u001b[38;5;28;01mimport\u001b[39;00m CensoringDistributionEstimator, kaplan_meier_estimator\n\u001b[0;32m     19\u001b[0m \u001b[38;5;28;01mfrom\u001b[39;00m \u001b[38;5;21;01msksurv\u001b[39;00m\u001b[38;5;21;01m.\u001b[39;00m\u001b[38;5;21;01mlinear_model\u001b[39;00m \u001b[38;5;28;01mimport\u001b[39;00m CoxPHSurvivalAnalysis\n\u001b[0;32m     20\u001b[0m \u001b[38;5;28;01mfrom\u001b[39;00m \u001b[38;5;21;01mtqdm\u001b[39;00m \u001b[38;5;28;01mimport\u001b[39;00m tqdm\n",
      "File \u001b[1;32m~\\anaconda3\\Lib\\site-packages\\sksurv\\__init__.py:5\u001b[0m\n\u001b[0;32m      2\u001b[0m \u001b[38;5;28;01mimport\u001b[39;00m \u001b[38;5;21;01mplatform\u001b[39;00m\n\u001b[0;32m      3\u001b[0m \u001b[38;5;28;01mimport\u001b[39;00m \u001b[38;5;21;01msys\u001b[39;00m\n\u001b[1;32m----> 5\u001b[0m \u001b[38;5;28;01mfrom\u001b[39;00m \u001b[38;5;21;01msklearn\u001b[39;00m\u001b[38;5;21;01m.\u001b[39;00m\u001b[38;5;21;01mpipeline\u001b[39;00m \u001b[38;5;28;01mimport\u001b[39;00m Pipeline, _final_estimator_has\n\u001b[0;32m      6\u001b[0m \u001b[38;5;28;01mfrom\u001b[39;00m \u001b[38;5;21;01msklearn\u001b[39;00m\u001b[38;5;21;01m.\u001b[39;00m\u001b[38;5;21;01mutils\u001b[39;00m\u001b[38;5;21;01m.\u001b[39;00m\u001b[38;5;21;01mmetaestimators\u001b[39;00m \u001b[38;5;28;01mimport\u001b[39;00m available_if\n\u001b[0;32m      8\u001b[0m \u001b[38;5;28;01mfrom\u001b[39;00m \u001b[38;5;21;01m.\u001b[39;00m\u001b[38;5;21;01mutil\u001b[39;00m \u001b[38;5;28;01mimport\u001b[39;00m property_available_if\n",
      "File \u001b[1;32m~\\anaconda3\\Lib\\site-packages\\sklearn\\pipeline.py:26\u001b[0m\n\u001b[0;32m     21\u001b[0m \u001b[38;5;28;01mfrom\u001b[39;00m \u001b[38;5;21;01m.\u001b[39;00m\u001b[38;5;21;01mutils\u001b[39;00m\u001b[38;5;21;01m.\u001b[39;00m\u001b[38;5;21;01m_param_validation\u001b[39;00m \u001b[38;5;28;01mimport\u001b[39;00m HasMethods, Hidden\n\u001b[0;32m     22\u001b[0m \u001b[38;5;28;01mfrom\u001b[39;00m \u001b[38;5;21;01m.\u001b[39;00m\u001b[38;5;21;01mutils\u001b[39;00m\u001b[38;5;21;01m.\u001b[39;00m\u001b[38;5;21;01m_set_output\u001b[39;00m \u001b[38;5;28;01mimport\u001b[39;00m (\n\u001b[0;32m     23\u001b[0m     _get_container_adapter,\n\u001b[0;32m     24\u001b[0m     _safe_set_output,\n\u001b[0;32m     25\u001b[0m )\n\u001b[1;32m---> 26\u001b[0m \u001b[38;5;28;01mfrom\u001b[39;00m \u001b[38;5;21;01m.\u001b[39;00m\u001b[38;5;21;01mutils\u001b[39;00m\u001b[38;5;21;01m.\u001b[39;00m\u001b[38;5;21;01m_tags\u001b[39;00m \u001b[38;5;28;01mimport\u001b[39;00m get_tags\n\u001b[0;32m     27\u001b[0m \u001b[38;5;28;01mfrom\u001b[39;00m \u001b[38;5;21;01m.\u001b[39;00m\u001b[38;5;21;01mutils\u001b[39;00m\u001b[38;5;21;01m.\u001b[39;00m\u001b[38;5;21;01m_user_interface\u001b[39;00m \u001b[38;5;28;01mimport\u001b[39;00m _print_elapsed_time\n\u001b[0;32m     28\u001b[0m \u001b[38;5;28;01mfrom\u001b[39;00m \u001b[38;5;21;01m.\u001b[39;00m\u001b[38;5;21;01mutils\u001b[39;00m\u001b[38;5;21;01m.\u001b[39;00m\u001b[38;5;21;01mdeprecation\u001b[39;00m \u001b[38;5;28;01mimport\u001b[39;00m _deprecate_Xt_in_inverse_transform\n",
      "\u001b[1;31mImportError\u001b[0m: cannot import name 'get_tags' from 'sklearn.utils._tags' (C:\\Users\\alexa\\anaconda3\\Lib\\site-packages\\sklearn\\utils\\_tags.py)"
     ]
    }
   ],
   "source": [
    "from dnamite.models import DNAMiteRegressor\n",
    "\n",
    "# Code here!\n",
    "\n"
   ]
  },
  {
   "cell_type": "markdown",
   "metadata": {
    "id": "UncFkz1wi_uS"
   },
   "source": [
    "**Part (b):** Now, fit a dnamite model on the selected features"
   ]
  },
  {
   "cell_type": "code",
   "execution_count": 52,
   "metadata": {
    "colab": {
     "base_uri": "https://localhost:8080/",
     "height": 98
    },
    "id": "80Zu916qjbvy",
    "outputId": "450ecfae-9090-4844-d270-7e7aab909e8c"
   },
   "outputs": [],
   "source": [
    "# Code here!\n",
    "\n"
   ]
  },
  {
   "cell_type": "markdown",
   "metadata": {
    "id": "4T4sFZSLgHkK"
   },
   "source": [
    "**Part (c):** Fit a linear regression model using the same 6 features selected above. Compare the R^2 of the linear model to that of the dnamite model. Briefly comment on any differences in performance."
   ]
  },
  {
   "cell_type": "code",
   "execution_count": 55,
   "metadata": {
    "colab": {
     "base_uri": "https://localhost:8080/"
    },
    "id": "6zX37Lv7j6P1",
    "outputId": "7be01a28-fc93-4c13-f0e2-13f6504bbf92"
   },
   "outputs": [],
   "source": [
    "from sklearn.metrics import r2_score\n",
    "\n",
    "# Code here!\n",
    "\n"
   ]
  },
  {
   "cell_type": "markdown",
   "metadata": {
    "id": "JQ8XzYWTj6me"
   },
   "source": [
    "Answer here!\n",
    "\n"
   ]
  },
  {
   "cell_type": "markdown",
   "metadata": {
    "id": "iUHYAeJ0l-Ez"
   },
   "source": [
    "**Part (d)**: Plot the shape function for 1stFlrSF from the dnamite model. Provide one example illustrating how its interpretation differs from the coefficient of 1stFlrSF in the linear regression model. Use no more than 3 sentences."
   ]
  },
  {
   "cell_type": "code",
   "execution_count": 59,
   "metadata": {
    "colab": {
     "base_uri": "https://localhost:8080/",
     "height": 401
    },
    "id": "37NC-GI2mLGn",
    "outputId": "2fd9747f-3a08-4fef-f2b1-9f573ce05260"
   },
   "outputs": [],
   "source": [
    "# Code here!\n",
    "\n"
   ]
  },
  {
   "cell_type": "markdown",
   "metadata": {
    "id": "RvkLTO7tnBWx"
   },
   "source": [
    "Answer here!\n",
    "\n"
   ]
  },
  {
   "cell_type": "markdown",
   "metadata": {
    "id": "kjgzdLVC57VO"
   },
   "source": [
    "## Converting to PDF\n",
    "\n",
    "Use the below cell to convert your notebook to pdf, using the instructions at the beginning of the notebook."
   ]
  },
  {
   "cell_type": "code",
   "execution_count": 19,
   "metadata": {
    "colab": {
     "base_uri": "https://localhost:8080/"
    },
    "id": "l6R_b9_959gy",
    "outputId": "9a6dd60c-213d-4eeb-cff8-621bfa5caf4d"
   },
   "outputs": [
    {
     "name": "stdout",
     "output_type": "stream",
     "text": [
      "W: Skipping acquire of configured file 'main/source/Sources' as repository 'https://r2u.stat.illinois.edu/ubuntu jammy InRelease' does not seem to provide it (sources.list entry misspelt?)\n",
      "Extracting templates from packages: 100%\n",
      "[NbConvertApp] WARNING | pattern '/content/hw7_solutions.ipynb' matched no files\n",
      "sed: can't read /content/hw7_solutions.tex: No such file or directory\n"
     ]
    }
   ],
   "source": [
    "!apt-get update -qq > /dev/null\n",
    "!apt-get install -qq --fix-missing pandoc texlive-latex-base texlive-latex-extra > /dev/null\n",
    "!jupyter nbconvert --to latex \"/content/HW7.ipynb\" > /dev/null\n",
    "!sed -i 's/❗/!/g' /content/HW7.tex\n",
    "!pdflatex -interaction=nonstopmode -halt-on-error \"/content/HW7.tex\" > /dev/null"
   ]
  }
 ],
 "metadata": {
  "colab": {
   "provenance": []
  },
  "kernelspec": {
   "display_name": "Python [conda env:base] *",
   "language": "python",
   "name": "conda-base-py"
  },
  "language_info": {
   "codemirror_mode": {
    "name": "ipython",
    "version": 3
   },
   "file_extension": ".py",
   "mimetype": "text/x-python",
   "name": "python",
   "nbconvert_exporter": "python",
   "pygments_lexer": "ipython3",
   "version": "3.12.7"
  }
 },
 "nbformat": 4,
 "nbformat_minor": 4
}
