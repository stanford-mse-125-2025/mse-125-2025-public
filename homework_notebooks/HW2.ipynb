{
 "cells": [
  {
   "cell_type": "markdown",
   "metadata": {
    "id": "SRfwT-nDZUqI"
   },
   "source": [
    "# Homework 2: Introduction to Inference\n",
    "\n",
    "!!! **IMPORTANT, DO NOT PROCEED BEFORE COMPLETING THE STEP BELOW** !!!\n",
    "\n",
    "If you haven't already, please make a copy of this notebook and save to your Google Drive.\n",
    "This is imperative so that your work is saved as you go."
   ]
  },
  {
   "cell_type": "markdown",
   "metadata": {
    "id": "MNX0zYMUZovk"
   },
   "source": [
    "**Due Date**: Thursday April 17th at 11:59pm.\n",
    "\n",
    "**Submission Instructions**:\n",
    "- Download the notebook: Go to File --> Download --> Download .ipynb.\n",
    "- Upload the notebook: Click the Files icon (left side under the Key icon) --> Click the Upload icon (left most of 4) --> Select the file you just downloaded.\n",
    "- Run the last cell in this notebook.\n",
    "- Find the new pdf file in the same location as your uploaded notebook.\n",
    "- Click the 3 vertical dots for this pdf file --> Click Download.\n",
    "- IMPORTANT: check that your pdf file has not cut off any work from your notebook.\n",
    "- Upload the pdf to Gradescope.\n",
    "\n",
    "**Learning Outcomes**:\n",
    "- Understand statistical inference and uncertainty using Python.\n",
    "- Critically assess assumptions in common inference methods.\n",
    "- Construct and interpret confidence intervals."
   ]
  },
  {
   "cell_type": "markdown",
   "metadata": {
    "id": "Dk_-MZK2atN3"
   },
   "source": [
    "## Poll Link"
   ]
  },
  {
   "cell_type": "markdown",
   "metadata": {
    "id": "3qwfx91-bHMo"
   },
   "source": [
    "Please put a link to your poll here! Remember to make sure that your link is publicly accessible, and is also pasted in the Google Sheet."
   ]
  },
  {
   "cell_type": "markdown",
   "metadata": {
    "id": "3qwfx91-bHMo"
   },
   "source": [
    "Answer here!\n",
    "\n",
    "------------------------------------------------\n",
    "\n",
    "------------------------------------------------"
   ]
  },
  {
   "cell_type": "markdown",
   "metadata": {
    "id": "Dk_-MZK2atN3"
   },
   "source": [
    "## Set up"
   ]
  },
  {
   "cell_type": "markdown",
   "metadata": {
    "id": "3qwfx91-bHMo"
   },
   "source": [
    "Run the cell below to import the libraries we are going to use."
   ]
  },
  {
   "cell_type": "code",
   "execution_count": 17,
   "metadata": {
    "id": "e8vG939xbNkO"
   },
   "outputs": [],
   "source": [
    "import numpy as np\n",
    "import pandas as pd\n",
    "import matplotlib.pyplot as plt\n",
    "import seaborn as sns\n",
    "sns.set_theme()"
   ]
  },
  {
   "cell_type": "markdown",
   "metadata": {
    "id": "TesZvfNgbbTX"
   },
   "source": [
    "## Inference with M&Ms\n"
   ]
  },
  {
   "cell_type": "markdown",
   "metadata": {
    "id": "i85pxzEeba-i"
   },
   "source": [
    "### M&Ms data generating process"
   ]
  },
  {
   "cell_type": "markdown",
   "metadata": {
    "id": "gE5juPltcBI_"
   },
   "source": [
    "Building on the experiment we did in class, this exercise explores the question: On average, what proportion of M&M's are primary colors (yellow, red, or blue)?\n",
    "\n",
    "You'll use data from a single bag of M&M's (the *sample*) to make inferences about the larger, unseen M&M's bagging process (the *population* or *data-generating process*).\n",
    "\n",
    "> At this point, it's natural to worry that filling bags with candy is totally unrelated to your future career prospects. However, this setup is surprisingly common in industry settings.\n",
    ">\n",
    "> For example, suppose you're a product manager who is interested in understanding your customer base. If we survey a random sample of customers, we can think of the aggregate opinion of the entire customer base as the properties of the unobserved M&M's bagging process, and our survey results as the observed bag of M&M's.\n",
    ">\n",
    "> Same idea if you're a pollster trying to understand the fraction of all voters who identify as Republicans when all you get to observe is a small sample of voters.\n",
    ">\n",
    "> The methods taught in this notebook are used *constantly* by practitioners."
   ]
  },
  {
   "cell_type": "markdown",
   "metadata": {
    "id": "TSoWgW5udf_m"
   },
   "source": [
    "### Exercise 0"
   ]
  },
  {
   "cell_type": "markdown",
   "metadata": {
    "id": "8XoZkUOZdhXF"
   },
   "source": [
    "If you attended Lecture 3 in person, you received a bag of M&Ms. Before eating your M&Ms, you reported the count of M&Ms of each color. Report the count of your M&Ms in the code cell below. If you do not remember your count, please locate it in the [aggregated data](https://docs.google.com/spreadsheets/d/1ltmPLWrfBs7JWcOLLq1GFQiibN9W0OfWYFzEiUFohrU/edit?resourcekey=&gid=469698708#gid=469698708)."
   ]
  },
  {
   "cell_type": "code",
   "execution_count": 24,
   "metadata": {
    "id": "okpZjZp1eP4d"
   },
   "outputs": [],
   "source": [
    "# Code here!\n",
    "# --------------------------------- #\n",
    "\n",
    "# --------------------------------- #"
   ]
  },
  {
   "cell_type": "markdown",
   "metadata": {
    "id": "k-Kt8KT4ezz_"
   },
   "source": [
    "### Point estimates"
   ]
  },
  {
   "cell_type": "markdown",
   "metadata": {
    "id": "bfFCS_e0e_No"
   },
   "source": [
    "Our first objective is to provide a *point estimate*, or single best guess, of the *population* proportion of M&M's that are primary colored."
   ]
  },
  {
   "cell_type": "markdown",
   "metadata": {
    "id": "uNduAa7VfKet"
   },
   "source": [
    "### Exercise 1"
   ]
  },
  {
   "cell_type": "markdown",
   "metadata": {
    "id": "FJ0BMlTafL04"
   },
   "source": [
    "In the code cell below, provide a point estimate for the population proportion of M&M's that are primary colored. **Make sure you print the result.**"
   ]
  },
  {
   "cell_type": "code",
   "execution_count": null,
   "metadata": {
    "colab": {
     "base_uri": "https://localhost:8080/"
    },
    "id": "zhbAv4L2bX0s",
    "outputId": "21ac0995-19a6-4e16-ea11-2099211ecbce"
   },
   "outputs": [],
   "source": [
    "# Code here!\n",
    "# --------------------------------- #\n",
    "\n",
    "# --------------------------------- #\n",
    "\n",
    "print(\"Point estimate: \", my_point_estimate)"
   ]
  },
  {
   "cell_type": "markdown",
   "metadata": {
    "id": "-yi-BdGzflAJ"
   },
   "source": [
    "### Uncertainty"
   ]
  },
  {
   "cell_type": "markdown",
   "metadata": {
    "id": "04uDyyDefmwp"
   },
   "source": [
    "Point estimates are often straightforward to calculate.\n",
    "\n",
    "Here's the problem: With only one bag of M&M's, how sure are you of your point estimate?\n",
    "\n",
    "- If you were instead given a different bag of M&M's, would you have had the same point estimate?\n",
    "\n",
    "- If you were instead given a smaller bag of M&M's, would you be less confident of your point estimate?\n",
    "\n",
    "- If you were instead given a Costco-sized plastic tub of M&M's, would you be more confident of your point estimate?\n",
    "\n",
    "What's going on here is **counterfactual reasoning**. In statistical inference, we need to think about **what could have happened in parallel universes**. The (unobserved) distribution of point estimates across these parallel universes is called a **sampling distribution**. This idea powers [frequentist statistical inference](https://en.wikipedia.org/wiki/Frequentist_inference#Relationship_with_other_approaches)!"
   ]
  },
  {
   "cell_type": "markdown",
   "metadata": {
    "id": "owOQrcqEgOve"
   },
   "source": [
    "### Observing parallel universes?!"
   ]
  },
  {
   "cell_type": "markdown",
   "metadata": {
    "id": "2SCRL5HsgR65"
   },
   "source": [
    "We're in an exciting scenario where we can actually *observe parallel universes* where other point estimates were generated. Most of your classmates have also gathered data from their own small random sample of M&Ms.\n",
    "\n",
    "It's important to stress that **this is an unrealistic scenario**. We normally only see one sample of data.\n",
    "\n",
    "If we plot the point estimates from all students in the course, we can get an approximation of the theoretical sampling distribution."
   ]
  },
  {
   "cell_type": "markdown",
   "metadata": {
    "id": "13pOAEcggYVj"
   },
   "source": [
    "### Exercise 2\n",
    "\n"
   ]
  },
  {
   "cell_type": "markdown",
   "metadata": {
    "id": "wbOS7rqY8tYW"
   },
   "source": [
    "Plot the distribution of your and your classmates's point estimates for the proportion of M&M's that are primary colored. Draw a vertical line on your plot indicating the value of your own point estimate.\n",
    "\n",
    "*Reminder*: Starting with this homework, we will expect to see plots that are appropriately formatted for readibility. The plotting tips in Lecture 2 are a helpful reference."
   ]
  },
  {
   "cell_type": "code",
   "execution_count": 38,
   "metadata": {
    "colab": {
     "base_uri": "https://localhost:8080/",
     "height": 501
    },
    "id": "CnU0qrcBgOaY",
    "outputId": "9bda365a-3008-4a06-8307-a38125a160f6"
   },
   "outputs": [],
   "source": [
    "# The classwide M&Ms count data is stored at this URL\n",
    "csv_url = \"https://docs.google.com/spreadsheets/d/e/2PACX-1vTdZfVH8hX4t0TGGaHQcShiV4Tk-OLj1xcD4GUeCz2M-OKfqXn-4O1593LfWdUsnr9Dun4CV5ivjbWi/pub?gid=469698708&single=true&output=csv\"\n",
    "count_data = pd.read_csv(csv_url)\n",
    "\n",
    "# Code here!\n",
    "# --------------------------------- #\n",
    "\n",
    "# --------------------------------- #"
   ]
  },
  {
   "cell_type": "markdown",
   "metadata": {
    "id": "IzTTbn56lBUK"
   },
   "source": [
    "### Exercise 3"
   ]
  },
  {
   "cell_type": "markdown",
   "metadata": {
    "id": "6HLRF6lplBKA"
   },
   "source": [
    "Aggregate all of your classmates data into one giant \"super sample\" of M&Ms. Calculate the proportion of the \"super sample\" that is primary colored in the code cell below. **Make sure you print your result.**\n",
    "\n",
    "Are you at all surprised by the result? If yes, what do you think could account for the discrepancy between your expectation and reality? **Answer in the cell below, in no more than three sentences.**\n",
    "\n",
    "> Given approximately 80 rows of data and 10 M&Ms per bag, our super sample has nearly 800 M&Ms.\n",
    ">\n",
    "> Under an assumption of true randomness, the proportion you calculate in this exercise should be very close to the true proportion of M&Ms that are primary colored.\n",
    ">\n",
    "> For those interested in going down an M&Ms counting rabbit hole, [this article](https://qz.com/918008/the-color-distribution-of-mms-as-determined-by-a-phd-in-statistics) is a good start."
   ]
  },
  {
   "cell_type": "code",
   "execution_count": 42,
   "metadata": {
    "colab": {
     "base_uri": "https://localhost:8080/"
    },
    "id": "QQQUmjBBmCVY",
    "outputId": "1952fc3a-eeb1-4930-c440-3207422d5777"
   },
   "outputs": [],
   "source": [
    "# Code here!\n",
    "# --------------------------------- #\n",
    "\n",
    "# --------------------------------- #"
   ]
  },
  {
   "cell_type": "markdown",
   "metadata": {
    "id": "4b1b-B6mmC3g"
   },
   "source": [
    "Answer here!\n",
    "\n",
    "------------------------------------------------\n",
    "\n",
    "------------------------------------------------"
   ]
  },
  {
   "cell_type": "markdown",
   "metadata": {
    "id": "DT07hhegzC0w"
   },
   "source": [
    "### Constructing parallel universes with statistics"
   ]
  },
  {
   "cell_type": "markdown",
   "metadata": {
    "id": "1XwKD8rGzFCp"
   },
   "source": [
    "Let's recap some notation we saw in class:\n",
    "\n",
    "- $p$: the *population* proportion of M&M's that are primary colored\n",
    "\n",
    "- $\\hat{p}$: the *sample* proportion of M&M's that are primary colored\n",
    "\n",
    "- Let's assume that an M&M's color is a random variable $X$, where each $X_i$ is generated i.i.d. (independently and identically) via a Bernoulli distribution with probability of success $p$. In other words,\n",
    "\n",
    "$$ X \\sim Bernoulli(p) $$\n",
    "\n",
    "$x=1$ denotes a primary colored M&M, and $x=0$ denotes a non-primary colored  M&M."
   ]
  },
  {
   "cell_type": "markdown",
   "metadata": {
    "id": "km-NUPxpz62O"
   },
   "source": [
    "### The theoretical sampling distribution of $\\hat{p}$\n"
   ]
  },
  {
   "cell_type": "markdown",
   "metadata": {
    "id": "ZgZZ45no0EGF"
   },
   "source": [
    "### Exercise 4"
   ]
  },
  {
   "cell_type": "markdown",
   "metadata": {
    "id": "5s7amlGP0Xlb"
   },
   "source": [
    "Taking into account the formulas derived in class for the expected value of $\\hat{p}$ and the variance of $\\hat{p}$ , answer the following 4 subquestions.\n"
   ]
  },
  {
   "cell_type": "markdown",
   "metadata": {
    "id": "b4r8__8u0pgC"
   },
   "source": [
    "**Part (a)**: In the M&Ms counting setting, what is the plain language interpretation of the standard error? **Answer below in no more than two sentences.**"
   ]
  },
  {
   "cell_type": "markdown",
   "metadata": {
    "id": "LQLHVEoN0wdU"
   },
   "source": [
    "Answer here!\n",
    "\n",
    "------------------------------------------------\n",
    "\n",
    "------------------------------------------------"
   ]
  },
  {
   "cell_type": "markdown",
   "metadata": {
    "id": "mu_A2yHZ1HKG"
   },
   "source": [
    "**Part (b)**: Using just your own sample of data, calculate the *estimated standard error* of the sampling distribution of $\\hat{p}$ (*Hint*: you do not need to use the empirical variance formula for your estimate). Then, calculate the *true standard error* using our purported value of *p* obtained from the \"super sample\" (remember, in a realistic setting, *p* is not observed!). Finally, calculate the *empirical standard error* of the sampling distribution, using the collection of all point estimates. **Make sure you print the three results with the corresponding labels.**"
   ]
  },
  {
   "cell_type": "code",
   "execution_count": 53,
   "metadata": {
    "colab": {
     "base_uri": "https://localhost:8080/"
    },
    "id": "XxgEoe6_0BIB",
    "outputId": "87dce016-7591-41ec-c8c1-01d4190ce987"
   },
   "outputs": [],
   "source": [
    "# Code here!\n",
    "# --------------------------------- #\n",
    "\n",
    "# --------------------------------- #"
   ]
  },
  {
   "cell_type": "markdown",
   "metadata": {
    "id": "nOQ_ALWz2H3C"
   },
   "source": [
    "**Part (c)**: Based on your results, do you feel comfortable using the estimated standard error from your single sample as an approximation of the true standard error? Why or why not? In a realistic setting, would we be able to compare the estimated standard error with the true standard error? **Answer below in no more than three sentences.**"
   ]
  },
  {
   "cell_type": "markdown",
   "metadata": {
    "id": "3BmuwqCT2NwV"
   },
   "source": [
    "Answer here!\n",
    "\n",
    "------------------------------------------------\n",
    "\n",
    "------------------------------------------------"
   ]
  },
  {
   "cell_type": "markdown",
   "metadata": {
    "id": "4vqDcaaR2bq9"
   },
   "source": [
    "**Part (d)**: Why do you think the empirical standard error is different than the true standard error? **Answer below in no more than two sentences.**"
   ]
  },
  {
   "cell_type": "markdown",
   "metadata": {
    "id": "MTuRG2F_2foz"
   },
   "source": [
    "Answer here!\n",
    "\n",
    "------------------------------------------------\n",
    "\n",
    "------------------------------------------------"
   ]
  },
  {
   "cell_type": "markdown",
   "metadata": {
    "id": "BY0G9vA53KT7"
   },
   "source": [
    "### The central limit theorem (CLT)"
   ]
  },
  {
   "cell_type": "markdown",
   "metadata": {
    "id": "MzmptwqV3xUd"
   },
   "source": [
    "### Exercise 5"
   ]
  },
  {
   "cell_type": "markdown",
   "metadata": {
    "id": "SA5m1p7N32wE"
   },
   "source": [
    "**Part (a)** Look up the conditions required for the CLT to apply to a Bernoulli distribution. In particular, find the commonly used rule-of-thumb involving n, p, and (1 - p). Then, using what you found, determine whether each of the CLT's conditions are satisfied in the M&Ms context. **Address each condition briefly (no more than 1–2 sentences per bullet point).**"
   ]
  },
  {
   "cell_type": "markdown",
   "metadata": {
    "id": "gWysl1LO5cAw"
   },
   "source": [
    "Answer here!\n",
    "\n",
    "------------------------------------------------\n",
    "\n",
    "------------------------------------------------"
   ]
  },
  {
   "cell_type": "markdown",
   "metadata": {
    "id": "g69a7EFia3Ep"
   },
   "source": [
    "**Part (b)** Go back to the histogram you created in Exercise 2, which shows the sampling distribution of the sample proportions. Based on the shape of the histogram, do you think the CLT applies? Does this visual evidence match your conclusion in part (a)? **Explain in 2-3 sentences.**"
   ]
  },
  {
   "cell_type": "markdown",
   "metadata": {
    "id": "N_SzKXrpbExg"
   },
   "source": [
    "Answer here!\n",
    "\n",
    "------------------------------------------------\n",
    "\n",
    "------------------------------------------------"
   ]
  },
  {
   "cell_type": "markdown",
   "metadata": {
    "id": "QrGZVdbF7nLG"
   },
   "source": [
    "### Putting it all together"
   ]
  },
  {
   "cell_type": "markdown",
   "metadata": {
    "id": "w2EHlNlX7o5i"
   },
   "source": [
    "The CLT allows us to construct normally-approximated confidence intervals for estimators that satisfy the CLT.\n",
    "\n",
    "> We have arrived at why we should care about everything we have learned above: With confidence intervals in hand, we can make statistically-informed industry decisions.\n",
    "\n",
    "In lecture, we saw how to derive approximate confidence intervals using properties of the normal distribution."
   ]
  },
  {
   "cell_type": "markdown",
   "metadata": {
    "id": "Mda9a5Pm7KwK"
   },
   "source": [
    "### Exercise 6"
   ]
  },
  {
   "cell_type": "markdown",
   "metadata": {
    "id": "gaR7d8tE7OBx"
   },
   "source": [
    "**Part (a)**: Using your single M&M's sample and the formula for the estimated standard error of $\\hat{p}$, use the normal approximation to construct a 95% confidence interval for $p$ in the code cell below. **Make sure to print the bounds of your confidence interval**."
   ]
  },
  {
   "cell_type": "code",
   "execution_count": 69,
   "metadata": {
    "colab": {
     "base_uri": "https://localhost:8080/"
    },
    "id": "cW365qKB2HkS",
    "outputId": "4f67e4cd-9560-455e-ea62-75f60ba4ba8b"
   },
   "outputs": [],
   "source": [
    "# Code here!\n",
    "# --------------------------------- #\n",
    "\n",
    "# --------------------------------- #"
   ]
  },
  {
   "cell_type": "markdown",
   "metadata": {
    "id": "MmVj1Yd3-cBq"
   },
   "source": [
    "**Part (b)**: Interpret your confidence interval in no more than one sentence. Does your interval contain the value of $p$ that we calculated from the super sample?  **Write your answer in the cell below.**"
   ]
  },
  {
   "cell_type": "markdown",
   "metadata": {
    "id": "tv3jtipq-hlH"
   },
   "source": [
    "Answer here!\n",
    "\n",
    "------------------------------------------------\n",
    "\n",
    "------------------------------------------------\n"
   ]
  },
  {
   "cell_type": "markdown",
   "metadata": {
    "id": "DLwIsLwE_D90"
   },
   "source": [
    "### Exercise 7"
   ]
  },
  {
   "cell_type": "markdown",
   "metadata": {
    "id": "KQ2GNpq5_GuU"
   },
   "source": [
    "Repeat the previous exercise for each of your classmates' samples (i.e., construct $N$ normally-approximated confidence intervals, where $N$ is the number of students who submitted M&Ms data).\n",
    "\n",
    "**Part (a)**: What fraction of the confidence intervals contain the purported value of $p$ that we calculated from the \"super sample\"? **Do your work in the code cell below and make sure to print out the fraction you calculated**."
   ]
  },
  {
   "cell_type": "code",
   "execution_count": 75,
   "metadata": {
    "colab": {
     "base_uri": "https://localhost:8080/"
    },
    "id": "QiIDME3F_27F",
    "outputId": "2323dc75-9443-4ef2-b8f2-369cb63123b2"
   },
   "outputs": [],
   "source": [
    "# Code here!\n",
    "# --------------------------------- #\n",
    "\n",
    "# --------------------------------- #"
   ]
  },
  {
   "cell_type": "markdown",
   "metadata": {
    "id": "vrlGqfi7Asym"
   },
   "source": [
    "**Part (b)**: If the data generating process (DGP) was correct and all assumptions of the CLT were sufficiently satisfied, what would you expect this fraction to be? **Answer in no more than two sentences in the cell below.**"
   ]
  },
  {
   "cell_type": "markdown",
   "metadata": {
    "id": "kPJ-6JsxAwZB"
   },
   "source": [
    "Answer here!\n",
    "\n",
    "------------------------------------------------\n",
    "\n",
    "------------------------------------------------"
   ]
  },
  {
   "cell_type": "markdown",
   "metadata": {
    "id": "H-pBSflY-_xT"
   },
   "source": [
    "### Exercise 8"
   ]
  },
  {
   "cell_type": "markdown",
   "metadata": {
    "id": "hTy7VRiLBZAo"
   },
   "source": [
    "**Part (a)**: Repeat the coding portions of the previous exercise (7), but instead of using the *estimated standard error* for each confidence interval, use the *empirical standard error* calculated from the sampling distribution of the entire class's estimates. **Make sure you print your result.**"
   ]
  },
  {
   "cell_type": "code",
   "execution_count": 81,
   "metadata": {
    "colab": {
     "base_uri": "https://localhost:8080/"
    },
    "id": "nuFyEwlUByb9",
    "outputId": "98f30e73-be5f-4dec-9344-e4aa25681f6c"
   },
   "outputs": [],
   "source": [
    "# Code here!\n",
    "# --------------------------------- #\n",
    "\n",
    "# --------------------------------- #"
   ]
  },
  {
   "cell_type": "markdown",
   "metadata": {
    "id": "vhRn9PMRBYwx"
   },
   "source": [
    "**Part (b)**: How does the fraction calculated in this exercise compare with the fraction calculated in the previous exercise? What might account for the discrepancy? **Answer in no more than two sentences in the cell below.**"
   ]
  },
  {
   "cell_type": "markdown",
   "metadata": {
    "id": "1ZKNHJ2QC1dS"
   },
   "source": [
    "Answer here!\n",
    "\n",
    "------------------------------------------------\n",
    "\n",
    "------------------------------------------------"
   ]
  },
  {
   "cell_type": "markdown",
   "metadata": {
    "id": "lQ_NqghA-_uu"
   },
   "source": [
    "### Exercise 9"
   ]
  },
  {
   "cell_type": "markdown",
   "metadata": {
    "id": "dQmh6U5U-_ek"
   },
   "source": [
    "Repeat the coding portions of Exercises 7 and 8 above, but construct 80% confidence intervals instead of 95% confidence intervals. How have your results changed? **Answer in no more than three sentences.**"
   ]
  },
  {
   "cell_type": "code",
   "execution_count": 87,
   "metadata": {
    "colab": {
     "base_uri": "https://localhost:8080/"
    },
    "id": "lUc2eCrBz56j",
    "outputId": "9abbd486-91a0-47f0-e1a6-473a8929b995"
   },
   "outputs": [],
   "source": [
    "# Code here for repeating Excercise 7 with 80% CI!\n",
    "# --------------------------------- #\n",
    "\n",
    "# --------------------------------- #"
   ]
  },
  {
   "cell_type": "code",
   "execution_count": 89,
   "metadata": {
    "colab": {
     "base_uri": "https://localhost:8080/"
    },
    "id": "64MvlXZsDlFg",
    "outputId": "243a5508-6517-4a54-f8f7-14419ffdebc3"
   },
   "outputs": [],
   "source": [
    "# Code here for repeating Excercise 8 with 80% CI!\n",
    "# --------------------------------- #\n",
    "\n",
    "# --------------------------------- #"
   ]
  },
  {
   "cell_type": "markdown",
   "metadata": {
    "id": "fqrTLC0sEyCv"
   },
   "source": [
    "Answer here!\n",
    "\n",
    "------------------------------------------------\n",
    "\n",
    "------------------------------------------------"
   ]
  },
  {
   "cell_type": "markdown",
   "metadata": {
    "id": "kjgzdLVC57VO"
   },
   "source": [
    "## Converting to PDF\n",
    "\n",
    "Use the below cell to convert your notebook to pdf, using the instructions at the beginning of the notebook."
   ]
  },
  {
   "cell_type": "code",
   "execution_count": 93,
   "metadata": {
    "colab": {
     "base_uri": "https://localhost:8080/"
    },
    "id": "l6R_b9_959gy",
    "outputId": "9c494b0e-62ad-48a2-b3d9-c1d45a72818c"
   },
   "outputs": [
    {
     "name": "stderr",
     "output_type": "stream",
     "text": [
      "The system cannot find the path specified.\n",
      "The system cannot find the path specified.\n",
      "The system cannot find the path specified.\n",
      "'sed' is not recognized as an internal or external command,\n",
      "operable program or batch file.\n",
      "The system cannot find the path specified.\n"
     ]
    }
   ],
   "source": [
    "!apt-get update -qq > /dev/null\n",
    "!apt-get install -qq --fix-missing pandoc texlive-latex-base texlive-latex-extra > /dev/null\n",
    "!jupyter nbconvert --to latex \"/content/HW2.ipynb\" > /dev/null\n",
    "!sed -i 's/❗/!/g' /content/HW2.tex\n",
    "!pdflatex -interaction=nonstopmode -halt-on-error \"/content/HW2.tex\" > /dev/null"
   ]
  }
 ],
 "metadata": {
  "colab": {
   "provenance": []
  },
  "kernelspec": {
   "display_name": "Python [conda env:base] *",
   "language": "python",
   "name": "conda-base-py"
  },
  "language_info": {
   "codemirror_mode": {
    "name": "ipython",
    "version": 3
   },
   "file_extension": ".py",
   "mimetype": "text/x-python",
   "name": "python",
   "nbconvert_exporter": "python",
   "pygments_lexer": "ipython3",
   "version": "3.12.7"
  }
 },
 "nbformat": 4,
 "nbformat_minor": 4
}
