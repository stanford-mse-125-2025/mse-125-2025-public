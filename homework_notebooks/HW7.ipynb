{
 "cells": [
  {
   "cell_type": "markdown",
   "metadata": {
    "id": "SRfwT-nDZUqI"
   },
   "source": [
    "# Homework 7: Logistic Regression and Additive models\n",
    "\n",
    "!!! **STOP** !!!\n",
    "\n",
    "If you haven't already, please make a copy of this notebook and save to your google drive.\n",
    "This is imperative so that your work is saved as you go."
   ]
  },
  {
   "cell_type": "markdown",
   "metadata": {
    "id": "MNX0zYMUZovk"
   },
   "source": [
    "**Due Date**: Thursday May 29th at 11:59pm.\n",
    "\n",
    "**Submission Instructions**:\n",
    "- Download the notebook: Go to File --> Download --> Download .ipynb\n",
    "- Upload the notebook: Click the Files icon (left side under the Key icon) --> Click the Upload icon (left most of 4) --> Select the file you just downloaded.\n",
    "- Run the last cell in this notebook.\n",
    "- Find the new pdf file in the same location as your uploaded notebook.\n",
    "- Click the 3 vertical dots for this pdf file --> Click Download.\n",
    "- IMPORTANT: check that your pdf file has not cut off any work from your notebook.\n",
    "- Upload the pdf to Gradescope.\n",
    "\n",
    "**Learning Outcomes**:\n",
    "- Interpret and evaluate classification models.\n",
    "- Fit and interpret logistic regression models.\n",
    "- Apply additive models (DNAMite) to real-world regression data.\n",
    "- Compare model performance between linear regression and additive models."
   ]
  },
  {
   "cell_type": "markdown",
   "metadata": {
    "id": "Dk_-MZK2atN3"
   },
   "source": [
    "## Set up"
   ]
  },
  {
   "cell_type": "markdown",
   "metadata": {
    "id": "3qwfx91-bHMo"
   },
   "source": [
    "Run the cell below to import the libraries we are going to use."
   ]
  },
  {
   "cell_type": "code",
   "execution_count": 1,
   "metadata": {
    "id": "e8vG939xbNkO"
   },
   "outputs": [],
   "source": [
    "import numpy as np\n",
    "import pandas as pd\n",
    "import matplotlib.pyplot as plt\n",
    "import seaborn as sns\n",
    "sns.set_theme()\n",
    "from scipy import stats\n",
    "from statsmodels.formula.api import ols, logit"
   ]
  },
  {
   "cell_type": "markdown",
   "metadata": {
    "id": "TesZvfNgbbTX"
   },
   "source": [
    "## Exercise 1: Classification Metrics\n"
   ]
  },
  {
   "cell_type": "markdown",
   "metadata": {
    "id": "Q2EQ0etSoyQy"
   },
   "source": [
    "Consider the following confusion matrix, which compares the predictions and actual labels in a classification problem of predicting whether or not a person has COVID-19."
   ]
  },
  {
   "cell_type": "code",
   "execution_count": null,
   "metadata": {},
   "outputs": [],
   "source": [
    "from sklearn.metrics import ConfusionMatrixDisplay\n",
    "\n",
    "cm = ConfusionMatrixDisplay(confusion_matrix=np.array([[1040, 86], [101, 356]]))\n",
    "cm.plot()\n",
    "plt.title(\"Confusion Matrix for Covid Test\")"
   ]
  },
  {
   "cell_type": "markdown",
   "metadata": {
    "id": "FVzvkUx2o9Zy"
   },
   "source": [
    "**Part (a)**: Calculate the accuracy, precision, TPR, and FPR for the above classifier. You must calculate these metrics manually, without using functions available in various packages. For each metric, interpret the result and explain what the metric is measuring in the context of the problem. Use no more than 2 sentences per metric."
   ]
  },
  {
   "cell_type": "code",
   "execution_count": 9,
   "metadata": {
    "colab": {
     "base_uri": "https://localhost:8080/"
    },
    "id": "yQxLWIi3qNGm",
    "outputId": "eb48b31f-7695-4858-92e5-3f0946cf5a7e"
   },
   "outputs": [],
   "source": [
    "# Code here!\n",
    "\n"
   ]
  },
  {
   "cell_type": "markdown",
   "metadata": {
    "id": "wGeaWuy1o9W7"
   },
   "source": [
    "Answer here!\n",
    "\n"
   ]
  },
  {
   "cell_type": "markdown",
   "metadata": {
    "id": "_grC11qJZhDV"
   },
   "source": [
    "## Exercise 2: Logistic Regression"
   ]
  },
  {
   "cell_type": "markdown",
   "metadata": {
    "id": "2noAlxl8Zxrq"
   },
   "source": [
    "You decide to try to build your own model to predict whether it will rain tomorrow based on historical data. You use the following data to build your model."
   ]
  },
  {
   "cell_type": "code",
   "execution_count": null,
   "metadata": {},
   "outputs": [],
   "source": [
    "weather_df = pd.read_csv(\"https://raw.githubusercontent.com/stanford-mse-125/homework/main/data/weather.csv\")\n",
    "weather_df = weather_df.dropna().reset_index(drop=True)\n",
    "weather_df"
   ]
  },
  {
   "cell_type": "markdown",
   "metadata": {
    "id": "WNBcDXOVZrB1"
   },
   "source": [
    "**Part (a)**: Build a logistic regression model to predict `RainTomorrow` from `MinTemp` and `MaxTemp` as well as `Rainfall` from the current day. Interpret the **coefficient for `Rainfall`** in the context of the problem and  the **coefficient for `MaxTemp`**on the odds scale. Use 2 sentences for each interpretation."
   ]
  },
  {
   "cell_type": "code",
   "execution_count": 17,
   "metadata": {
    "colab": {
     "base_uri": "https://localhost:8080/",
     "height": 348
    },
    "id": "AIUNGInTaAri",
    "outputId": "13db0fec-9ab0-4556-da14-2df1f77be6a3"
   },
   "outputs": [],
   "source": [
    "# Code here!\n",
    "\n"
   ]
  },
  {
   "cell_type": "markdown",
   "metadata": {
    "id": "50wa6d1faSkE"
   },
   "source": [
    "Answer here!\n",
    "\n"
   ]
  },
  {
   "cell_type": "markdown",
   "metadata": {
    "id": "q_YAJjZWd9Ti"
   },
   "source": [
    "**Part (b)**: Plot the ROC curve for the logistic regression model from Part (a). Generate the plot manually using `matplotlib`. Do not use any external libraries or built-in ROC plotting functions. Mark and label the threshold of 0.5. Finally, include a one-sentence explanation of how you identified this point.\n"
   ]
  },
  {
   "cell_type": "code",
   "execution_count": 22,
   "metadata": {
    "colab": {
     "base_uri": "https://localhost:8080/",
     "height": 609
    },
    "id": "PPVcLS9wd84s",
    "outputId": "6afee0fb-6f5b-4408-eb2f-fd1ddc3cffae"
   },
   "outputs": [],
   "source": [
    "# Code here!\n",
    "\n"
   ]
  },
  {
   "cell_type": "markdown",
   "metadata": {
    "id": "dr0h3Lo1fJWc"
   },
   "source": [
    "Answer here!\n",
    "\n"
   ]
  },
  {
   "cell_type": "markdown",
   "metadata": {
    "id": "04p2etayXN1C"
   },
   "source": [
    "**Part (c)**: You really hate when you expect it not to rain and then it actually does. Specifically, you decide that a false negative error, i.e. predicting it won't rain when it does, is 3 times worse than a false positive, i.e. predicting it will rain when it doesn't. Use the ROC curve to find the *optimal threshold* for this setting using the gives costs for false positive and false negatives. Output the optimal threshold, as well as a plot which compares threshold vs cost."
   ]
  },
  {
   "cell_type": "code",
   "execution_count": 26,
   "metadata": {
    "colab": {
     "base_uri": "https://localhost:8080/",
     "height": 591
    },
    "id": "e-LlbGXLX0sx",
    "outputId": "49d3ca35-908e-4607-a53b-40413cd13214"
   },
   "outputs": [],
   "source": [
    "# Code here!\n",
    "\n"
   ]
  },
  {
   "cell_type": "markdown",
   "metadata": {
    "id": "qrqXRi8nYzQM"
   },
   "source": [
    "**Part (d)**: One metric that is used sometimes when false negatives and false positives have different costs is the [F-beta score](https://scikit-learn.org/stable/modules/generated/sklearn.metrics.fbeta_score.html#:~:text=Compute%20the%20F%2Dbeta%20score,recall%20in%20the%20combined%20score.), which generalizes the F1 score. Using $\\beta = 3$ and the optimal threshold determined in part (d), find the out-of-sample F-beta score using 5-fold cross validation for the given model. Set `random_state=42` in Kfold function."
   ]
  },
  {
   "cell_type": "code",
   "execution_count": 29,
   "metadata": {
    "colab": {
     "base_uri": "https://localhost:8080/"
    },
    "id": "FOy75C8UZFXQ",
    "outputId": "299b3e03-a32d-43df-caf4-a5f7472149b0"
   },
   "outputs": [],
   "source": [
    "from sklearn.model_selection import KFold\n",
    "from sklearn.metrics import fbeta_score\n",
    "\n",
    "# Code here!\n",
    "\n"
   ]
  },
  {
   "cell_type": "markdown",
   "metadata": {
    "id": "7eBEs8t_fYQB"
   },
   "source": [
    "## Exercise 3: Additive models\n"
   ]
  },
  {
   "cell_type": "markdown",
   "metadata": {
    "id": "u1ZgrnQWbgM6"
   },
   "source": [
    "Additive models offer a flexible alternative to linear models by capturing non-linear relationships between features and the outcome while maintaining interpretability. In this exercise, you'll use the `dnamite` package to fit an additive model on a subset of features from the Ames housing dataset to predict Price. Please refer to dnamite's [documentation](https://dnamite.readthedocs.io/en/latest/)."
   ]
  },
  {
   "cell_type": "code",
   "execution_count": null,
   "metadata": {},
   "outputs": [],
   "source": [
    "# Install dnamite if not installed\n",
    "%pip install dnamite"
   ]
  },
  {
   "cell_type": "code",
   "execution_count": 47,
   "metadata": {
    "id": "_y9jKikigMho"
   },
   "outputs": [],
   "source": [
    "# Import Ames Housing dataset\n",
    "\n",
    "data = pd.read_csv(\"https://raw.githubusercontent.com/stanford-mse-125-2025/mse-125-2025-public/refs/heads/main/data/ames_housing.csv\")\n",
    "\n",
    "X = data.drop(columns=[\"SalePrice\", \"Id\"])\n",
    "y = data[\"SalePrice\"]"
   ]
  },
  {
   "cell_type": "markdown",
   "metadata": {
    "id": "8e7pOT3viUdB"
   },
   "source": [
    "**Part (a):** Use the `dnamite` package (see [dnamite.readthedocs.io](https://dnamite.readthedocs.io)) to fit a model on the Ames housing dataset. Select 6 features by using `reg_param = 0.04` and `random_state=10`.\n"
   ]
  },
  {
   "cell_type": "code",
   "execution_count": null,
   "metadata": {},
   "outputs": [],
   "source": [
    "from dnamite.models import DNAMiteRegressor\n",
    "\n",
    "# Code here!\n",
    "\n"
   ]
  },
  {
   "cell_type": "markdown",
   "metadata": {
    "id": "UncFkz1wi_uS"
   },
   "source": [
    "**Part (b):** Now, fit a dnamite model on the selected features"
   ]
  },
  {
   "cell_type": "code",
   "execution_count": 52,
   "metadata": {
    "colab": {
     "base_uri": "https://localhost:8080/",
     "height": 98
    },
    "id": "80Zu916qjbvy",
    "outputId": "450ecfae-9090-4844-d270-7e7aab909e8c"
   },
   "outputs": [],
   "source": [
    "# Code here!\n",
    "\n"
   ]
  },
  {
   "cell_type": "markdown",
   "metadata": {
    "id": "4T4sFZSLgHkK"
   },
   "source": [
    "**Part (c):** Fit a linear regression model using the same 6 features selected above. Compare the R^2 of the linear model to that of the dnamite model. Briefly comment on any differences in performance."
   ]
  },
  {
   "cell_type": "code",
   "execution_count": 55,
   "metadata": {
    "colab": {
     "base_uri": "https://localhost:8080/"
    },
    "id": "6zX37Lv7j6P1",
    "outputId": "7be01a28-fc93-4c13-f0e2-13f6504bbf92"
   },
   "outputs": [],
   "source": [
    "from sklearn.metrics import r2_score\n",
    "\n",
    "# Code here!\n",
    "\n"
   ]
  },
  {
   "cell_type": "markdown",
   "metadata": {
    "id": "JQ8XzYWTj6me"
   },
   "source": [
    "Answer here!\n",
    "\n"
   ]
  },
  {
   "cell_type": "markdown",
   "metadata": {
    "id": "iUHYAeJ0l-Ez"
   },
   "source": [
    "**Part (d)**: Plot the shape function for 1stFlrSF from the dnamite model. Provide one example illustrating how its interpretation differs from the coefficient of 1stFlrSF in the linear regression model. Use no more than 3 sentences."
   ]
  },
  {
   "cell_type": "code",
   "execution_count": 59,
   "metadata": {
    "colab": {
     "base_uri": "https://localhost:8080/",
     "height": 401
    },
    "id": "37NC-GI2mLGn",
    "outputId": "2fd9747f-3a08-4fef-f2b1-9f573ce05260"
   },
   "outputs": [],
   "source": [
    "# Code here!\n",
    "\n"
   ]
  },
  {
   "cell_type": "markdown",
   "metadata": {
    "id": "RvkLTO7tnBWx"
   },
   "source": [
    "Answer here!\n",
    "\n"
   ]
  },
  {
   "cell_type": "markdown",
   "metadata": {
    "id": "kjgzdLVC57VO"
   },
   "source": [
    "## Converting to PDF\n",
    "\n",
    "Use the below cell to convert your notebook to pdf, using the instructions at the beginning of the notebook."
   ]
  },
  {
   "cell_type": "code",
   "execution_count": null,
   "metadata": {},
   "outputs": [],
   "source": [
    "!apt-get update -qq > /dev/null\n",
    "!apt-get install -qq --fix-missing pandoc texlive-latex-base texlive-latex-extra > /dev/null\n",
    "!jupyter nbconvert --to latex \"/content/HW7.ipynb\" > /dev/null\n",
    "!sed -i 's/❗/!/g' /content/HW7.tex\n",
    "!pdflatex -interaction=nonstopmode -halt-on-error \"/content/HW7.tex\" > /dev/null"
   ]
  }
 ],
 "metadata": {
  "colab": {
   "provenance": []
  },
  "kernelspec": {
   "display_name": "Python [conda env:base] *",
   "language": "python",
   "name": "conda-base-py"
  },
  "language_info": {
   "codemirror_mode": {
    "name": "ipython",
    "version": 3
   },
   "file_extension": ".py",
   "mimetype": "text/x-python",
   "name": "python",
   "nbconvert_exporter": "python",
   "pygments_lexer": "ipython3",
   "version": "3.12.7"
  }
 },
 "nbformat": 4,
 "nbformat_minor": 4
}
