{
  "cells": [
    {
      "cell_type": "markdown",
      "id": "6b3f2858",
      "metadata": {
        "id": "6b3f2858"
      },
      "source": [
        "# Homework 3: Hypothesis Testing"
      ]
    },
    {
      "cell_type": "markdown",
      "id": "Ia5iFo3B8zi8",
      "metadata": {
        "id": "Ia5iFo3B8zi8"
      },
      "source": [
        "**!!! IMPORTANT, DO NOT PROCEED BEFORE COMPLETING THE STEP BELOW !!!**\n",
        "\n",
        "If you haven't already, please make a copy of this notebook and save to your Google Drive. This is imperative so that your work is saved as you go."
      ]
    },
    {
      "cell_type": "markdown",
      "id": "MNX0zYMUZovk",
      "metadata": {
        "id": "MNX0zYMUZovk"
      },
      "source": [
        "**Due Date**: Thursday April 24th at 11:59pm.\n",
        "\n",
        "**Submission Instructions**:\n",
        "- Download the notebook: Go to File --> Download --> Download .ipynb.\n",
        "- Upload the notebook: Click the Files icon (left side under the Key icon) --> Click the Upload icon (left most of 4) --> Select the file you just downloaded.\n",
        "- Run the last cell in this notebook.\n",
        "- Find the new pdf file in the same location as your uploaded notebook.\n",
        "- Click the 3 vertical dots for this pdf file --> Click Download.\n",
        "- IMPORTANT: check that your pdf file has not cut off any work from your notebook.\n",
        "- Upload the pdf to Gradescope.\n",
        "\n",
        "**Learning Outcomes**:\n",
        "- Understand how to formulate and conduct hypothesis tests.\n",
        "- Interpret results of hypothesis tests.\n",
        "- Determine which type of test is appropriate for various contexts."
      ]
    },
    {
      "cell_type": "markdown",
      "id": "Zv_BWEj19Vaw",
      "metadata": {
        "id": "Zv_BWEj19Vaw"
      },
      "source": [
        "## Poll responses"
      ]
    },
    {
      "cell_type": "markdown",
      "id": "XiGGYoyg9ajh",
      "metadata": {
        "id": "XiGGYoyg9ajh"
      },
      "source": [
        "Remember to respond to all polls created by your group members! (~20 polls) [See assignments here](https://docs.google.com/spreadsheets/d/1NnGaO8c4BHo3Naqw0fyIrykgKp9I0Ipxx5rdpgWbSxg/edit?gid=0#gid=0)"
      ]
    },
    {
      "cell_type": "markdown",
      "id": "E03KqXvk2rNn",
      "metadata": {
        "id": "E03KqXvk2rNn"
      },
      "source": [
        "## Set up"
      ]
    },
    {
      "cell_type": "markdown",
      "id": "BzgR3bkI2s_r",
      "metadata": {
        "id": "BzgR3bkI2s_r"
      },
      "source": [
        "Run the cell below to import the libraries and packages we are going to use."
      ]
    },
    {
      "cell_type": "code",
      "execution_count": 1,
      "id": "XR__IOEm2sjE",
      "metadata": {
        "id": "XR__IOEm2sjE"
      },
      "outputs": [],
      "source": [
        "import numpy as np\n",
        "import pandas as pd\n",
        "from scipy import stats"
      ]
    },
    {
      "cell_type": "markdown",
      "id": "h6noa3TrTBxd",
      "metadata": {
        "id": "h6noa3TrTBxd"
      },
      "source": [
        "## Exercise 0"
      ]
    },
    {
      "cell_type": "markdown",
      "id": "CySVXfHz3pF0",
      "metadata": {
        "id": "CySVXfHz3pF0"
      },
      "source": [
        "We will continue building on the M&Ms experiment you began in class last week.\n",
        "\n",
        "Let's again define the following:\n",
        "\n",
        "- $p$: the *population* proportion of M&M's that are primary colored\n",
        "\n",
        "- $\\hat{p}$: the *sample* proportion of M&M's that are primary colored"
      ]
    },
    {
      "cell_type": "markdown",
      "id": "Z0m8ft29TC75",
      "metadata": {
        "id": "Z0m8ft29TC75"
      },
      "source": [
        "**Part (a):** First, recall and print your count of M&Ms from your in-class sample (Homework 2, Exercise 0) and your original point estimate for $p$ (Homework 2, Exercise 1)."
      ]
    },
    {
      "cell_type": "code",
      "execution_count": 2,
      "id": "XXdyrcf0GiuL",
      "metadata": {
        "id": "XXdyrcf0GiuL"
      },
      "outputs": [],
      "source": [
        "# Code here!\n",
        "# --------------------------------- #\n",
        "\n",
        "# --------------------------------- #"
      ]
    },
    {
      "cell_type": "markdown",
      "id": "jzO5l55w3fmH",
      "metadata": {
        "id": "jzO5l55w3fmH"
      },
      "source": [
        "## Exercise 1: Setting up a hypothesis test"
      ]
    },
    {
      "cell_type": "markdown",
      "id": "GFzcdAR7TBGH",
      "metadata": {
        "id": "GFzcdAR7TBGH"
      },
      "source": [
        "We will now use hypothesis tests to help us understand if primary colored M&Ms (blue, red, and yellow) are equally likely to be observed as non-primary colored M&Ms."
      ]
    },
    {
      "cell_type": "markdown",
      "id": "i90jauXj4v5s",
      "metadata": {
        "id": "i90jauXj4v5s"
      },
      "source": [
        "**Part (a):** Formulate a hypothesis test to test if primary colored M&Ms are equally likely as non-primary colored. State clearly the null and alternative hypotheses for your test, and define all population parameters used."
      ]
    },
    {
      "cell_type": "markdown",
      "id": "4b1b-B6mmC3g",
      "metadata": {
        "id": "4b1b-B6mmC3g"
      },
      "source": [
        "\n",
        "---\n",
        "\n",
        "Answer here!\n",
        "\n",
        "\n",
        "---\n",
        "\n"
      ]
    },
    {
      "cell_type": "markdown",
      "id": "he4H3rmjiscH",
      "metadata": {
        "id": "he4H3rmjiscH"
      },
      "source": [
        "**Part (b):** What does rejecting the null and failing to reject the null mean in the context of the problem?"
      ]
    },
    {
      "cell_type": "markdown",
      "id": "JAQLlYVrjDnn",
      "metadata": {
        "id": "JAQLlYVrjDnn"
      },
      "source": [
        "\n",
        "---\n",
        "\n",
        "Answer here!\n",
        "\n",
        "\n",
        "---\n"
      ]
    },
    {
      "cell_type": "markdown",
      "id": "x5r0CtGWkGzP",
      "metadata": {
        "id": "x5r0CtGWkGzP"
      },
      "source": [
        "**Part (c):** What would a type I error be in this context? What would a type II error be?"
      ]
    },
    {
      "cell_type": "markdown",
      "id": "8qFQKQ1LkbLI",
      "metadata": {
        "id": "8qFQKQ1LkbLI"
      },
      "source": [
        "\n",
        "---\n",
        "\n",
        "Answer here!\n",
        "\n",
        "\n",
        "---\n"
      ]
    },
    {
      "cell_type": "markdown",
      "id": "iLl7CzHukVLB",
      "metadata": {
        "id": "iLl7CzHukVLB"
      },
      "source": [
        "## Exercise 2: Conducting a hypothesis test"
      ]
    },
    {
      "cell_type": "markdown",
      "id": "1eUwW84fc-Wy",
      "metadata": {
        "id": "1eUwW84fc-Wy"
      },
      "source": [
        "**Part (a):** Calculate the standard error of the sampling distribution of $\\hat{p}$ under the null hypothesis."
      ]
    },
    {
      "cell_type": "code",
      "execution_count": 3,
      "id": "A3f8IRlodJim",
      "metadata": {
        "id": "A3f8IRlodJim"
      },
      "outputs": [],
      "source": [
        "# Code here!\n",
        "# --------------------------------- #\n",
        "\n",
        "# --------------------------------- #"
      ]
    },
    {
      "cell_type": "markdown",
      "id": "HK2cNloj67Mn",
      "metadata": {
        "id": "HK2cNloj67Mn"
      },
      "source": [
        "**Part (b):** Calculate a p-value for your hypothesis test from Exercise 1 using your point estimate and the standard error from part (a)."
      ]
    },
    {
      "cell_type": "code",
      "execution_count": 4,
      "id": "Sb-1IwZddI8T",
      "metadata": {
        "id": "Sb-1IwZddI8T"
      },
      "outputs": [],
      "source": [
        "# Code here!\n",
        "# --------------------------------- #\n",
        "\n",
        "# --------------------------------- #"
      ]
    },
    {
      "cell_type": "markdown",
      "id": "GDqbX2gpc9Kx",
      "metadata": {
        "id": "GDqbX2gpc9Kx"
      },
      "source": [
        "**Part (c):** How would you interpret this p-value in words? Using the p-value you calculated and a significance level of $\\alpha = 0.05$, what conclusion would you draw about whether primary colored and non-primary colored M&Ms are equally likely to be observed? **(Answer in 2 sentences max.)**"
      ]
    },
    {
      "cell_type": "markdown",
      "id": "xDX0QCu7iyvI",
      "metadata": {
        "id": "xDX0QCu7iyvI"
      },
      "source": [
        "\n",
        "---\n",
        "\n",
        "Answer here!\n",
        "\n",
        "\n",
        "---\n"
      ]
    },
    {
      "cell_type": "markdown",
      "id": "KntOqDsrfL0g",
      "metadata": {
        "id": "KntOqDsrfL0g"
      },
      "source": [
        "## Exercise 3"
      ]
    },
    {
      "cell_type": "markdown",
      "id": "7V0zLHwwqfp1",
      "metadata": {
        "id": "7V0zLHwwqfp1"
      },
      "source": [
        "Assume that the point estimate in your sample is 0.55. What is the minimum sample size needed in order to be able to conclude that primary colored M&Ms are more common than non-primary colored M&Ms at a significance level of 0.05? (Hint: you will first need to transform the estimator so that its approximate null distribution is standard normal N(0, 1))."
      ]
    },
    {
      "cell_type": "code",
      "execution_count": 5,
      "id": "gD7eEPhzz7kt",
      "metadata": {
        "id": "gD7eEPhzz7kt"
      },
      "outputs": [],
      "source": [
        "# Code here!\n",
        "# --------------------------------- #\n",
        "\n",
        "# --------------------------------- #"
      ]
    },
    {
      "cell_type": "markdown",
      "id": "qUeesKobMkPk",
      "metadata": {
        "id": "qUeesKobMkPk"
      },
      "source": [
        "## Ames housing data"
      ]
    },
    {
      "cell_type": "markdown",
      "id": "fSHgU8P30VFm",
      "metadata": {
        "id": "fSHgU8P30VFm"
      },
      "source": [
        "\n",
        "For exercises 4-6, we will use the Ames Housing Dataset, a well-known dataset in the field of machine learning and data analysis that contains numerical and categorical attributes of residential homes in Ames, Iowa."
      ]
    },
    {
      "cell_type": "code",
      "execution_count": 6,
      "id": "8_0oQeAayrtd",
      "metadata": {
        "colab": {
          "base_uri": "https://localhost:8080/",
          "height": 255
        },
        "id": "8_0oQeAayrtd",
        "outputId": "42262adf-23cd-4938-8502-0bfb79c510ea"
      },
      "outputs": [
        {
          "output_type": "execute_result",
          "data": {
            "text/plain": [
              "   Id  MSSubClass MSZoning  LotFrontage  LotArea Street Alley LotShape  \\\n",
              "0   1          60       RL         65.0     8450   Pave   NaN      Reg   \n",
              "1   2          20       RL         80.0     9600   Pave   NaN      Reg   \n",
              "2   3          60       RL         68.0    11250   Pave   NaN      IR1   \n",
              "3   4          70       RL         60.0     9550   Pave   NaN      IR1   \n",
              "4   5          60       RL         84.0    14260   Pave   NaN      IR1   \n",
              "\n",
              "  LandContour Utilities  ... PoolArea PoolQC Fence MiscFeature MiscVal MoSold  \\\n",
              "0         Lvl    AllPub  ...        0    NaN   NaN         NaN       0      2   \n",
              "1         Lvl    AllPub  ...        0    NaN   NaN         NaN       0      5   \n",
              "2         Lvl    AllPub  ...        0    NaN   NaN         NaN       0      9   \n",
              "3         Lvl    AllPub  ...        0    NaN   NaN         NaN       0      2   \n",
              "4         Lvl    AllPub  ...        0    NaN   NaN         NaN       0     12   \n",
              "\n",
              "  YrSold  SaleType  SaleCondition  SalePrice  \n",
              "0   2008        WD         Normal     208500  \n",
              "1   2007        WD         Normal     181500  \n",
              "2   2008        WD         Normal     223500  \n",
              "3   2006        WD        Abnorml     140000  \n",
              "4   2008        WD         Normal     250000  \n",
              "\n",
              "[5 rows x 81 columns]"
            ],
            "text/html": [
              "\n",
              "  <div id=\"df-79dc6241-95df-4309-a363-ff9a6726e721\" class=\"colab-df-container\">\n",
              "    <div>\n",
              "<style scoped>\n",
              "    .dataframe tbody tr th:only-of-type {\n",
              "        vertical-align: middle;\n",
              "    }\n",
              "\n",
              "    .dataframe tbody tr th {\n",
              "        vertical-align: top;\n",
              "    }\n",
              "\n",
              "    .dataframe thead th {\n",
              "        text-align: right;\n",
              "    }\n",
              "</style>\n",
              "<table border=\"1\" class=\"dataframe\">\n",
              "  <thead>\n",
              "    <tr style=\"text-align: right;\">\n",
              "      <th></th>\n",
              "      <th>Id</th>\n",
              "      <th>MSSubClass</th>\n",
              "      <th>MSZoning</th>\n",
              "      <th>LotFrontage</th>\n",
              "      <th>LotArea</th>\n",
              "      <th>Street</th>\n",
              "      <th>Alley</th>\n",
              "      <th>LotShape</th>\n",
              "      <th>LandContour</th>\n",
              "      <th>Utilities</th>\n",
              "      <th>...</th>\n",
              "      <th>PoolArea</th>\n",
              "      <th>PoolQC</th>\n",
              "      <th>Fence</th>\n",
              "      <th>MiscFeature</th>\n",
              "      <th>MiscVal</th>\n",
              "      <th>MoSold</th>\n",
              "      <th>YrSold</th>\n",
              "      <th>SaleType</th>\n",
              "      <th>SaleCondition</th>\n",
              "      <th>SalePrice</th>\n",
              "    </tr>\n",
              "  </thead>\n",
              "  <tbody>\n",
              "    <tr>\n",
              "      <th>0</th>\n",
              "      <td>1</td>\n",
              "      <td>60</td>\n",
              "      <td>RL</td>\n",
              "      <td>65.0</td>\n",
              "      <td>8450</td>\n",
              "      <td>Pave</td>\n",
              "      <td>NaN</td>\n",
              "      <td>Reg</td>\n",
              "      <td>Lvl</td>\n",
              "      <td>AllPub</td>\n",
              "      <td>...</td>\n",
              "      <td>0</td>\n",
              "      <td>NaN</td>\n",
              "      <td>NaN</td>\n",
              "      <td>NaN</td>\n",
              "      <td>0</td>\n",
              "      <td>2</td>\n",
              "      <td>2008</td>\n",
              "      <td>WD</td>\n",
              "      <td>Normal</td>\n",
              "      <td>208500</td>\n",
              "    </tr>\n",
              "    <tr>\n",
              "      <th>1</th>\n",
              "      <td>2</td>\n",
              "      <td>20</td>\n",
              "      <td>RL</td>\n",
              "      <td>80.0</td>\n",
              "      <td>9600</td>\n",
              "      <td>Pave</td>\n",
              "      <td>NaN</td>\n",
              "      <td>Reg</td>\n",
              "      <td>Lvl</td>\n",
              "      <td>AllPub</td>\n",
              "      <td>...</td>\n",
              "      <td>0</td>\n",
              "      <td>NaN</td>\n",
              "      <td>NaN</td>\n",
              "      <td>NaN</td>\n",
              "      <td>0</td>\n",
              "      <td>5</td>\n",
              "      <td>2007</td>\n",
              "      <td>WD</td>\n",
              "      <td>Normal</td>\n",
              "      <td>181500</td>\n",
              "    </tr>\n",
              "    <tr>\n",
              "      <th>2</th>\n",
              "      <td>3</td>\n",
              "      <td>60</td>\n",
              "      <td>RL</td>\n",
              "      <td>68.0</td>\n",
              "      <td>11250</td>\n",
              "      <td>Pave</td>\n",
              "      <td>NaN</td>\n",
              "      <td>IR1</td>\n",
              "      <td>Lvl</td>\n",
              "      <td>AllPub</td>\n",
              "      <td>...</td>\n",
              "      <td>0</td>\n",
              "      <td>NaN</td>\n",
              "      <td>NaN</td>\n",
              "      <td>NaN</td>\n",
              "      <td>0</td>\n",
              "      <td>9</td>\n",
              "      <td>2008</td>\n",
              "      <td>WD</td>\n",
              "      <td>Normal</td>\n",
              "      <td>223500</td>\n",
              "    </tr>\n",
              "    <tr>\n",
              "      <th>3</th>\n",
              "      <td>4</td>\n",
              "      <td>70</td>\n",
              "      <td>RL</td>\n",
              "      <td>60.0</td>\n",
              "      <td>9550</td>\n",
              "      <td>Pave</td>\n",
              "      <td>NaN</td>\n",
              "      <td>IR1</td>\n",
              "      <td>Lvl</td>\n",
              "      <td>AllPub</td>\n",
              "      <td>...</td>\n",
              "      <td>0</td>\n",
              "      <td>NaN</td>\n",
              "      <td>NaN</td>\n",
              "      <td>NaN</td>\n",
              "      <td>0</td>\n",
              "      <td>2</td>\n",
              "      <td>2006</td>\n",
              "      <td>WD</td>\n",
              "      <td>Abnorml</td>\n",
              "      <td>140000</td>\n",
              "    </tr>\n",
              "    <tr>\n",
              "      <th>4</th>\n",
              "      <td>5</td>\n",
              "      <td>60</td>\n",
              "      <td>RL</td>\n",
              "      <td>84.0</td>\n",
              "      <td>14260</td>\n",
              "      <td>Pave</td>\n",
              "      <td>NaN</td>\n",
              "      <td>IR1</td>\n",
              "      <td>Lvl</td>\n",
              "      <td>AllPub</td>\n",
              "      <td>...</td>\n",
              "      <td>0</td>\n",
              "      <td>NaN</td>\n",
              "      <td>NaN</td>\n",
              "      <td>NaN</td>\n",
              "      <td>0</td>\n",
              "      <td>12</td>\n",
              "      <td>2008</td>\n",
              "      <td>WD</td>\n",
              "      <td>Normal</td>\n",
              "      <td>250000</td>\n",
              "    </tr>\n",
              "  </tbody>\n",
              "</table>\n",
              "<p>5 rows × 81 columns</p>\n",
              "</div>\n",
              "    <div class=\"colab-df-buttons\">\n",
              "\n",
              "  <div class=\"colab-df-container\">\n",
              "    <button class=\"colab-df-convert\" onclick=\"convertToInteractive('df-79dc6241-95df-4309-a363-ff9a6726e721')\"\n",
              "            title=\"Convert this dataframe to an interactive table.\"\n",
              "            style=\"display:none;\">\n",
              "\n",
              "  <svg xmlns=\"http://www.w3.org/2000/svg\" height=\"24px\" viewBox=\"0 -960 960 960\">\n",
              "    <path d=\"M120-120v-720h720v720H120Zm60-500h600v-160H180v160Zm220 220h160v-160H400v160Zm0 220h160v-160H400v160ZM180-400h160v-160H180v160Zm440 0h160v-160H620v160ZM180-180h160v-160H180v160Zm440 0h160v-160H620v160Z\"/>\n",
              "  </svg>\n",
              "    </button>\n",
              "\n",
              "  <style>\n",
              "    .colab-df-container {\n",
              "      display:flex;\n",
              "      gap: 12px;\n",
              "    }\n",
              "\n",
              "    .colab-df-convert {\n",
              "      background-color: #E8F0FE;\n",
              "      border: none;\n",
              "      border-radius: 50%;\n",
              "      cursor: pointer;\n",
              "      display: none;\n",
              "      fill: #1967D2;\n",
              "      height: 32px;\n",
              "      padding: 0 0 0 0;\n",
              "      width: 32px;\n",
              "    }\n",
              "\n",
              "    .colab-df-convert:hover {\n",
              "      background-color: #E2EBFA;\n",
              "      box-shadow: 0px 1px 2px rgba(60, 64, 67, 0.3), 0px 1px 3px 1px rgba(60, 64, 67, 0.15);\n",
              "      fill: #174EA6;\n",
              "    }\n",
              "\n",
              "    .colab-df-buttons div {\n",
              "      margin-bottom: 4px;\n",
              "    }\n",
              "\n",
              "    [theme=dark] .colab-df-convert {\n",
              "      background-color: #3B4455;\n",
              "      fill: #D2E3FC;\n",
              "    }\n",
              "\n",
              "    [theme=dark] .colab-df-convert:hover {\n",
              "      background-color: #434B5C;\n",
              "      box-shadow: 0px 1px 3px 1px rgba(0, 0, 0, 0.15);\n",
              "      filter: drop-shadow(0px 1px 2px rgba(0, 0, 0, 0.3));\n",
              "      fill: #FFFFFF;\n",
              "    }\n",
              "  </style>\n",
              "\n",
              "    <script>\n",
              "      const buttonEl =\n",
              "        document.querySelector('#df-79dc6241-95df-4309-a363-ff9a6726e721 button.colab-df-convert');\n",
              "      buttonEl.style.display =\n",
              "        google.colab.kernel.accessAllowed ? 'block' : 'none';\n",
              "\n",
              "      async function convertToInteractive(key) {\n",
              "        const element = document.querySelector('#df-79dc6241-95df-4309-a363-ff9a6726e721');\n",
              "        const dataTable =\n",
              "          await google.colab.kernel.invokeFunction('convertToInteractive',\n",
              "                                                    [key], {});\n",
              "        if (!dataTable) return;\n",
              "\n",
              "        const docLinkHtml = 'Like what you see? Visit the ' +\n",
              "          '<a target=\"_blank\" href=https://colab.research.google.com/notebooks/data_table.ipynb>data table notebook</a>'\n",
              "          + ' to learn more about interactive tables.';\n",
              "        element.innerHTML = '';\n",
              "        dataTable['output_type'] = 'display_data';\n",
              "        await google.colab.output.renderOutput(dataTable, element);\n",
              "        const docLink = document.createElement('div');\n",
              "        docLink.innerHTML = docLinkHtml;\n",
              "        element.appendChild(docLink);\n",
              "      }\n",
              "    </script>\n",
              "  </div>\n",
              "\n",
              "\n",
              "<div id=\"df-ac51a13d-c0a3-4185-b33f-bf2c77fcaa04\">\n",
              "  <button class=\"colab-df-quickchart\" onclick=\"quickchart('df-ac51a13d-c0a3-4185-b33f-bf2c77fcaa04')\"\n",
              "            title=\"Suggest charts\"\n",
              "            style=\"display:none;\">\n",
              "\n",
              "<svg xmlns=\"http://www.w3.org/2000/svg\" height=\"24px\"viewBox=\"0 0 24 24\"\n",
              "     width=\"24px\">\n",
              "    <g>\n",
              "        <path d=\"M19 3H5c-1.1 0-2 .9-2 2v14c0 1.1.9 2 2 2h14c1.1 0 2-.9 2-2V5c0-1.1-.9-2-2-2zM9 17H7v-7h2v7zm4 0h-2V7h2v10zm4 0h-2v-4h2v4z\"/>\n",
              "    </g>\n",
              "</svg>\n",
              "  </button>\n",
              "\n",
              "<style>\n",
              "  .colab-df-quickchart {\n",
              "      --bg-color: #E8F0FE;\n",
              "      --fill-color: #1967D2;\n",
              "      --hover-bg-color: #E2EBFA;\n",
              "      --hover-fill-color: #174EA6;\n",
              "      --disabled-fill-color: #AAA;\n",
              "      --disabled-bg-color: #DDD;\n",
              "  }\n",
              "\n",
              "  [theme=dark] .colab-df-quickchart {\n",
              "      --bg-color: #3B4455;\n",
              "      --fill-color: #D2E3FC;\n",
              "      --hover-bg-color: #434B5C;\n",
              "      --hover-fill-color: #FFFFFF;\n",
              "      --disabled-bg-color: #3B4455;\n",
              "      --disabled-fill-color: #666;\n",
              "  }\n",
              "\n",
              "  .colab-df-quickchart {\n",
              "    background-color: var(--bg-color);\n",
              "    border: none;\n",
              "    border-radius: 50%;\n",
              "    cursor: pointer;\n",
              "    display: none;\n",
              "    fill: var(--fill-color);\n",
              "    height: 32px;\n",
              "    padding: 0;\n",
              "    width: 32px;\n",
              "  }\n",
              "\n",
              "  .colab-df-quickchart:hover {\n",
              "    background-color: var(--hover-bg-color);\n",
              "    box-shadow: 0 1px 2px rgba(60, 64, 67, 0.3), 0 1px 3px 1px rgba(60, 64, 67, 0.15);\n",
              "    fill: var(--button-hover-fill-color);\n",
              "  }\n",
              "\n",
              "  .colab-df-quickchart-complete:disabled,\n",
              "  .colab-df-quickchart-complete:disabled:hover {\n",
              "    background-color: var(--disabled-bg-color);\n",
              "    fill: var(--disabled-fill-color);\n",
              "    box-shadow: none;\n",
              "  }\n",
              "\n",
              "  .colab-df-spinner {\n",
              "    border: 2px solid var(--fill-color);\n",
              "    border-color: transparent;\n",
              "    border-bottom-color: var(--fill-color);\n",
              "    animation:\n",
              "      spin 1s steps(1) infinite;\n",
              "  }\n",
              "\n",
              "  @keyframes spin {\n",
              "    0% {\n",
              "      border-color: transparent;\n",
              "      border-bottom-color: var(--fill-color);\n",
              "      border-left-color: var(--fill-color);\n",
              "    }\n",
              "    20% {\n",
              "      border-color: transparent;\n",
              "      border-left-color: var(--fill-color);\n",
              "      border-top-color: var(--fill-color);\n",
              "    }\n",
              "    30% {\n",
              "      border-color: transparent;\n",
              "      border-left-color: var(--fill-color);\n",
              "      border-top-color: var(--fill-color);\n",
              "      border-right-color: var(--fill-color);\n",
              "    }\n",
              "    40% {\n",
              "      border-color: transparent;\n",
              "      border-right-color: var(--fill-color);\n",
              "      border-top-color: var(--fill-color);\n",
              "    }\n",
              "    60% {\n",
              "      border-color: transparent;\n",
              "      border-right-color: var(--fill-color);\n",
              "    }\n",
              "    80% {\n",
              "      border-color: transparent;\n",
              "      border-right-color: var(--fill-color);\n",
              "      border-bottom-color: var(--fill-color);\n",
              "    }\n",
              "    90% {\n",
              "      border-color: transparent;\n",
              "      border-bottom-color: var(--fill-color);\n",
              "    }\n",
              "  }\n",
              "</style>\n",
              "\n",
              "  <script>\n",
              "    async function quickchart(key) {\n",
              "      const quickchartButtonEl =\n",
              "        document.querySelector('#' + key + ' button');\n",
              "      quickchartButtonEl.disabled = true;  // To prevent multiple clicks.\n",
              "      quickchartButtonEl.classList.add('colab-df-spinner');\n",
              "      try {\n",
              "        const charts = await google.colab.kernel.invokeFunction(\n",
              "            'suggestCharts', [key], {});\n",
              "      } catch (error) {\n",
              "        console.error('Error during call to suggestCharts:', error);\n",
              "      }\n",
              "      quickchartButtonEl.classList.remove('colab-df-spinner');\n",
              "      quickchartButtonEl.classList.add('colab-df-quickchart-complete');\n",
              "    }\n",
              "    (() => {\n",
              "      let quickchartButtonEl =\n",
              "        document.querySelector('#df-ac51a13d-c0a3-4185-b33f-bf2c77fcaa04 button');\n",
              "      quickchartButtonEl.style.display =\n",
              "        google.colab.kernel.accessAllowed ? 'block' : 'none';\n",
              "    })();\n",
              "  </script>\n",
              "</div>\n",
              "\n",
              "    </div>\n",
              "  </div>\n"
            ],
            "application/vnd.google.colaboratory.intrinsic+json": {
              "type": "dataframe",
              "variable_name": "homes"
            }
          },
          "metadata": {},
          "execution_count": 6
        }
      ],
      "source": [
        "# Run this cell to retrieve and preview the Ames housing data.\n",
        "homes_url = \"https://github.com/melindaleung/Ames-Iowa-Housing-Dataset/blob/master/data/ames%20iowa%20housing.csv?raw=true\"\n",
        "homes = pd.read_csv(homes_url)\n",
        "homes.head()"
      ]
    },
    {
      "cell_type": "markdown",
      "id": "3I6AI4n11reb",
      "metadata": {
        "id": "3I6AI4n11reb"
      },
      "source": [
        "Please see [here](https://github.com/melindaleung/Ames-Iowa-Housing-Dataset/blob/master/data/data%20description.txt) for additional information about the dataset, including a comprehensive list of variables and definitions. *Note some columns are hidden from view in the preview above.*"
      ]
    },
    {
      "cell_type": "markdown",
      "id": "_GXzh2HlU2W_",
      "metadata": {
        "id": "_GXzh2HlU2W_"
      },
      "source": [
        "## Exercise 4"
      ]
    },
    {
      "cell_type": "markdown",
      "id": "StLx63x61KIM",
      "metadata": {
        "id": "StLx63x61KIM"
      },
      "source": [
        "We want to test if the presence of a fireplace is associated with the month a home sells in -- specifically, if associated with selling in the winter months (which we will define as October - March, inclusive)."
      ]
    },
    {
      "cell_type": "markdown",
      "id": "OO9yB2QaQKLb",
      "metadata": {
        "id": "OO9yB2QaQKLb"
      },
      "source": [
        "\n",
        "\n",
        "> First, let's transform the data to make this analysis simpler. We will add a new column \"SoldInWinter\" to the dataframe that has value \"Y\" if a home sold between October and March (inclusive) and \"N\" otherwise. Then we'll add another column \"HasFireplace\" to the dataframe that has value \"Y\" if a home has 1 or more fireplaces and \"N\" otherwise.\n",
        "\n"
      ]
    },
    {
      "cell_type": "code",
      "execution_count": 7,
      "id": "c0njnBOiP3xt",
      "metadata": {
        "id": "c0njnBOiP3xt"
      },
      "outputs": [],
      "source": [
        "# Run this cell to transform month sold and fireplace data\n",
        "homes['SoldInWinter'] = homes['MoSold'].apply(lambda x: 'Y' if x in [10, 11, 12, 1, 2, 3] else 'N')\n",
        "homes['HasFireplace'] = homes['Fireplaces'].apply(lambda x: 'Y' if x > 0 else 'N')"
      ]
    },
    {
      "cell_type": "markdown",
      "id": "kC-IlgArMpnY",
      "metadata": {
        "id": "kC-IlgArMpnY"
      },
      "source": [
        "**Part (a):** What type of hypothesis test should be used? Justify your answer in one sentence."
      ]
    },
    {
      "cell_type": "markdown",
      "id": "5sDVr7lUNTFw",
      "metadata": {
        "id": "5sDVr7lUNTFw"
      },
      "source": [
        "\n",
        "---\n",
        "\n",
        "Answer here!\n",
        "\n",
        "\n",
        "---\n"
      ]
    },
    {
      "cell_type": "markdown",
      "id": "pYq4XfsHNUfV",
      "metadata": {
        "id": "pYq4XfsHNUfV"
      },
      "source": [
        "**Part (b):** What are the null and alternative hypotheses of the test in context of this problem?"
      ]
    },
    {
      "cell_type": "markdown",
      "id": "kcFj9YkaN8Wb",
      "metadata": {
        "id": "kcFj9YkaN8Wb"
      },
      "source": [
        "\n",
        "---\n",
        "\n",
        "Answer here!\n",
        "\n",
        "\n",
        "---\n"
      ]
    },
    {
      "cell_type": "markdown",
      "id": "af3FR1tSN-r9",
      "metadata": {
        "id": "af3FR1tSN-r9"
      },
      "source": [
        "**Part (c):** Report your test statistic and p-value for this test (you must calculate the test statistic manually without using existing hypothesis testing functions)."
      ]
    },
    {
      "cell_type": "code",
      "execution_count": 8,
      "id": "GGiuM1_WOvSI",
      "metadata": {
        "id": "GGiuM1_WOvSI"
      },
      "outputs": [],
      "source": [
        "# Code here!\n",
        "# --------------------------------- #\n",
        "\n",
        "# --------------------------------- #"
      ]
    },
    {
      "cell_type": "markdown",
      "id": "UHXLp8IdOvoE",
      "metadata": {
        "id": "UHXLp8IdOvoE"
      },
      "source": [
        "**Part (d):** What is your conclusion? Use a significance level of $\\alpha = 0.05$."
      ]
    },
    {
      "cell_type": "markdown",
      "id": "y8qXVA7xOyK0",
      "metadata": {
        "id": "y8qXVA7xOyK0"
      },
      "source": [
        "\n",
        "---\n",
        "\n",
        "Answer here!\n",
        "\n",
        "\n",
        "---\n"
      ]
    },
    {
      "cell_type": "markdown",
      "id": "GD_d_43xTv4m",
      "metadata": {
        "id": "GD_d_43xTv4m"
      },
      "source": [
        "## Exercise 5"
      ]
    },
    {
      "cell_type": "markdown",
      "id": "RDV2Gi1BTxSz",
      "metadata": {
        "id": "RDV2Gi1BTxSz"
      },
      "source": [
        "Continuing with the Ames housing data, test if the average lot size in Ames is different than 10,000 square feet."
      ]
    },
    {
      "cell_type": "markdown",
      "id": "uBgU3SyWUIIk",
      "metadata": {
        "id": "uBgU3SyWUIIk"
      },
      "source": [
        "**Part (a):** What type of hypothesis test should be used? Justify your answer in one sentence."
      ]
    },
    {
      "cell_type": "markdown",
      "id": "dl_VB9w0V0L1",
      "metadata": {
        "id": "dl_VB9w0V0L1"
      },
      "source": [
        "\n",
        "---\n",
        "\n",
        "Answer here!\n",
        "\n",
        "\n",
        "---\n"
      ]
    },
    {
      "cell_type": "markdown",
      "id": "5wi-lGstV04w",
      "metadata": {
        "id": "5wi-lGstV04w"
      },
      "source": [
        "**Part (b):** What are the null and alternative hypotheses of the test in context of this problem?"
      ]
    },
    {
      "cell_type": "markdown",
      "id": "oy4uCLJPV1Zk",
      "metadata": {
        "id": "oy4uCLJPV1Zk"
      },
      "source": [
        "\n",
        "---\n",
        "\n",
        "Answer here!\n",
        "\n",
        "\n",
        "---\n",
        "\n"
      ]
    },
    {
      "cell_type": "markdown",
      "id": "hOJcqc-0V4El",
      "metadata": {
        "id": "hOJcqc-0V4El"
      },
      "source": [
        "**Part (c):** Report your test statistic and p-value for this test (you must calculate the test statistic manually without using existing hypothesis testing functions)."
      ]
    },
    {
      "cell_type": "code",
      "execution_count": 9,
      "id": "_ieZKWWMcEvm",
      "metadata": {
        "id": "_ieZKWWMcEvm"
      },
      "outputs": [],
      "source": [
        "# Code here!\n",
        "# --------------------------------- #\n",
        "\n",
        "# --------------------------------- #"
      ]
    },
    {
      "cell_type": "markdown",
      "id": "H3z3iYjGV7_f",
      "metadata": {
        "id": "H3z3iYjGV7_f"
      },
      "source": [
        "**Part (d):** What is your conclusion? Use a significance level of $\\alpha = 0.05$."
      ]
    },
    {
      "cell_type": "markdown",
      "id": "AzhzdAi_V3Pj",
      "metadata": {
        "id": "AzhzdAi_V3Pj"
      },
      "source": [
        "\n",
        "---\n",
        "\n",
        "Answer here!\n",
        "\n",
        "\n",
        "---\n"
      ]
    },
    {
      "cell_type": "markdown",
      "id": "jt7Ucoi5QIm7",
      "metadata": {
        "id": "jt7Ucoi5QIm7"
      },
      "source": [
        "## Exercise 6"
      ]
    },
    {
      "cell_type": "markdown",
      "id": "H3nkgJEO30dU",
      "metadata": {
        "id": "H3nkgJEO30dU"
      },
      "source": [
        "Continuing with the Ames housing data, test if the mean sale price of homes with vinyl siding exterior is different than the mean sale price of homes with brick face exterior (as defined by the 'Exterior1st' field)."
      ]
    },
    {
      "cell_type": "markdown",
      "id": "0GVQRR8RP4uj",
      "metadata": {
        "id": "0GVQRR8RP4uj"
      },
      "source": [
        "**Part (a):** What type of hypothesis test should be used? Justify your answer in one sentence."
      ]
    },
    {
      "cell_type": "markdown",
      "id": "fE_MSna5P7-L",
      "metadata": {
        "id": "fE_MSna5P7-L"
      },
      "source": [
        "\n",
        "---\n",
        "\n",
        "Answer here!\n",
        "\n",
        "\n",
        "---\n"
      ]
    },
    {
      "cell_type": "markdown",
      "id": "u2gDsCF_P6-2",
      "metadata": {
        "id": "u2gDsCF_P6-2"
      },
      "source": [
        "**Part (b):** What are the null and alternative hypotheses of the test in context of this problem?"
      ]
    },
    {
      "cell_type": "markdown",
      "id": "B8mmppdtP7qD",
      "metadata": {
        "id": "B8mmppdtP7qD"
      },
      "source": [
        "\n",
        "---\n",
        "\n",
        "Answer here!\n",
        "\n",
        "\n",
        "---\n"
      ]
    },
    {
      "cell_type": "markdown",
      "id": "MCnz8JoxP8s8",
      "metadata": {
        "id": "MCnz8JoxP8s8"
      },
      "source": [
        "**Part (c):** Report your test statistics and p-value for this test (you must calculate the test statistic manually without using existing hypothesis testing functions)."
      ]
    },
    {
      "cell_type": "code",
      "execution_count": 10,
      "id": "YkXAJSpLgAPZ",
      "metadata": {
        "id": "YkXAJSpLgAPZ"
      },
      "outputs": [],
      "source": [
        "# Code here!\n",
        "# --------------------------------- #\n",
        "\n",
        "# --------------------------------- #"
      ]
    },
    {
      "cell_type": "markdown",
      "id": "hvTMuJcGQFYL",
      "metadata": {
        "id": "hvTMuJcGQFYL"
      },
      "source": [
        "**Part (d):** What is your conclusion? Use a significance level of $\\alpha = 0.05$."
      ]
    },
    {
      "cell_type": "markdown",
      "id": "C3uPrg90QG11",
      "metadata": {
        "id": "C3uPrg90QG11"
      },
      "source": [
        "\n",
        "---\n",
        "\n",
        "Answer here!\n",
        "\n",
        "\n",
        "---\n"
      ]
    },
    {
      "cell_type": "markdown",
      "id": "kjgzdLVC57VO",
      "metadata": {
        "id": "kjgzdLVC57VO"
      },
      "source": [
        "## Converting to PDF\n",
        "\n",
        "Use the below cell to convert your notebook to pdf, using the instructions at the beginning of the notebook."
      ]
    },
    {
      "cell_type": "code",
      "execution_count": 11,
      "id": "baRe0oVqTndA",
      "metadata": {
        "id": "baRe0oVqTndA",
        "colab": {
          "base_uri": "https://localhost:8080/"
        },
        "outputId": "03083788-b358-461f-a287-195902da7797"
      },
      "outputs": [
        {
          "output_type": "stream",
          "name": "stdout",
          "text": [
            "W: Skipping acquire of configured file 'main/source/Sources' as repository 'https://r2u.stat.illinois.edu/ubuntu jammy InRelease' does not seem to provide it (sources.list entry misspelt?)\n",
            "Extracting templates from packages: 100%\n",
            "[NbConvertApp] WARNING | pattern '/content/HW3.ipynb' matched no files\n",
            "sed: can't read /content/HW3.tex: No such file or directory\n"
          ]
        }
      ],
      "source": [
        "!apt-get update -qq > /dev/null\n",
        "!apt-get install -qq --fix-missing pandoc texlive-latex-base texlive-latex-extra > /dev/null\n",
        "!jupyter nbconvert --to latex \"/content/HW3.ipynb\" > /dev/null\n",
        "!sed -i 's/❗/!/g' /content/HW3.tex\n",
        "!pdflatex -interaction=nonstopmode -halt-on-error \"/content/HW3.tex\" > /dev/null"
      ]
    }
  ],
  "metadata": {
    "colab": {
      "provenance": [],
      "toc_visible": true
    },
    "kernelspec": {
      "display_name": "default",
      "language": "python",
      "name": "python3"
    },
    "language_info": {
      "codemirror_mode": {
        "name": "ipython",
        "version": 3
      },
      "file_extension": ".py",
      "mimetype": "text/x-python",
      "name": "python",
      "nbconvert_exporter": "python",
      "pygments_lexer": "ipython3",
      "version": "3.13.2"
    }
  },
  "nbformat": 4,
  "nbformat_minor": 5
}