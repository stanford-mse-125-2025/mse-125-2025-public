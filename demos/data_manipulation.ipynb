{
 "cells": [
  {
   "cell_type": "code",
   "execution_count": 2,
   "metadata": {
    "executionInfo": {
     "elapsed": 1500,
     "status": "ok",
     "timestamp": 1742346768538,
     "user": {
      "displayName": "Mike Van Ness",
      "userId": "11943998545994500384"
     },
     "user_tz": 420
    },
    "id": "1--ZAM3q5nfH"
   },
   "outputs": [],
   "source": [
    "import numpy as np\n",
    "import pandas as pd\n",
    "import matplotlib.pyplot as plt\n",
    "import seaborn as sns\n",
    "sns.set_theme()"
   ]
  },
  {
   "cell_type": "code",
   "execution_count": 4,
   "metadata": {
    "executionInfo": {
     "elapsed": 21,
     "status": "ok",
     "timestamp": 1742347066407,
     "user": {
      "displayName": "Mike Van Ness",
      "userId": "11943998545994500384"
     },
     "user_tz": 420
    },
    "id": "r2N9XYUq-idT"
   },
   "outputs": [],
   "source": [
    "df.to_csv(\"titanic.csv\", index=False)"
   ]
  },
  {
   "cell_type": "markdown",
   "metadata": {
    "id": "VXnQY1ct6zDD"
   },
   "source": [
    "## NumPy\n",
    "\n",
    "- Stands for Numerical Python.\n",
    "- Building block for most data science packages in Python.\n",
    "\n",
    "Why is NumPy better than using regular Python data structures (lists, dictionaries, etc.)? Efficiency!\n",
    "\n",
    "- Broadcasting.\n",
    "- Vectorization."
   ]
  },
  {
   "cell_type": "code",
   "execution_count": null,
   "metadata": {
    "id": "kGg5wMYH7jLK"
   },
   "outputs": [],
   "source": [
    "# Create a basic NumPy ndarray\n",
    "# Show broadcasting arithmetic\n",
    "\n",
    "x = np.array([1, 2, 3, 4, 5])\n",
    "x = x + 1\n",
    "print(x, x.dtype)"
   ]
  },
  {
   "cell_type": "code",
   "execution_count": null,
   "metadata": {
    "id": "rVq_1Rph8CIF"
   },
   "outputs": [],
   "source": [
    "# Create two ndarrays\n",
    "# Show vectorized operations.\n",
    "\n",
    "x = np.array([1, 2, 3, 4, 5])\n",
    "y = np.array([5, 4, 3, 2, 1])\n",
    "\n",
    "# Fast vectorized operation\n",
    "z = x + y\n",
    "print(z)\n",
    "\n",
    "# Slower iterative operation (don't do this!)\n",
    "z = np.array([0, 0, 0, 0, 0])\n",
    "for i in range(5):\n",
    "  z[i] = x[i] + y[i]\n",
    "print(z)"
   ]
  },
  {
   "cell_type": "markdown",
   "metadata": {
    "id": "hrRktUba9QyF"
   },
   "source": [
    "## Pandas\n",
    "\n",
    "- Wrapper around NumPy for structured tabular data."
   ]
  }
 ],
 "metadata": {
  "colab": {
   "authorship_tag": "ABX9TyMgGv146W5aoWuxEb/+Z6qn",
   "provenance": []
  },
  "kernelspec": {
   "display_name": "Python 3",
   "name": "python3"
  },
  "language_info": {
   "name": "python"
  }
 },
 "nbformat": 4,
 "nbformat_minor": 0
}
